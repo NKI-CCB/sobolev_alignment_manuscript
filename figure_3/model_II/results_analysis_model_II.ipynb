{
 "cells": [
  {
   "cell_type": "markdown",
   "id": "dac5b658",
   "metadata": {},
   "source": [
    "# Model II: generate data, perform Sobolev Alignment and analyse results."
   ]
  },
  {
   "cell_type": "code",
   "execution_count": null,
   "id": "f40ed84e",
   "metadata": {},
   "outputs": [],
   "source": [
    "import os, sys, pylab, gc, umap, re, scanpy, torch, scipy\n",
    "import numpy as np\n",
    "import seaborn as sns\n",
    "from anndata import AnnData\n",
    "import matplotlib.pyplot as plt\n",
    "from functools import reduce\n",
    "from pickle import dump, load\n",
    "from copy import deepcopy\n",
    "import pandas as pd\n",
    "from joblib import Parallel, delayed\n",
    "import umap\n",
    "from statannot import add_stat_annotation\n",
    "from shutil import copyfile\n",
    "import rpy2\n",
    "import rpy2.robjects as robjects\n",
    "from rpy2.robjects import pandas2ri\n",
    "from sklearn.decomposition import PCA\n",
    "from time import process_time\n",
    "%config IPCompleter.use_jedi = False\n",
    "\n",
    "from sobolev_alignment import SobolevAlignment, KRRApprox"
   ]
  },
  {
   "cell_type": "code",
   "execution_count": null,
   "id": "6293a149",
   "metadata": {},
   "outputs": [],
   "source": [
    "source_palette = {'common': '#7F91D0', 'specific': '#71AB5A', 'half': 'tab:grey'}\n",
    "target_palette = {'common': '#7F91D0', 'specific': '#C89E34', 'half': 'tab:grey'}"
   ]
  },
  {
   "cell_type": "markdown",
   "id": "2f162c7d",
   "metadata": {},
   "source": [
    "## Generate data\n",
    "Call outside script to generate the data using Dyngen. <br/>\n",
    "<b>WARNING:</b> Launching this script may work better in the console, reducing the overhead of Jupyter Notebook."
   ]
  },
  {
   "cell_type": "code",
   "execution_count": null,
   "id": "a9765471",
   "metadata": {},
   "outputs": [],
   "source": [
    "!sh generate_data.sh"
   ]
  },
  {
   "cell_type": "markdown",
   "id": "81ee37b4",
   "metadata": {},
   "source": [
    "## Pre-processing\n",
    "### Import data"
   ]
  },
  {
   "cell_type": "code",
   "execution_count": null,
   "id": "ac7ec16e",
   "metadata": {
    "scrolled": true
   },
   "outputs": [],
   "source": [
    "n_targets = 5\n",
    "X_source = scanpy.read_h5ad('./data/source_dataset_%s_targets_large.h5ad'%(n_targets))\n",
    "X_target = scanpy.read_h5ad('./data/target_dataset_%s_targets_large.h5ad'%(n_targets))\n",
    "\n",
    "# Densify data\n",
    "X_source.X = np.array(X_source.X.todense())\n",
    "X_target.X = np.array(X_target.X.todense())\n",
    "\n",
    "# Change simulation as string\n",
    "X_target.obs['simulation_i'] = X_target.obs['simulation_i'].astype(str)\n",
    "X_source.obs['simulation_i'] = X_source.obs['simulation_i'].astype(str)"
   ]
  },
  {
   "cell_type": "markdown",
   "id": "8b5b80f2",
   "metadata": {},
   "source": [
    "### Potential filtering"
   ]
  },
  {
   "cell_type": "code",
   "execution_count": null,
   "id": "8b985df6",
   "metadata": {},
   "outputs": [],
   "source": [
    "def remove_target_kousekeeping_genes(X):\n",
    "    is_target = np.array(X.var.index.str.contains('Target'))\n",
    "    is_housekeeping = np.array(X.var.index.str.contains('HK'))\n",
    "    to_remove = (~is_target) & (~is_housekeeping)\n",
    "    \n",
    "    return X[:,to_remove]"
   ]
  },
  {
   "cell_type": "code",
   "execution_count": null,
   "id": "d9d598e9",
   "metadata": {},
   "outputs": [],
   "source": [
    "assert False\n",
    "X_source = remove_target_kousekeeping_genes(X_source)\n",
    "X_target = remove_target_kousekeeping_genes(X_target)"
   ]
  },
  {
   "cell_type": "markdown",
   "id": "05bad285",
   "metadata": {},
   "source": [
    "### Save data"
   ]
  },
  {
   "cell_type": "code",
   "execution_count": null,
   "id": "b9abfcbc",
   "metadata": {},
   "outputs": [],
   "source": [
    "X_combined = pd.concat({\n",
    "    'CELL_LINE': X_source.to_df(),\n",
    "    'TUMOR' : X_target.to_df()\n",
    "})\n",
    "\n",
    "# Save files\n",
    "X_combined.to_csv('./data/combined_counts.csv', sep=',')"
   ]
  },
  {
   "cell_type": "markdown",
   "id": "28cc87e2",
   "metadata": {},
   "source": [
    "## Sobolev Alignment\n",
    "Performs and save Sobolev Alignment between source and target. <br/>\n",
    "<b>WARNING:</b> Launching this script may work better in the console, reducing the overhead of Jupyter Notebook."
   ]
  },
  {
   "cell_type": "code",
   "execution_count": null,
   "id": "44fe2af9",
   "metadata": {},
   "outputs": [],
   "source": [
    "!sh launch_model_II.sh"
   ]
  },
  {
   "cell_type": "markdown",
   "id": "d0754ee7",
   "metadata": {},
   "source": [
    "## Post-processing\n",
    "### Parameters"
   ]
  },
  {
   "cell_type": "code",
   "execution_count": null,
   "id": "3f37b948",
   "metadata": {},
   "outputs": [],
   "source": [
    "output_folder = './output/'\n",
    "figure_folder = './figures/'"
   ]
  },
  {
   "cell_type": "markdown",
   "id": "33bed601",
   "metadata": {},
   "source": [
    "### Computation of factor weights"
   ]
  },
  {
   "cell_type": "code",
   "execution_count": null,
   "id": "75c0d663",
   "metadata": {
    "scrolled": true
   },
   "outputs": [],
   "source": [
    "%run ./model_II_scripts/compute_feature_weights.py -o $output_folder -j 10 -m 5"
   ]
  },
  {
   "cell_type": "markdown",
   "id": "b3e5e486",
   "metadata": {},
   "source": [
    "### Load Sobolev Alignment"
   ]
  },
  {
   "cell_type": "code",
   "execution_count": null,
   "id": "cb24aa8d",
   "metadata": {},
   "outputs": [],
   "source": [
    "# Input data\n",
    "X_combined = pd.read_csv(\n",
    "    './data/combined_counts.csv'%(output_folder),\n",
    "    sep=',', \n",
    "    index_col=[0,1]\n",
    ")\n",
    "X_source = X_combined.loc['CELL_LINE']\n",
    "X_target = X_combined.loc['TUMOR']\n",
    "X_input = {'source': X_source, 'target': X_target}"
   ]
  },
  {
   "cell_type": "code",
   "execution_count": null,
   "id": "99ecd80e",
   "metadata": {
    "scrolled": true
   },
   "outputs": [],
   "source": [
    "iter_idx = 0\n",
    "sobolev_alignment_clf = {}\n",
    "\n",
    "# Load Sobolev Alignment\n",
    "for kernel_type in ['laplacian', 'gaussian']:\n",
    "    if 'iter_%s_nu_%s'%(iter_idx, kernel_type) not in os.listdir(output_folder):\n",
    "        continue\n",
    "    sobolev_alignment_clf[kernel_type] = SobolevAlignment.load(\n",
    "        '%s/iter_%s_nu_%s/sobolev_alignment_model'%(output_folder, iter_idx, kernel_type),\n",
    "        with_krr=True,\n",
    "        with_model=False\n",
    "    )\n",
    "\n",
    "    sobolev_alignment_clf[kernel_type].training_data = {\n",
    "        'source': X_source,\n",
    "        'target': X_target\n",
    "    }\n",
    "    \n",
    "    sobolev_alignment_clf[kernel_type].krr_log_input_ = True"
   ]
  },
  {
   "cell_type": "code",
   "execution_count": null,
   "id": "809dfc06",
   "metadata": {},
   "outputs": [],
   "source": [
    "X_log_input = {\n",
    "    'source': sobolev_alignment_clf['laplacian'].approximate_krr_regressions_['source'].anchors(),\n",
    "    'target': sobolev_alignment_clf['laplacian'].approximate_krr_regressions_['target'].anchors()\n",
    "}\n",
    "\n",
    "X_log_input = {\n",
    "    x: pd.DataFrame(X_log_input[x].detach().numpy(), columns=X_source.columns)\n",
    "    for x in X_log_input\n",
    "}"
   ]
  },
  {
   "cell_type": "markdown",
   "id": "570eb2cf",
   "metadata": {},
   "source": [
    "## Goodness of fit"
   ]
  },
  {
   "cell_type": "code",
   "execution_count": null,
   "id": "e04b1b79",
   "metadata": {},
   "outputs": [],
   "source": [
    "latent_embedding = {\n",
    "    x: pd.read_csv('%s/scvi_embedding_%s.csv'%(output_folder, x), header=None, sep=' ')\n",
    "    for x in ['source', 'target']\n",
    "}"
   ]
  },
  {
   "cell_type": "code",
   "execution_count": null,
   "id": "18c60da0",
   "metadata": {},
   "outputs": [],
   "source": [
    "plt.figure(figsize=(8,3))\n",
    "prediction_latent_corr = {}\n",
    "for data_source in ['source', 'target']:\n",
    "    print('START %s'%(data_source))\n",
    "    \n",
    "    prediction_latent_corr[data_source] = []\n",
    "    krr_pred = sobolev_alignment_clf['laplacian'].approximate_krr_regressions_[data_source].transform(\n",
    "        torch.Tensor(\n",
    "            sobolev_alignment_clf['laplacian']._frobenius_normalisation(\n",
    "                data_source,\n",
    "                np.log10(X_input[data_source] + 1),\n",
    "                frob_norm_source=True\n",
    "    ).values))\n",
    "    target_spearman_corr = []\n",
    "    for x in range(krr_pred.shape[1]):\n",
    "        prediction_latent_corr[data_source].append(\n",
    "            scipy.stats.spearmanr(krr_pred[:,x], latent_embedding[data_source][x])[0]\n",
    "        )\n",
    "        \n",
    "    sns.distplot(\n",
    "        prediction_latent_corr[data_source], \n",
    "        label='CELL LINE' if data_source == 'source' else 'TUMOR',\n",
    "        kde_kws={\"lw\": 3}\n",
    "    )\n",
    "    \n",
    "plt.xlabel('Spearman correlation between\\n KRR and scVI', fontsize=20, color='black')\n",
    "plt.xticks(fontsize=15)\n",
    "plt.ylabel('Proportion', fontsize=20, color='black')\n",
    "plt.yticks([], [])\n",
    "plt.legend(fontsize=15)\n",
    "plt.tight_layout()\n",
    "plt.savefig('%s/hist_spearman_corr_reconstruction_latent.png'%(figure_folder))\n",
    "plt.show()"
   ]
  },
  {
   "cell_type": "markdown",
   "id": "cb9ea4e0",
   "metadata": {},
   "source": [
    "## Recompute all PVs (if need be)"
   ]
  },
  {
   "cell_type": "code",
   "execution_count": null,
   "id": "aa77b16a",
   "metadata": {},
   "outputs": [],
   "source": [
    "for kernel_type in sobolev_alignment_clf:\n",
    "    sobolev_alignment_clf[kernel_type]._compute_principal_vectors(all_PVs=True)\n",
    "    sobolev_alignment_clf[kernel_type].save(\n",
    "        folder='%s/iter_%s_nu_%s/sobolev_alignment_model'%(output_folder, iter_idx, kernel_type),\n",
    "        with_krr=True,\n",
    "        with_model=False\n",
    "    )"
   ]
  },
  {
   "cell_type": "markdown",
   "id": "8ba5c7b9",
   "metadata": {},
   "source": [
    "## Import corrected terms"
   ]
  },
  {
   "cell_type": "markdown",
   "id": "043b06da",
   "metadata": {},
   "source": [
    "### Linear"
   ]
  },
  {
   "cell_type": "code",
   "execution_count": null,
   "id": "f499ccc5",
   "metadata": {},
   "outputs": [],
   "source": [
    "from supporting_scripts.linear_terms_treatment import read_latent_factors\n",
    "from supporting_scripts.linear_terms_treatment import process_df\n",
    "from supporting_scripts.linear_terms_treatment import aggregate_norm_comparison\n",
    "from supporting_scripts.linear_terms_treatment import process_PV_linear_norm_comparison\n",
    "from supporting_scripts.linear_terms_treatment import correct_linear_features\n",
    "from supporting_scripts.linear_terms_treatment import assess_equality_contribution\n",
    "from supporting_scripts.linear_terms_treatment import process_linear_weights\n",
    "from supporting_scripts.linear_terms_treatment import compute_gene_std\n",
    "from supporting_scripts.linear_terms_treatment import _compute_kernel_param"
   ]
  },
  {
   "cell_type": "code",
   "execution_count": null,
   "id": "f6e0ff88",
   "metadata": {},
   "outputs": [],
   "source": [
    "# Read data\n",
    "n_iter = 0\n",
    "kernel_name = 'laplacian'\n",
    "\n",
    "source_PV_linear_features = read_latent_factors(\n",
    "    output_folder,\n",
    "    'PV_linear_weights_source_order_1',\n",
    "    n_iter,\n",
    "    kernel_name\n",
    ")\n",
    "target_PV_linear_features = read_latent_factors(\n",
    "    output_folder,\n",
    "    'PV_linear_weights_target_order_1',\n",
    "    n_iter,\n",
    "    kernel_name\n",
    ")\n",
    "\n",
    "# Process files\n",
    "source_PV_linear_features = process_df(source_PV_linear_features, square_value=True)\n",
    "target_PV_linear_features = process_df(target_PV_linear_features, square_value=True)"
   ]
  },
  {
   "cell_type": "code",
   "execution_count": null,
   "id": "6637a7a5",
   "metadata": {},
   "outputs": [],
   "source": [
    "# Format DataFrame\n",
    "source_linear_PV_norm_comparison = process_PV_linear_norm_comparison(\n",
    "    source_PV_linear_features.groupby(['kernel', 'factor', 'iter']).agg('sum'),\n",
    "    kernel_name=kernel_name\n",
    ")\n",
    "target_linear_PV_norm_comparison = process_PV_linear_norm_comparison(\n",
    "    target_PV_linear_features.groupby(['kernel', 'factor', 'iter']).agg('sum'),\n",
    "    kernel_name=kernel_name\n",
    ")\n",
    "\n",
    "# Correct scaling coefficient between Gaussian and Laplacian\n",
    "source_PV_linear_features = correct_linear_features(source_PV_linear_features, source_linear_PV_norm_comparison)\n",
    "target_PV_linear_features = correct_linear_features(target_PV_linear_features, target_linear_PV_norm_comparison)\n",
    "\n",
    "# Assert that the norm correction is correct\n",
    "if kernel_name != 'gaussian':\n",
    "    assess_equality_contribution(source_PV_linear_features)\n",
    "    assess_equality_contribution(target_PV_linear_features)\n",
    "\n",
    "# Put the matrix in form genes x P    \n",
    "source_linear_weights = process_linear_weights(source_PV_linear_features, kernel_name=kernel_name)\n",
    "target_linear_weights = process_linear_weights(target_PV_linear_features, kernel_name=kernel_name)\n",
    "\n",
    "# Process the gene names\n",
    "source_PV_linear_features['variable'] = source_PV_linear_features['variable'].str.extract(r'([A-Za-z0-9-_]*)\\^1')\n",
    "target_PV_linear_features['variable'] = target_PV_linear_features['variable'].str.extract(r'([A-Za-z0-9-_]*)\\^1')"
   ]
  },
  {
   "cell_type": "code",
   "execution_count": null,
   "id": "bb987ba5",
   "metadata": {},
   "outputs": [],
   "source": [
    "# Correct for standard deviation\n",
    "gamma = {s: _compute_kernel_param(s, sobolev_alignment_clf) for s in ['source', 'target']}\n",
    "assert gamma['source'] == gamma['target']\n",
    "gamma = gamma['source']\n",
    "\n",
    "# Compute feature-level (gene * exp offset) standard deviation\n",
    "all_genes_std = {\n",
    "    data_source: compute_gene_std(\n",
    "        X_log_input[data_source],\n",
    "        np.exp(- gamma * np.square(np.linalg.norm(X_log_input[data_source], axis=1)))\n",
    "    )\n",
    "    for data_source in ['source', 'target']\n",
    "}\n",
    "all_genes_std = {\n",
    "    data_source: pd.DataFrame(all_genes_std[data_source], index=['feature_std']).T\n",
    "    for data_source in ['source', 'target']\n",
    "}\n",
    "\n",
    "# Merge dataset and correct\n",
    "source_PV_linear_features = source_PV_linear_features.merge(\n",
    "    all_genes_std['source'],\n",
    "    left_on='variable',\n",
    "    right_index=True\n",
    ")\n",
    "target_PV_linear_features = target_PV_linear_features.merge(\n",
    "    all_genes_std['target'],\n",
    "    left_on='variable',\n",
    "    right_index=True\n",
    ")\n",
    "\n",
    "# Correct naming\n",
    "source_PV_linear_features['variable'] = source_PV_linear_features['variable'].str.replace('_TF1', '')\n",
    "target_PV_linear_features['variable'] = target_PV_linear_features['variable'].str.replace('_TF1', '')\n",
    "\n",
    "# WARNING: HAS TO BE MULTIPLIED BY STANDARD DEVIATION\n",
    "for df in [source_PV_linear_features, target_PV_linear_features]:\n",
    "    df['standardized_value'] = df['corrected_value'] * df['feature_std']"
   ]
  },
  {
   "cell_type": "code",
   "execution_count": null,
   "id": "f03d8962",
   "metadata": {},
   "outputs": [],
   "source": [
    "source_PV_linear_features = source_PV_linear_features.set_index('kernel').loc[kernel_name]\n",
    "source_PV_linear_features = source_PV_linear_features.pivot(\n",
    "    index='variable', \n",
    "    columns='factor',\n",
    "    values='standardized_value'\n",
    ")\n",
    "\n",
    "target_PV_linear_features = target_PV_linear_features.set_index('kernel').loc[kernel_name]\n",
    "target_PV_linear_features = target_PV_linear_features.pivot(\n",
    "    index='variable', \n",
    "    columns='factor',\n",
    "    values='standardized_value'\n",
    ")"
   ]
  },
  {
   "cell_type": "markdown",
   "id": "65732010",
   "metadata": {},
   "source": [
    "### Interactions"
   ]
  },
  {
   "cell_type": "code",
   "execution_count": null,
   "id": "c995c136",
   "metadata": {},
   "outputs": [],
   "source": [
    "from supporting_scripts.interaction_terms_treatment import read_interaction_weights\n",
    "from supporting_scripts.interaction_terms_treatment import compute_all_interactions_std, _compute_kernel_param"
   ]
  },
  {
   "cell_type": "code",
   "execution_count": null,
   "id": "0ccafb98",
   "metadata": {},
   "outputs": [],
   "source": [
    "iter_idx = 0\n",
    "\n",
    "source_file_radical = 'PV_linear_weights_source_order_2'\n",
    "source_interaction_scaling_coef, source_PV_interaction_features = read_interaction_weights(\n",
    "    file_radical=source_file_radical,\n",
    "    output_folder=output_folder,\n",
    "    iter_idx=iter_idx,\n",
    "    kernel_name=kernel_name\n",
    ")\n",
    "\n",
    "target_file_radical = 'PV_linear_weights_target_order_2'\n",
    "target_interaction_scaling_coef, target_PV_interaction_features = read_interaction_weights(\n",
    "    file_radical=target_file_radical,\n",
    "    output_folder=output_folder,\n",
    "    iter_idx=iter_idx,\n",
    "    kernel_name=kernel_name\n",
    ")\n",
    "gc.collect()"
   ]
  },
  {
   "cell_type": "markdown",
   "id": "fe38f69c",
   "metadata": {},
   "source": [
    "#### Correct for standard deviation"
   ]
  },
  {
   "cell_type": "code",
   "execution_count": null,
   "id": "3606d560",
   "metadata": {},
   "outputs": [],
   "source": [
    "interactions_std = {\n",
    "    data_source: compute_all_interactions_std(\n",
    "        X_log_input[data_source],\n",
    "        np.exp(- gamma * np.square(np.linalg.norm(X_log_input[data_source], axis=1)))\n",
    "    ) for data_source in X_log_input\n",
    "}\n",
    "interactions_std = {\n",
    "    data_source: pd.DataFrame(\n",
    "        reduce(lambda x,y: x + y, interactions_std[data_source]),\n",
    "        columns=['gene_A', 'gene_B', 'interaction_std']\n",
    "    ).set_index(['gene_A', 'gene_B'])\n",
    "    for data_source in interactions_std\n",
    "}"
   ]
  },
  {
   "cell_type": "code",
   "execution_count": null,
   "id": "9c96c1a7",
   "metadata": {},
   "outputs": [],
   "source": [
    "source_PV_interaction_features = pd.concat(\n",
    "    [source_PV_interaction_features, interactions_std['source']],\n",
    "    axis=1\n",
    ")\n",
    "for col in source_PV_interaction_features.columns:\n",
    "    if col == 'interactions_std':\n",
    "        continue\n",
    "    source_PV_interaction_features[col] *= source_PV_interaction_features['interaction_std']\n",
    "del source_PV_interaction_features['interaction_std']\n",
    "\n",
    "target_PV_interaction_features = pd.concat(\n",
    "    [target_PV_interaction_features, interactions_std['target']],\n",
    "    axis=1\n",
    ")\n",
    "for col in target_PV_interaction_features.columns:\n",
    "    if col == 'interactions_std':\n",
    "        continue\n",
    "    target_PV_interaction_features[col] *= target_PV_interaction_features['interaction_std']\n",
    "del target_PV_interaction_features['interaction_std']"
   ]
  },
  {
   "cell_type": "markdown",
   "id": "a8c5a00c",
   "metadata": {},
   "source": [
    "### Compute square loadings"
   ]
  },
  {
   "cell_type": "code",
   "execution_count": null,
   "id": "68507eb2",
   "metadata": {},
   "outputs": [],
   "source": [
    "for col in source_PV_linear_features.columns:\n",
    "    source_PV_linear_features['%s_squared'%(col)] = np.square(source_PV_linear_features[col])\n",
    "    source_PV_interaction_features['%s_squared'%(col)] = np.square(source_PV_interaction_features[col])\n",
    "for col in target_PV_linear_features.columns:\n",
    "    target_PV_linear_features['%s_squared'%(col)] = np.square(target_PV_linear_features[col])\n",
    "    target_PV_interaction_features['%s_squared'%(col)] = np.square(target_PV_interaction_features[col])"
   ]
  },
  {
   "cell_type": "markdown",
   "id": "fac8aa18",
   "metadata": {},
   "source": [
    "## Compute all weights"
   ]
  },
  {
   "cell_type": "code",
   "execution_count": null,
   "id": "6a450e8b",
   "metadata": {},
   "outputs": [],
   "source": [
    "def plot_contribution_prop(data_source):\n",
    "    weights = {}\n",
    "    weights_sum = {}\n",
    "\n",
    "    # Read coefficients\n",
    "    for i in range(1,5):\n",
    "        weights[i] = pd.read_pickle(\n",
    "            '%s/iter_0_nu_gaussian/PV_linear_weights_%s_order_%s.gz'%(output_folder, data_source, i),\n",
    "            compression='gzip'\n",
    "        )\n",
    "        weights_sum[i] = np.sum(np.square(weights[i]), axis=1)\n",
    "\n",
    "    # Format weights and plot\n",
    "    weights_sum_df = pd.concat(weights_sum, axis=1)\n",
    "    weights_sum_df.index = ['SPV %s'%(i+1) for i in range(weights_sum_df.shape[0])]\n",
    "    weights_sum_df.plot.bar(stacked=True, width=0.95)\n",
    "    plt.axhline(1, linestyle='--', color='black')\n",
    "    \n",
    "    plt.legend(loc='center left', bbox_to_anchor=(1, 0.5), fontsize=15).set_title('Order', prop={'size':20})\n",
    "    plt.xticks(fontsize=20, color='black')\n",
    "    plt.yticks(fontsize=15, color='black')\n",
    "    plt.ylabel('Contribution', fontsize=20, color='black')\n",
    "    plt.tight_layout()\n",
    "    \n",
    "for data_source in ['source', 'target']:\n",
    "    plot_contribution_prop(data_source)\n",
    "    plt.savefig('%s/proportion_PVs_per_order_%s.png'%(figure_folder, data_source), dpi=300)\n",
    "    plt.show()"
   ]
  },
  {
   "cell_type": "markdown",
   "id": "ab53a01b",
   "metadata": {},
   "source": [
    "## Similarity visualisation"
   ]
  },
  {
   "cell_type": "code",
   "execution_count": null,
   "id": "b51455d5",
   "metadata": {},
   "outputs": [],
   "source": [
    "n_source_PVs = source_PV_linear_features.shape[1]//2\n",
    "n_target_PVs = target_PV_linear_features.shape[1]//2"
   ]
  },
  {
   "cell_type": "code",
   "execution_count": null,
   "id": "517cd494",
   "metadata": {},
   "outputs": [],
   "source": [
    "def plot_feature_correlation_matrix(source_PV_feat, target_PV_feat, n_source_PVs, n_target_PVs):\n",
    "    # Compute correlation\n",
    "    feat_corr_matrix = pd.concat([\n",
    "        source_PV_feat[['PV %s'%(e) for e in range(n_source_PVs)]],\n",
    "        target_PV_feat[['PV %s'%(e) for e in range(n_target_PVs)]]\n",
    "    ], axis=1).corr().values[n_source_PVs:,:n_source_PVs]\n",
    "\n",
    "    # Plot the heatmap\n",
    "    ax = sns.heatmap(feat_corr_matrix, cmap='seismic_r', center=0)\n",
    "    \n",
    "    # Visualisation routines\n",
    "    cax = plt.gcf().axes[-1]\n",
    "    cax.tick_params(labelsize=15)\n",
    "    plt.xticks(\n",
    "        np.arange(n_source_PVs)+.5, ['SPV %s'%(i+1) for i in range(n_source_PVs)],\n",
    "        fontsize=15, color='black', rotation=90\n",
    "    )\n",
    "    plt.yticks(\n",
    "        np.arange(n_target_PVs)+.5, ['SPV %s'%(i+1) for i in range(n_target_PVs)],\n",
    "        fontsize=15, color='black', rotation=0\n",
    "    )\n",
    "    plt.xlabel('Source', fontsize=20, color='black')\n",
    "    plt.ylabel('Target', fontsize=20, color='black')\n",
    "    plt.tight_layout()\n",
    "\n",
    "# Linear terms\n",
    "plot_feature_correlation_matrix(\n",
    "    source_PV_linear_features, target_PV_linear_features, n_source_PVs, n_target_PVs\n",
    ")\n",
    "plt.savefig('%s/cosine_sim_linear_terms.png'%(figure_folder), dpi=300)\n",
    "plt.show()\n",
    "\n",
    "# Interaction terms\n",
    "plot_feature_correlation_matrix(\n",
    "    source_PV_interaction_features, target_PV_interaction_features, n_source_PVs, n_target_PVs\n",
    ")\n",
    "plt.savefig('%s/cosine_sim_interaction_terms.png'%(figure_folder), dpi=300)"
   ]
  },
  {
   "cell_type": "code",
   "execution_count": null,
   "id": "40cf3d24",
   "metadata": {},
   "outputs": [],
   "source": [
    "def plot_one_self_corr_matrix(PV_feat, n_PV, ax, label):\n",
    "    self_corr_matrix = pd.concat([\n",
    "        PV_feat[['PV %s'%(e) for e in range(n_PV)]],\n",
    "        PV_feat[['PV %s'%(e) for e in range(n_PV)]]\n",
    "    ], axis=1).corr().values[n_PV:,:n_PV]\n",
    "    sns.heatmap(self_corr_matrix, cmap='seismic_r', center=0, vmin=-1, vmax=1, ax=ax)\n",
    "    ax.set_xlabel(label, fontsize=20, color='black')\n",
    "    ax.set_ylabel(label, fontsize=20, color='black')\n",
    "    ax.set_xticks(np.arange(n_PV)+.5)\n",
    "    ax.set_xticklabels(['SPV %s'%(i+1) for i in range(n_PV)], fontsize=15, color='black', rotation=90)\n",
    "    ax.set_yticks(np.arange(n_PV)+.5)\n",
    "    ax.set_yticklabels(['SPV %s'%(i+1) for i in range(n_PV)], fontsize=15, color='black', rotation=0)\n",
    "\n",
    "# Linear to linear\n",
    "fig, axes = plt.subplots(1,2, figsize=(10,4))\n",
    "plot_one_self_corr_matrix(source_PV_linear_features, n_source_PVs, axes[0], 'Source')\n",
    "plot_one_self_corr_matrix(target_PV_linear_features, n_target_PVs, axes[1], 'Target')\n",
    "plt.tight_layout()\n",
    "plt.savefig('%s/self_cosine_sim_linear_terms.png'%(figure_folder), dpi=300)\n",
    "plt.show()\n",
    "\n",
    "# Interactions to interactions\n",
    "fig, axes = plt.subplots(1,2, figsize=(10,4))\n",
    "plot_one_self_corr_matrix(source_PV_interaction_features, n_source_PVs, axes[0], 'Source')\n",
    "plot_one_self_corr_matrix(target_PV_interaction_features, n_target_PVs, axes[1], 'Target')\n",
    "plt.tight_layout()\n",
    "plt.savefig('%s/self_cosine_sim_interaction_terms.png'%(figure_folder), dpi=300)\n",
    "plt.show()"
   ]
  },
  {
   "cell_type": "markdown",
   "id": "c96966c7",
   "metadata": {},
   "source": [
    "## Feature waterfall and boxplot\n",
    "### Routine"
   ]
  },
  {
   "cell_type": "code",
   "execution_count": null,
   "id": "45e4efb7",
   "metadata": {
    "code_folding": [
     0,
     12,
     52,
     53
    ]
   },
   "outputs": [],
   "source": [
    "common_genes = [\n",
    "    'Burn1', 'Burn2', 'Burn3', 'Burn4',\n",
    "    'A1', 'A2', 'A3', 'A4', 'A5',\n",
    "    'B1', 'B2', 'B3', 'B4', 'B5',\n",
    "    'C1', 'C2', 'C3', 'C4', 'C5'\n",
    "]\n",
    "individual_genes = [\n",
    "    'X1', 'X2', 'X3', 'Y1', 'Y2', 'Y3', \n",
    "    'Burn5', 'Burn6', 'Burn7', 'Burn8'\n",
    "]\n",
    "feature_renaming = {'Burn': 'Ext'}\n",
    "colors = {'common': 'tab:green', 'specific': 'tab:red', 'half': 'tab:grey'}\n",
    "\n",
    "def compute_ordered_contributions(linear_df, interactions_df, PV_number, exclusion_pattern):\n",
    "    \"\"\"\n",
    "    Takes as input interactions and linear features, stack them and order them\n",
    "    exclusion_pattern: string to remove certain genes or interactions, e.g. Y for source and\n",
    "    X for target.\n",
    "    \"\"\"\n",
    "    # Format linear features\n",
    "    combined_features_df = linear_df[['PV %s_squared'%(PV_number)]]\n",
    "    combined_features_df['gene_A'] = combined_features_df.index\n",
    "    combined_features_df['gene_B'] = 'NA'\n",
    "\n",
    "    # Concatenate linear and interaction terms and format the names\n",
    "    combined_features_df = pd.concat(\n",
    "        [combined_features_df, interactions_df[['PV %s_squared'%(PV_number)]].reset_index()],\n",
    "        axis=0\n",
    "    )\n",
    "    combined_features_df['gene_A'] = combined_features_df['gene_A'].str.extract(r'([A-Za-z0-9]*)')\n",
    "    combined_features_df['gene_B'] = combined_features_df['gene_B'].str.extract(r'([A-Za-z0-9]*)')\n",
    "    \n",
    "    # Compute feature status\n",
    "    combined_features_df['feature_status'] = combined_features_df['gene_A'].isin(common_genes).astype(int)\n",
    "    combined_features_df['feature_status'] *= (1 + (combined_features_df['gene_B'] == 'NA')).astype(int) # For genes to be in common\n",
    "    combined_features_df['feature_status'] += combined_features_df['gene_B'].isin(common_genes).astype(int)\n",
    "    combined_features_df['feature_status'] -= 1\n",
    "\n",
    "    # Remove target-specific genes for comparison\n",
    "    combined_features_df = combined_features_df.loc[\n",
    "        ~combined_features_df['gene_A'].str.contains(exclusion_pattern)\n",
    "    ]\n",
    "    combined_features_df = combined_features_df.loc[\n",
    "        ~combined_features_df['gene_B'].str.contains(exclusion_pattern)\n",
    "    ]\n",
    "    \n",
    "    feature_status_dict = {0: 'half', 1: 'common', -1: 'specific'}\n",
    "    combined_features_df['feature_status'] = combined_features_df['feature_status'].apply(\n",
    "        lambda x: feature_status_dict[x]\n",
    "    )\n",
    "\n",
    "    return combined_features_df\n",
    "\n",
    "def barplot_top_contributors(df, PV_number, palette, file_save=None, top_genes=30, ax=None):\n",
    "    plot_df = deepcopy(df)\n",
    "    plot_df = plot_df.sort_values('PV %s_squared'%(PV_number), ascending=False).reset_index(drop=True).reset_index()\n",
    "    plot_df['color'] = plot_df['feature_status'].apply(lambda x: palette[x])\n",
    "    plot_df['feat_name'] = (plot_df['gene_A'] + '-' + plot_df['gene_B']).str.replace('-NA', '')\n",
    "    for x in feature_renaming:\n",
    "        plot_df['feat_name'] = plot_df['feat_name'].str.replace(x, feature_renaming[x])\n",
    "    \n",
    "    sns.barplot(\n",
    "        data=plot_df.head(top_genes),\n",
    "        x='feat_name', y='PV %s_squared'%(PV_number), palette=plot_df['color'], ax=ax\n",
    "    )\n",
    "    if ax is None:\n",
    "        plt.xticks(fontsize=15, color='black', rotation=90)\n",
    "        plt.yticks(fontsize=15, color='black', rotation=0)\n",
    "        plt.ylabel('Loadings', fontsize=20, color='black')\n",
    "        plt.xlabel('')\n",
    "        plt.tight_layout()\n",
    "    else:\n",
    "        ax.tick_params(axis='x', labelsize=15, labelcolor='black', rotation=90)\n",
    "        ax.tick_params(axis='y', labelsize=15, labelcolor='black', rotation=0)\n",
    "        ax.set_xlabel('')\n",
    "        ax.set_ylabel('Loadings', size=20, color='black')\n",
    "    \n",
    "    if file_save is not None:\n",
    "        plt.savefig(file_save, dpi=300)\n",
    "    if ax is None:\n",
    "        plt.show()\n",
    "    del plot_df"
   ]
  },
  {
   "cell_type": "markdown",
   "id": "96a76d95",
   "metadata": {},
   "source": [
    "### Source"
   ]
  },
  {
   "cell_type": "code",
   "execution_count": null,
   "id": "04839021",
   "metadata": {
    "scrolled": true
   },
   "outputs": [],
   "source": [
    "source_combined_features_df = []\n",
    "for PV_number in range(source_PV_linear_features.shape[1] // 2):\n",
    "    combined_features_df = compute_ordered_contributions(\n",
    "        source_PV_linear_features, source_PV_interaction_features, PV_number, r'(Y|Burn7|Burn8)'\n",
    "    )\n",
    "    barplot_top_contributors(\n",
    "        combined_features_df, PV_number, top_genes=20, palette=source_palette,\n",
    "        file_save='%s/barplot_features_source_PV_%s.png'%(figure_folder, PV_number+1)\n",
    "    )\n",
    "    source_combined_features_df.append(combined_features_df.set_index(['gene_A', 'gene_B', 'feature_status']))"
   ]
  },
  {
   "cell_type": "code",
   "execution_count": null,
   "id": "8d539fab",
   "metadata": {},
   "outputs": [],
   "source": [
    "# Stacked plot of contributions\n",
    "stacked_plot_df = pd.concat(source_combined_features_df, axis=1).groupby('feature_status').agg('sum').T\n",
    "stacked_plot_df = stacked_plot_df.T / np.sum(stacked_plot_df, axis=1)\n",
    "stacked_plot_df.T.plot.bar(stacked=True, color=source_palette, width=0.9, figsize=(8,4))\n",
    "\n",
    "plt.xticks(np.arange(n_source_PVs), ['SPV %s'%(i+1) for i in np.arange(n_source_PVs)], fontsize=20, rotation=90)\n",
    "plt.yticks(fontsize=15, rotation=0)\n",
    "plt.ylabel('PV contribution', fontsize=20, color='black')\n",
    "plt.legend(loc='center left', bbox_to_anchor=(1, 0.5), fontsize=20)\n",
    "plt.tight_layout()\n",
    "plt.savefig('%s/contributions_source.png'%(figure_folder), dpi=300)\n",
    "\n",
    "del stacked_plot_df"
   ]
  },
  {
   "cell_type": "code",
   "execution_count": null,
   "id": "5c15017c",
   "metadata": {},
   "outputs": [],
   "source": [
    "if type(source_combined_features_df) != pd.DataFrame:\n",
    "    source_combined_features_df = pd.concat(source_combined_features_df, axis=1)\n",
    "source_combined_features_df['is_linear'] = source_combined_features_df.index.get_level_values('gene_B') == 'NA'\n",
    "\n",
    "# Linear features\n",
    "linear_proportion = source_combined_features_df.loc[source_combined_features_df['is_linear']]\n",
    "linear_proportion = linear_proportion / np.sum(linear_proportion)\n",
    "del linear_proportion['is_linear']\n",
    "linear_proportion = linear_proportion.groupby('feature_status').agg('sum')\n",
    "linear_proportion.T.plot.bar(stacked=True, width=0.9, figsize=(8,4), color=source_palette)\n",
    "\n",
    "plt.xticks(np.arange(n_source_PVs), ['SPV %s'%(i+1) for i in np.arange(n_source_PVs)], fontsize=20, rotation=90)\n",
    "plt.yticks(fontsize=15, rotation=0)\n",
    "plt.ylabel('PV contribution', fontsize=20, color='black')\n",
    "plt.legend(loc='center left', bbox_to_anchor=(1, 0.5), fontsize=20)\n",
    "plt.tight_layout()\n",
    "plt.savefig('%s/contributions_source_linear.png'%(figure_folder), dpi=300)\n",
    "plt.show()\n",
    "\n",
    "# Interaction features\n",
    "interaction_proportion = source_combined_features_df.loc[~source_combined_features_df['is_linear']]\n",
    "interaction_proportion = interaction_proportion / np.sum(interaction_proportion)\n",
    "del interaction_proportion['is_linear']\n",
    "\n",
    "interaction_proportion = interaction_proportion.groupby('feature_status').agg('sum')\n",
    "interaction_proportion.T.plot.bar(stacked=True, width=0.9, figsize=(8,4), color=source_palette)\n",
    "\n",
    "plt.xticks(np.arange(n_source_PVs), ['SPV %s'%(i+1) for i in np.arange(n_source_PVs)], fontsize=20, rotation=90)\n",
    "plt.yticks(fontsize=15, rotation=0)\n",
    "plt.ylabel('PV contribution', fontsize=20, color='black')\n",
    "plt.legend(loc='center left', bbox_to_anchor=(1, 0.5), fontsize=20)\n",
    "plt.tight_layout()\n",
    "plt.savefig('%s/contributions_source_interactions.png'%(figure_folder), dpi=300)\n",
    "plt.show()"
   ]
  },
  {
   "cell_type": "markdown",
   "id": "73341215",
   "metadata": {},
   "source": [
    "### Target"
   ]
  },
  {
   "cell_type": "code",
   "execution_count": null,
   "id": "1bc0a29e",
   "metadata": {
    "scrolled": true
   },
   "outputs": [],
   "source": [
    "target_combined_features_df = []\n",
    "for PV_number in range(target_PV_interaction_features.shape[1] // 2):\n",
    "    combined_features_df = compute_ordered_contributions(\n",
    "        target_PV_linear_features, target_PV_interaction_features, PV_number, r'(X|Burn5|Burn6)'\n",
    "    )\n",
    "    barplot_top_contributors(\n",
    "        combined_features_df, PV_number, top_genes=20, palette=target_palette,\n",
    "        file_save='%s/barplot_features_target_PV_%s.png'%(figure_folder, PV_number+1)\n",
    "    )\n",
    "    target_combined_features_df.append(combined_features_df.set_index(['gene_A', 'gene_B', 'feature_status']))"
   ]
  },
  {
   "cell_type": "code",
   "execution_count": null,
   "id": "4c32a8dc",
   "metadata": {},
   "outputs": [],
   "source": [
    "# Stacked plot of contributions\n",
    "stacked_plot_df = pd.concat(target_combined_features_df, axis=1).groupby('feature_status').agg('sum').T\n",
    "stacked_plot_df = stacked_plot_df.T / np.sum(stacked_plot_df, axis=1)\n",
    "stacked_plot_df.T.plot.bar(stacked=True, color=target_palette, width=0.9, figsize=(8,4))\n",
    "\n",
    "plt.xticks(np.arange(n_target_PVs), ['SPV %s'%(i+1) for i in np.arange(n_target_PVs)], fontsize=20, rotation=90)\n",
    "plt.yticks(fontsize=15, rotation=0)\n",
    "plt.ylabel('PV contribution', fontsize=20, color='black')\n",
    "plt.legend(loc='center left', bbox_to_anchor=(1, 0.5), fontsize=20)\n",
    "plt.tight_layout()\n",
    "plt.savefig('%s/contributions_target.png'%(figure_folder), dpi=300)\n",
    "\n",
    "del stacked_plot_df"
   ]
  },
  {
   "cell_type": "code",
   "execution_count": null,
   "id": "7d775290",
   "metadata": {},
   "outputs": [],
   "source": [
    "if type(target_combined_features_df) != pd.DataFrame:\n",
    "    target_combined_features_df = pd.concat(target_combined_features_df, axis=1)\n",
    "target_combined_features_df['is_linear'] = target_combined_features_df.index.get_level_values('gene_B') == 'NA'\n",
    "\n",
    "# Linear features\n",
    "linear_proportion = target_combined_features_df.loc[target_combined_features_df['is_linear']]\n",
    "linear_proportion = linear_proportion / np.sum(linear_proportion)\n",
    "del linear_proportion['is_linear']\n",
    "linear_proportion = linear_proportion.groupby('feature_status').agg('sum')\n",
    "linear_proportion.T.plot.bar(stacked=True, width=0.9, figsize=(8,4), color=target_palette)\n",
    "\n",
    "plt.xticks(np.arange(n_target_PVs), ['SPV %s'%(i+1) for i in np.arange(n_target_PVs)], fontsize=20, rotation=90)\n",
    "plt.yticks(fontsize=15, rotation=0)\n",
    "plt.ylabel('PV contribution', fontsize=20, color='black')\n",
    "plt.legend(loc='center left', bbox_to_anchor=(1, 0.5), fontsize=20)\n",
    "plt.tight_layout()\n",
    "plt.savefig('%s/contributions_target_linear.png'%(figure_folder), dpi=300)\n",
    "plt.show()\n",
    "\n",
    "# Interaction featurs\n",
    "interaction_proportion = target_combined_features_df.loc[~target_combined_features_df['is_linear']]\n",
    "interaction_proportion = interaction_proportion / np.sum(interaction_proportion)\n",
    "del interaction_proportion['is_linear']\n",
    "\n",
    "interaction_proportion = interaction_proportion.groupby('feature_status').agg('sum')\n",
    "interaction_proportion.T.plot.bar(stacked=True, width=0.9, figsize=(8,4), color=target_palette)\n",
    "\n",
    "plt.xticks(np.arange(n_target_PVs), ['SPV %s'%(i+1) for i in np.arange(n_target_PVs)], fontsize=20, rotation=90)\n",
    "plt.yticks(fontsize=15, rotation=0)\n",
    "plt.ylabel('PV contribution', fontsize=20, color='black')\n",
    "plt.legend(loc='center left', bbox_to_anchor=(1, 0.5), fontsize=20)\n",
    "plt.tight_layout()\n",
    "plt.savefig('%s/contributions_target_interactions.png'%(figure_folder), dpi=300)\n",
    "plt.show()"
   ]
  },
  {
   "cell_type": "markdown",
   "id": "f970eb9f",
   "metadata": {},
   "source": [
    "## Common plot"
   ]
  },
  {
   "cell_type": "code",
   "execution_count": null,
   "id": "bdc589d8",
   "metadata": {},
   "outputs": [],
   "source": [
    "n_number_top_genes = 10\n",
    "n_max_PV = max(source_PV_linear_features.shape[1] // 2, target_PV_linear_features.shape[1] // 2)\n",
    "fig, axes = plt.subplots(n_max_PV, 2, figsize=(10,3*n_max_PV))\n",
    "\n",
    "# Fill source barplots\n",
    "for PV_number in range(n_source_PVs):\n",
    "    combined_features_df = compute_ordered_contributions(\n",
    "        source_PV_linear_features, source_PV_interaction_features, PV_number, r'(Y|Burn7|Burn8)'\n",
    "    )\n",
    "    barplot_top_contributors(\n",
    "        combined_features_df, PV_number, top_genes=n_number_top_genes, palette=source_palette, ax=axes[PV_number, 0]\n",
    "    )\n",
    "\n",
    "# Fill target barplots\n",
    "for PV_number in range(n_target_PVs):\n",
    "    combined_features_df = compute_ordered_contributions(\n",
    "        target_PV_linear_features, target_PV_interaction_features, PV_number, r'(X|Burn5|Burn6)'\n",
    "    )\n",
    "    barplot_top_contributors(\n",
    "        combined_features_df, PV_number, top_genes=n_number_top_genes, palette=source_palette, ax=axes[PV_number, 1]\n",
    "    )\n",
    "\n",
    "# Remove empty ones\n",
    "for PV_number in range(min(n_source_PVs, n_target_PVs), n_max_PV):\n",
    "    empty_ax_idx = int(n_target_PVs < n_max_PV)\n",
    "    axes[PV_number, empty_ax_idx].spines['top'].set_visible(False)\n",
    "    axes[PV_number, empty_ax_idx].spines['right'].set_visible(False)\n",
    "    axes[PV_number, empty_ax_idx].spines['bottom'].set_visible(False)\n",
    "    axes[PV_number, empty_ax_idx].spines['left'].set_visible(False)\n",
    "    axes[PV_number, empty_ax_idx].get_xaxis().set_ticks([])\n",
    "    axes[PV_number, empty_ax_idx].get_yaxis().set_ticks([])\n",
    "\n",
    "plt.tight_layout()\n",
    "plt.savefig('%s/complete_feature_barplot.png'%(figure_folder), dpi=300)\n",
    "\n",
    "del n_max_PV, n_number_top_genes, empty_ax_idx, PV_number"
   ]
  }
 ],
 "metadata": {
  "kernelspec": {
   "display_name": "Python [conda env:.conda-sobolev_alignment]",
   "language": "python",
   "name": "conda-env-.conda-sobolev_alignment-py"
  },
  "language_info": {
   "codemirror_mode": {
    "name": "ipython",
    "version": 3
   },
   "file_extension": ".py",
   "mimetype": "text/x-python",
   "name": "python",
   "nbconvert_exporter": "python",
   "pygments_lexer": "ipython3",
   "version": "3.8.8"
  }
 },
 "nbformat": 4,
 "nbformat_minor": 5
}
