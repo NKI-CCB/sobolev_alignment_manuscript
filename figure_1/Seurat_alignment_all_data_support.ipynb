{
 "cells": [
  {
   "cell_type": "markdown",
   "id": "09e80b10",
   "metadata": {},
   "source": [
    "# Support the notebok \"Seurat_alignment_all_data\": UMAP and plotting"
   ]
  },
  {
   "cell_type": "code",
   "execution_count": null,
   "id": "1e2431fd",
   "metadata": {},
   "outputs": [],
   "source": [
    "import os, sys\n",
    "import numpy as np\n",
    "import pandas as pd\n",
    "import seaborn as sns\n",
    "import umap, pylab\n",
    "import matplotlib.pyplot as plt\n",
    "from sklearn.decomposition import PCA\n",
    "from copy import deepcopy\n",
    "\n",
    "%config IPCompleter.use_jedi = False"
   ]
  },
  {
   "cell_type": "code",
   "execution_count": null,
   "id": "a8f60948",
   "metadata": {},
   "outputs": [],
   "source": [
    "seurat_umap_file = './output/seurat/whole_UMAP.csv'%(data_file)\n",
    "\n",
    "if data_file not in os.listdir('./figures/seurat_all_data/'):\n",
    "    os.mkdir('./figures/seurat_all_data/%s'%(data_file))\n",
    "figure_folder = './figures/seurat/%s/'%(data_file)"
   ]
  },
  {
   "cell_type": "markdown",
   "id": "637203fa",
   "metadata": {},
   "source": [
    "## Import data\n",
    "### Kim et al"
   ]
  },
  {
   "cell_type": "code",
   "execution_count": null,
   "id": "093beb66",
   "metadata": {
    "code_folding": []
   },
   "outputs": [],
   "source": [
    "# Tumor data\n",
    "tumor_annot_df = pd.read_csv(\n",
    "    '../data/Kim/raw/GSE131907_Lung_Cancer_cell_annotation.txt',\n",
    "    sep='\\t'\n",
    ")\n",
    "tumor_annot_df = tumor_annot_df[['Index', 'Sample', 'Cell_type', 'Sample']]\n",
    "tumor_annot_df.columns = ['index', 'sample', 'type', 'pool']\n",
    "tumor_annot_df['specimen'] = 'TUMOR'\n",
    "\n",
    "tumor_annot_df['char_type'] = tumor_annot_df['type'] == 'Epithelial cells'\n",
    "is_non_epith = ~ tumor_annot_df['char_type']\n",
    "tumor_annot_df.loc[tumor_annot_df['char_type'], 'char_type'] = 'LUNG'\n",
    "tumor_annot_df.loc[is_non_epith, 'char_type'] = 'OTHER'"
   ]
  },
  {
   "cell_type": "code",
   "execution_count": null,
   "id": "1e68db2d",
   "metadata": {},
   "outputs": [],
   "source": [
    "# Map back to samples\n",
    "tumor_umis = pd.read_csv(\n",
    "    '../data/Kim/raw/GSE131907_Lung_Cancer_raw_UMI_matrix.txt',\n",
    "    nrows=1,\n",
    "    header=None,\n",
    "    index_col=0,\n",
    "    sep='\\t'\n",
    ").values[0].astype(str)\n",
    "\n",
    "tumor_annot_df = tumor_annot_df.set_index('index').loc[tumor_umis].reset_index()"
   ]
  },
  {
   "cell_type": "markdown",
   "id": "19c5ed53",
   "metadata": {},
   "source": [
    "### Kinker"
   ]
  },
  {
   "cell_type": "code",
   "execution_count": null,
   "id": "0f4089c8",
   "metadata": {},
   "outputs": [],
   "source": [
    "# Cell line data\n",
    "cell_line_annot_df = pd.read_csv(\n",
    "    '../data/Kinker/raw/Metadata.txt',\n",
    "    header=[0,1],\n",
    "    sep='\\t'\n",
    ")\n",
    "cell_line_annot_df.columns = cell_line_annot_df.columns.droplevel(1)\n",
    "cell_line_annot_df = cell_line_annot_df[['NAME', 'Cell_line', 'Cancer_type', 'Pool_ID']]\n",
    "cell_line_annot_df.columns = ['index', 'sample', 'type', 'pool']\n",
    "cell_line_annot_df['specimen'] = 'CELL_LINE'\n",
    "\n",
    "cell_line_annot_df['char_type'] = cell_line_annot_df['type'] == 'Lung Cancer'\n",
    "is_non_lung = ~ cell_line_annot_df['char_type']\n",
    "cell_line_annot_df.loc[cell_line_annot_df['char_type'], 'char_type'] = 'LUNG'\n",
    "cell_line_annot_df.loc[is_non_lung, 'char_type'] = 'OTHER'"
   ]
  },
  {
   "cell_type": "code",
   "execution_count": null,
   "id": "a65c76b9",
   "metadata": {},
   "outputs": [],
   "source": [
    "cell_line_cpm = pd.read_csv(\n",
    "    '../data/Kim/raw/CPM_data.txt',\n",
    "    nrows=1,\n",
    "    header=None,\n",
    "    index_col=0,\n",
    "    sep='\\t'\n",
    ").T\n",
    "cell_line_cpm.columns = ['index']\n",
    "cell_line_annot_df = cell_line_cpm.merge(cell_line_annot_df, on='index', how='left')"
   ]
  },
  {
   "cell_type": "markdown",
   "id": "c56da857",
   "metadata": {},
   "source": [
    "## Analyse integrated"
   ]
  },
  {
   "cell_type": "code",
   "execution_count": null,
   "id": "5f5d0577",
   "metadata": {},
   "outputs": [],
   "source": [
    "tumor_subsample_file = './output/seurat/subsampled_tumor_samples.csv'\n",
    "cell_line_subsample_file = './output/seurat/subsampled_cell_lines_samples.csv'\n",
    "integrated_file = './output/seurat/whole_integrated_%s.csv'\n",
    "integrated_scale_file = './output/seurat/whole_integrated_scaled.csv'\n",
    "ccle_annot_file = '../data/cell_lines/sample_info.csv'"
   ]
  },
  {
   "cell_type": "code",
   "execution_count": null,
   "id": "23c2e129",
   "metadata": {},
   "outputs": [],
   "source": [
    "cell_line_samples = pd.read_csv(cell_line_subsample_file)['x'].values.astype(str)\n",
    "cell_line_annot_df = cell_line_annot_df.set_index('index').loc[cell_line_samples].reset_index()\n",
    "ccle_annot_df = pd.read_csv(ccle_annot_file)"
   ]
  },
  {
   "cell_type": "code",
   "execution_count": null,
   "id": "c204fb31",
   "metadata": {},
   "outputs": [],
   "source": [
    "tumor_subsamples = pd.read_csv(tumor_subsample_file)['x'].values.astype(str)\n",
    "tumor_annot_df = tumor_annot_df.set_index('index').loc[tumor_subsamples].reset_index()\n",
    "annot_df = pd.concat([cell_line_annot_df, tumor_annot_df])\n",
    "annot_df = annot_df.set_index('index')"
   ]
  },
  {
   "cell_type": "code",
   "execution_count": null,
   "id": "96a48489",
   "metadata": {},
   "outputs": [],
   "source": [
    "integrated_data_df = pd.read_csv(integrated_file, index_col=0).T\n",
    "integrated_scaled_data_df = pd.read_csv(integrated_scale_file, index_col=0).T\n",
    "integrated_data_df.index = [e.replace('.', '-') for e in integrated_data_df.index]\n",
    "integrated_scaled_data_df.index = [e.replace('.', '-') for e in integrated_scaled_data_df.index]\n",
    "annot_df = annot_df.loc[integrated_data_df.index.values]\n",
    "\n",
    "assert annot_df.shape[0] == integrated_data_df.shape[0]\n",
    "assert annot_df.shape[0] == integrated_scaled_data_df.shape[0]\n",
    "np.testing.assert_array_equal(\n",
    "    integrated_scaled_data_df.index.values,\n",
    "    integrated_data_df.index.values\n",
    ")"
   ]
  },
  {
   "cell_type": "markdown",
   "id": "3ba9d7d3",
   "metadata": {},
   "source": [
    "## UMAP (from Seurat package)"
   ]
  },
  {
   "cell_type": "code",
   "execution_count": null,
   "id": "ccd713a5",
   "metadata": {},
   "outputs": [],
   "source": [
    "seurat_umap_file = './output/seurat/whole_UMAP.csv'%\n",
    "seurat_umap_df = pd.read_csv(seurat_umap_file, index_col=0)"
   ]
  },
  {
   "cell_type": "code",
   "execution_count": null,
   "id": "55b934bc",
   "metadata": {},
   "outputs": [],
   "source": [
    "seurat_umap_df = seurat_umap_df.merge(annot_df, how='left', left_index=True, right_index=True)\n",
    "seurat_umap_df = seurat_umap_df.merge(\n",
    "    ccle_annot_df, left_on='sample',  right_on='CCLE_Name',  how='left'\n",
    ")\n",
    "\n",
    "seurat_umap_df['is_nsclc'] = (seurat_umap_df['lineage_subtype'] == 'NSCLC') | (seurat_umap_df['type'] == 'Epithelial cells')\n",
    "seurat_umap_df['str']  = seurat_umap_df['is_nsclc'].apply(lambda x: 'NSCLC' if x else 'Other')\n",
    "seurat_umap_df['str'] = seurat_umap_df['specimen'] + ' ' + seurat_umap_df['str']\n",
    "seurat_umap_df['plot_str'] = [\n",
    "    'Cell-line: NSCLC' if x == 'CELL_LINE NSCLC' else (\n",
    "        'Cell-line: other' if x == 'CELL_LINE Other' else (\n",
    "            'Tumor: NSCLC' if x == 'TUMOR NSCLC'\n",
    "            else 'Tumor: micro-environment'\n",
    "        )\n",
    "    )\n",
    "    for x in seurat_umap_df['str']\n",
    "]"
   ]
  },
  {
   "cell_type": "code",
   "execution_count": null,
   "id": "fd3f5e17",
   "metadata": {},
   "outputs": [],
   "source": [
    "# All scatterplot\n",
    "plt.figure(figsize=(10,10))\n",
    "palette = {\n",
    "    'Cell-line: NSCLC': '#fc0303',#'tab:red',\n",
    "    'Cell-line: other': '#ffb0b0',#'lightcoral',\n",
    "    'Tumor: NSCLC': '#027d13',\n",
    "    'Tumor: micro-environment': '#c0fac8'\n",
    "}\n",
    "sns.scatterplot(data=seurat_umap_df.sort_values(['specimen', 'is_nsclc'], ascending=False).sample(frac=1),\n",
    "                x='UMAP_1',\n",
    "                y='UMAP_2', \n",
    "                hue='plot_str', \n",
    "                alpha=0.5,\n",
    "                palette=palette,\n",
    "                marker='x')\n",
    "plt.xlabel('UMAP 1', fontsize=25, color='black')\n",
    "plt.ylabel('UMAP 2', fontsize=25, color='black')\n",
    "plt.xticks(fontsize=20, color='black')\n",
    "plt.yticks(fontsize=20, color='black')\n",
    "plt.legend(fontsize=20, ncol=1, loc=2)\n",
    "plt.tight_layout()\n",
    "plt.savefig('%s/UMAP_seurat.png'%(figure_folder),\n",
    "dpi=300)\n",
    "plt.show()"
   ]
  },
  {
   "cell_type": "markdown",
   "id": "08ef85a5",
   "metadata": {},
   "source": [
    "## UMAP (computed in Python)"
   ]
  },
  {
   "cell_type": "code",
   "execution_count": null,
   "id": "2ba2d4ba",
   "metadata": {},
   "outputs": [],
   "source": [
    "metric = 'cosine'\n",
    "n_neighbors = 15\n",
    "min_dist = 0.9\n",
    "n_epochs = 5000\n",
    "n_pc = 50"
   ]
  },
  {
   "cell_type": "code",
   "execution_count": null,
   "id": "9a6ed557",
   "metadata": {},
   "outputs": [],
   "source": [
    "umap_integrated_clf = umap.UMAP(\n",
    "    verbose=5, \n",
    "    n_neighbors=n_neighbors,\n",
    "    metric=metric,\n",
    "    min_dist=min_dist, \n",
    "    n_components=2, \n",
    "    n_epochs=n_epochs)\n",
    "\n",
    "umap_integrated_proj = umap_integrated_clf.fit_transform(\n",
    "    PCA(n_pc).fit_transform(integrated_scaled_data_df)\n",
    ")"
   ]
  },
  {
   "cell_type": "code",
   "execution_count": null,
   "id": "870d200e",
   "metadata": {},
   "outputs": [],
   "source": [
    "umap_integrated_proj_df = pd.DataFrame(\n",
    "    umap_integrated_proj, \n",
    "    index=annot_df.index, \n",
    "    columns=['UMAP 1', 'UMAP 2'])\n",
    "umap_integrated_proj_df = umap_integrated_proj_df\n",
    "umap_integrated_proj_df = umap_integrated_proj_df.merge(annot_df, how='left', left_index=True, right_index=True)\n",
    "umap_integrated_proj_df = umap_integrated_proj_df.merge(ccle_annot_df, \n",
    "                                                        left_on='sample', \n",
    "                                                        right_on='CCLE_Name', \n",
    "                                                        how='left')\n",
    "umap_integrated_proj_df['is_nsclc'] = (umap_integrated_proj_df['lineage_subtype'] == 'NSCLC') | (umap_integrated_proj_df['type'] == 'Epithelial cells')\n",
    "umap_integrated_proj_df['str']  = umap_integrated_proj_df['is_nsclc'].apply(lambda x: 'NSCLC' if x else 'Other')\n",
    "umap_integrated_proj_df['str'] = umap_integrated_proj_df['specimen'] + ' ' + umap_integrated_proj_df['str']\n",
    "umap_integrated_proj_df['plot_str'] = [\n",
    "    'Cell-line: NSCLC' if x == 'CELL_LINE NSCLC' else (\n",
    "        'Cell-line: other' if x == 'CELL_LINE Other' else (\n",
    "            'Tumor: NSCLC' if x == 'TUMOR NSCLC'\n",
    "            else 'Tumor: micro-environment'\n",
    "        )\n",
    "    )\n",
    "    for x in umap_integrated_proj_df['str']\n",
    "]\n",
    "umap_integrated_proj_df.to_csv(seurat_umap_file.replace('whole_UMAP', 'python_UMAP'))"
   ]
  },
  {
   "cell_type": "markdown",
   "id": "4768f516",
   "metadata": {},
   "source": [
    "### Load UMAP plot values"
   ]
  },
  {
   "cell_type": "code",
   "execution_count": null,
   "id": "be7d16b6",
   "metadata": {},
   "outputs": [],
   "source": [
    "umap_integrated_proj_df = pd.read_csv(\n",
    "    seurat_umap_file.replace('whole_UMAP', 'python_UMAP'), sep=',', index_col=0\n",
    ")"
   ]
  },
  {
   "cell_type": "markdown",
   "id": "636381c6",
   "metadata": {},
   "source": [
    "### Plot UMAP"
   ]
  },
  {
   "cell_type": "code",
   "execution_count": null,
   "id": "eea5e422",
   "metadata": {},
   "outputs": [],
   "source": [
    "# All scatterplot\n",
    "palette = {\n",
    "    'Cell-line: NSCLC': '#D62728',#'tab:red',\n",
    "    'Cell-line: other': (0.984313725490196, 0.6039215686274509, 0.6),#'#F5A3A5',#'#D6ABAB',#'lightcoral',\n",
    "    'Tumor: NSCLC': (0.12156862745098039, 0.47058823529411764, 0.7058823529411765),\n",
    "    'Tumor: micro-environment': (0.6509803921568628, 0.807843137254902, 0.8901960784313725)#'#B9F1F6'\n",
    "}\n",
    "\n",
    "fig = pylab.figure(figsize=(10,10))\n",
    "figlegend = pylab.figure(figsize=(10,10))\n",
    "ax = fig.add_subplot(111)\n",
    "\n",
    "sns.scatterplot(\n",
    "    data=umap_integrated_proj_df.sort_values(['specimen', 'is_nsclc'], ascending=False).sample(frac=1),\n",
    "    x='UMAP 1', y='UMAP 2',  hue='plot_str', \n",
    "    alpha=0.5, palette=palette, marker='x', ax=ax\n",
    ")\n",
    "\n",
    "\n",
    "ax.set_xlabel('UMAP 1', fontsize=25, color='black')\n",
    "ax.set_ylabel('UMAP 2', fontsize=25, color='black')\n",
    "ax.tick_params(labelsize=20, labelcolor='black')\n",
    "plt.legend(fontsize=20, ncol=4, loc=2)\n",
    "\n",
    "pylab.figlegend(*ax.get_legend_handles_labels(), loc = 'center', ncol=2, fontsize=15)\n",
    "figlegend.tight_layout()\n",
    "figlegend.savefig('%s/UMAP_neighbors_%s_metrics_%s_mindist_%s_epochs_%s_legend.png'%(\n",
    "    figure_folder, n_neighbors, metric, min_dist, n_epochs\n",
    "),dpi=300)\n",
    "ax.get_legend().remove()\n",
    "    \n",
    "fig.tight_layout()\n",
    "fig.savefig('%s/UMAP_neighbors_%s_metrics_%s_mindist_%s_epochs_%s.png'%(\n",
    "    figure_folder, n_neighbors, metric, min_dist, n_epochs\n",
    "),dpi=300)"
   ]
  },
  {
   "cell_type": "markdown",
   "id": "d176f59f",
   "metadata": {},
   "source": [
    "## Tumors"
   ]
  },
  {
   "cell_type": "code",
   "execution_count": null,
   "id": "aa38c483",
   "metadata": {},
   "outputs": [],
   "source": [
    "# Zoomed scatterplot\n",
    "# plt.figure()\n",
    "plot_df = umap_integrated_proj_df[umap_integrated_proj_df['specimen'] == 'TUMOR']\n",
    "plot_df = plot_df.sample(plot_df.shape[0])\n",
    "markers = ['o' if x else '+' for x in plot_df['is_nsclc']]\n",
    "\n",
    "plt.figure(figsize=(10,10))\n",
    "g = sns.FacetGrid(\n",
    "    plot_df,\n",
    "    col='plot_str',\n",
    "    hue='sample',\n",
    "    palette='colorblind',\n",
    "    sharex=True,\n",
    "    sharey=True,\n",
    "    size=6\n",
    ")\n",
    "g.map(\n",
    "    sns.scatterplot,\n",
    "    'UMAP 1', \n",
    "    'UMAP 2', \n",
    "    alpha=0.5,\n",
    "    marker='x'\n",
    ")\n",
    "g.set_xlabels('UMAP 1', fontsize=20)\n",
    "g.set_ylabels('UMAP 2', fontsize=20)\n",
    "g.set_titles(col_template=\"{col_name}\", row_template=\"\", size=25, color='black')\n",
    "plt.tight_layout()\n",
    "plt.savefig('%s/UMAP_neighbors_tumors_sample_%s_metrics_%s_mindist_%s_epochs_%s.png'%(\n",
    "    figure_folder, \n",
    "    n_neighbors, \n",
    "    metric, \n",
    "    min_dist, \n",
    "    n_epochs),\n",
    "dpi=300)\n",
    "plt.show()\n",
    "\n",
    "del plot_df\n"
   ]
  }
 ],
 "metadata": {
  "kernelspec": {
   "display_name": "Python (sobolev_alignment)",
   "language": "python",
   "name": "sobolev_alignment"
  },
  "language_info": {
   "codemirror_mode": {
    "name": "ipython",
    "version": 3
   },
   "file_extension": ".py",
   "mimetype": "text/x-python",
   "name": "python",
   "nbconvert_exporter": "python",
   "pygments_lexer": "ipython3",
   "version": "3.8.8"
  }
 },
 "nbformat": 4,
 "nbformat_minor": 5
}
