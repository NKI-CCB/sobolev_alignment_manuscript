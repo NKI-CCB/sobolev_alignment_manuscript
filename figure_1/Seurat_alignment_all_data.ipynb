{
 "cells": [
  {
   "cell_type": "markdown",
   "id": "c5d019ff",
   "metadata": {},
   "source": [
    "# Seurat alignment of the whole dataset: cell lines (Kinker et al) and tumors (Kim et al)"
   ]
  },
  {
   "cell_type": "code",
   "execution_count": null,
   "id": "5ecc0b8a",
   "metadata": {},
   "outputs": [],
   "source": [
    "library(dplyr)\n",
    "library(Seurat)"
   ]
  },
  {
   "cell_type": "markdown",
   "id": "baab536b",
   "metadata": {},
   "source": [
    "## Import data\n",
    "### Tumor\n",
    "Import all tumors and reduce dataset for proto-typing"
   ]
  },
  {
   "cell_type": "code",
   "execution_count": null,
   "id": "f65f22f4",
   "metadata": {},
   "outputs": [],
   "source": [
    "# IMPORT TPM\n",
    "tumor_file <- \"../data/Kim/raw/GSE131907_Lung_Cancer_normalized_log2TPM_matrix.rds\"\n",
    "tumor_data_df <- readRDS(tumor_file)"
   ]
  },
  {
   "cell_type": "code",
   "execution_count": null,
   "id": "8771f14b",
   "metadata": {},
   "outputs": [],
   "source": [
    "n_tumor_subsamples <- 50000\n",
    "subsampled_col = sample(colnames(tumor_data_df),n_tumor_subsamples)\n",
    "write.csv(subsampled_col, './output/seurat/subsampled_tumor_samples.csv')\n",
    "subsampled_tumor_data_df <- tumor_data_df[subsampled_col]\n",
    "tumor_data_df <- NULL\n",
    "gc()"
   ]
  },
  {
   "cell_type": "markdown",
   "id": "7aea38b3",
   "metadata": {},
   "source": [
    "### Cell-lines"
   ]
  },
  {
   "cell_type": "code",
   "execution_count": null,
   "id": "ccc405d7",
   "metadata": {},
   "outputs": [],
   "source": [
    "# UNQUOTE FOR TMP\n",
    "cell_line_file <- \"../data/Kinker/raw/CPM_data.txt\"\n",
    "cell_line_data_df <- read.csv(cell_line_file, sep=\"\\t\")\n",
    "rownames(cell_line_data_df) <- cell_line_data_df$GENE\n",
    "cell_line_data_df <- subset(cell_line_data_df, select=-c(1))\n",
    "colnames(cell_line_data_df) <- gsub(\"\\\\.\", \"-\", colnames(cell_line_data_df))"
   ]
  },
  {
   "cell_type": "code",
   "execution_count": null,
   "id": "db1ed53d",
   "metadata": {},
   "outputs": [],
   "source": [
    "# Divide by 100 to downscale to tumors\n",
    "cell_line_data_df <- cell_line_data_df/100\n",
    "cell_line_data_df <- log2(cell_line_data_df+1)"
   ]
  },
  {
   "cell_type": "code",
   "execution_count": null,
   "id": "98d0a09b",
   "metadata": {},
   "outputs": [],
   "source": [
    "cell_line_pool <- read.csv('../data/Kinker/raw/Metadata.txt', sep='\\t')\n",
    "cell_line_pool <- cell_line_pool[-c(1),]\n",
    "rownames(cell_line_pool) <- cell_line_pool$NAME\n",
    "cell_line_pool <- cell_line_pool[colnames(cell_line_data_df),]\n",
    "\n",
    "write.csv(\n",
    "    colnames(cell_line_data_df), \n",
    "    './output/seurat/subsampled_cell_lines_samples.csv'\n",
    ")"
   ]
  },
  {
   "cell_type": "markdown",
   "id": "08c15982",
   "metadata": {},
   "source": [
    "### Create Seurat"
   ]
  },
  {
   "cell_type": "code",
   "execution_count": null,
   "id": "963e3068",
   "metadata": {},
   "outputs": [],
   "source": [
    "common_genes = intersect(rownames(cell_line_data_df), rownames(subsampled_tumor_data_df))"
   ]
  },
  {
   "cell_type": "code",
   "execution_count": null,
   "id": "1d688768",
   "metadata": {},
   "outputs": [],
   "source": [
    "cell_line_SC <- CreateSeuratObject(\n",
    "    cell_line_data_df[common_genes,], min.cells = 3, min.features = 200, meta.data = cell_line_pool\n",
    ")\n",
    "tumor_SC <- CreateSeuratObject(\n",
    "    subsampled_tumor_data_df[common_genes,], min.cells = 3, min.features = 200\n",
    ")\n",
    "int_list <- list(cell_line_SC, tumor_SC)"
   ]
  },
  {
   "cell_type": "code",
   "execution_count": null,
   "id": "27cfb1d1",
   "metadata": {},
   "outputs": [],
   "source": [
    "int_list <- lapply(X = int_list, FUN = function(x) {\n",
    "    x <- NormalizeData(x)\n",
    "    x <- FindVariableFeatures(x, selection.method = \"vst\", nfeatures = 2000)\n",
    "})"
   ]
  },
  {
   "cell_type": "markdown",
   "id": "789b9c53",
   "metadata": {},
   "source": [
    "## Seurat correction"
   ]
  },
  {
   "cell_type": "code",
   "execution_count": null,
   "id": "bb38c8db",
   "metadata": {},
   "outputs": [],
   "source": [
    "features <- SelectIntegrationFeatures(object.list = int_list)\n",
    "int_list <- lapply(X = int_list, FUN = function(x) {\n",
    "    x <- ScaleData(x, features = features, verbose = FALSE)\n",
    "    x <- RunPCA(x, features = features, verbose = FALSE)\n",
    "})"
   ]
  },
  {
   "cell_type": "code",
   "execution_count": null,
   "id": "53ef7a92",
   "metadata": {},
   "outputs": [],
   "source": [
    "combined.anchors <- FindIntegrationAnchors(object.list=int_list, anchor.features = features, reduction = \"rpca\")\n",
    "combined.combined <- IntegrateData(anchorset = combined.anchors)"
   ]
  },
  {
   "cell_type": "code",
   "execution_count": null,
   "id": "db203237",
   "metadata": {},
   "outputs": [],
   "source": [
    "DefaultAssay(combined.combined) <- \"integrated\"\n",
    "\n",
    "# Run the standard workflow for visualization and clustering\n",
    "combined.combined <- ScaleData(combined.combined, verbose = FALSE)\n",
    "\n",
    "write.csv(\n",
    "    combined.combined@assays$integrated@data, \n",
    "    './output/seurat/whole_integrated.csv'\n",
    ")\n",
    "write.csv(\n",
    "    combined.combined@assays$integrated@scale.data, \n",
    "    './output/seurat/whole_integrated_scaled.csv'\n",
    ")"
   ]
  },
  {
   "cell_type": "markdown",
   "id": "b9f91514",
   "metadata": {},
   "source": [
    "## Plot"
   ]
  },
  {
   "cell_type": "code",
   "execution_count": null,
   "id": "d1ae3780",
   "metadata": {},
   "outputs": [],
   "source": [
    "combined.combined <- RunPCA(combined.combined, npcs = 30, verbose = FALSE)\n",
    "combined.combined <- RunUMAP(combined.combined, reduction = \"pca\", dims = 1:30)\n",
    "combined.combined <- FindNeighbors(combined.combined, reduction = \"pca\", dims = 1:30)\n",
    "combined.combined <- FindClusters(combined.combined, resolution = 0.5)"
   ]
  },
  {
   "cell_type": "code",
   "execution_count": null,
   "id": "2bc0e8f3",
   "metadata": {},
   "outputs": [],
   "source": [
    "p1 <- DimPlot(combined.combined, reduction = \"umap\")\n",
    "write.csv(\n",
    "    p1$data,  './output/seurat/whole_UMAP.csv'\n",
    ")\n",
    "p1"
   ]
  }
 ],
 "metadata": {
  "kernelspec": {
   "display_name": "R [conda env:.conda-CCA_PRECISE]",
   "language": "R",
   "name": "conda-env-.conda-CCA_PRECISE-r"
  },
  "language_info": {
   "codemirror_mode": "r",
   "file_extension": ".r",
   "mimetype": "text/x-r-source",
   "name": "R",
   "pygments_lexer": "r",
   "version": "4.0.5"
  }
 },
 "nbformat": 4,
 "nbformat_minor": 5
}
