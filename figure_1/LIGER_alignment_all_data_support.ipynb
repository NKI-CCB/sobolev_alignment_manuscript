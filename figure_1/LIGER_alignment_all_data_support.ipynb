{
 "cells": [
  {
   "cell_type": "markdown",
   "id": "09e80b10",
   "metadata": {},
   "source": [
    "# Support the notebok \"LIGER_alignment_all_data\": UMAP and plot"
   ]
  },
  {
   "cell_type": "code",
   "execution_count": null,
   "id": "1e2431fd",
   "metadata": {},
   "outputs": [],
   "source": [
    "import os, sys\n",
    "import numpy as np\n",
    "import pandas as pd\n",
    "import seaborn as sns\n",
    "import umap\n",
    "import pylab\n",
    "import matplotlib.pyplot as plt\n",
    "from sklearn.decomposition import PCA\n",
    "from copy import deepcopy\n",
    "\n",
    "%config IPCompleter.use_jedi = False"
   ]
  },
  {
   "cell_type": "markdown",
   "id": "637203fa",
   "metadata": {},
   "source": [
    "## Import data\n",
    "### Kim"
   ]
  },
  {
   "cell_type": "code",
   "execution_count": null,
   "id": "093beb66",
   "metadata": {
    "code_folding": []
   },
   "outputs": [],
   "source": [
    "# Tumor data\n",
    "tumor_annot_df = pd.read_csv(\n",
    "    '../data/Kim/raw/GSE131907_Lung_Cancer_cell_annotation.txt',\n",
    "    sep='\\t'\n",
    ")\n",
    "tumor_annot_df = tumor_annot_df[['Index', 'Sample', 'Cell_type', 'Sample']]\n",
    "tumor_annot_df.columns = ['index', 'sample', 'type', 'pool']\n",
    "tumor_annot_df['specimen'] = 'TUMOR'\n",
    "\n",
    "tumor_annot_df['char_type'] = tumor_annot_df['type'] == 'Epithelial cells'\n",
    "is_non_epith = ~ tumor_annot_df['char_type']\n",
    "tumor_annot_df.loc[tumor_annot_df['char_type'], 'char_type'] = 'LUNG'\n",
    "tumor_annot_df.loc[is_non_epith, 'char_type'] = 'OTHER'"
   ]
  },
  {
   "cell_type": "code",
   "execution_count": null,
   "id": "1e68db2d",
   "metadata": {},
   "outputs": [],
   "source": [
    "tumor_umis = pd.read_csv(\n",
    "    '../data/Kim/raw/GSE131907_Lung_Cancer_raw_UMI_matrix.txt',\n",
    "    nrows=1,\n",
    "    header=None,\n",
    "    index_col=0,\n",
    "    sep='\\t'\n",
    ").values[0].astype(str)\n",
    "\n",
    "tumor_annot_df = tumor_annot_df.set_index('index').loc[tumor_umis].reset_index()"
   ]
  },
  {
   "cell_type": "markdown",
   "id": "495048ce",
   "metadata": {},
   "source": [
    "### Kinker"
   ]
  },
  {
   "cell_type": "code",
   "execution_count": null,
   "id": "0f4089c8",
   "metadata": {},
   "outputs": [],
   "source": [
    "# Cell line data\n",
    "cell_line_annot_df = pd.read_csv(\n",
    "    '../data/Kinker/raw/Metadata.txt',\n",
    "    header=[0,1],\n",
    "    sep='\\t'\n",
    ")\n",
    "cell_line_annot_df.columns = cell_line_annot_df.columns.droplevel(1)\n",
    "cell_line_annot_df = cell_line_annot_df[['NAME', 'Cell_line', 'Cancer_type', 'Pool_ID']]\n",
    "cell_line_annot_df.columns = ['index', 'sample', 'type', 'pool']\n",
    "cell_line_annot_df['specimen'] = 'CELL_LINE'\n",
    "\n",
    "cell_line_annot_df['char_type'] = cell_line_annot_df['type'] == 'Lung Cancer'\n",
    "is_non_lung = ~ cell_line_annot_df['char_type']\n",
    "cell_line_annot_df.loc[cell_line_annot_df['char_type'], 'char_type'] = 'LUNG'\n",
    "cell_line_annot_df.loc[is_non_lung, 'char_type'] = 'OTHER'"
   ]
  },
  {
   "cell_type": "code",
   "execution_count": null,
   "id": "a65c76b9",
   "metadata": {},
   "outputs": [],
   "source": [
    "cell_line_cpm = pd.read_csv(\n",
    "    '../data/Kinker/raw/CPM_data.txt',\n",
    "    nrows=1,\n",
    "    header=None,\n",
    "    index_col=0,\n",
    "    sep='\\t'\n",
    ").T\n",
    "cell_line_cpm.columns = ['index']\n",
    "cell_line_annot_df = cell_line_cpm.merge(cell_line_annot_df, on='index', how='left')"
   ]
  },
  {
   "cell_type": "markdown",
   "id": "c56da857",
   "metadata": {},
   "source": [
    "## Analyse integrated"
   ]
  },
  {
   "cell_type": "code",
   "execution_count": null,
   "id": "5f5d0577",
   "metadata": {},
   "outputs": [],
   "source": [
    "tumor_subsample_file = './output/liger/subsampled_tumor_samples.csv'\n",
    "cell_line_subsample_file = './output/liger/subsampled_cell_lines_samples.csv'\n",
    "cell_line_corrected_file = './output/liger/matrix_H_cell_lines.csv'\n",
    "tumor_corrected_file = './output/liger/matrix_H_tumors.csv'\n",
    "scaled_corrected_file = './output/liger/matrix_H_normalized.csv'\n",
    "ccle_annot_file = '../data/cell_lines/sample_info.csv'"
   ]
  },
  {
   "cell_type": "code",
   "execution_count": null,
   "id": "23c2e129",
   "metadata": {},
   "outputs": [],
   "source": [
    "cell_line_samples = pd.read_csv(cell_line_subsample_file)['x'].values.astype(str)\n",
    "cell_line_annot_df = cell_line_annot_df.set_index('index').loc[cell_line_samples].reset_index()"
   ]
  },
  {
   "cell_type": "code",
   "execution_count": null,
   "id": "c204fb31",
   "metadata": {},
   "outputs": [],
   "source": [
    "tumor_subsamples = pd.read_csv(tumor_subsample_file)['x'].values.astype(str)\n",
    "tumor_annot_df = tumor_annot_df.set_index('index').loc[tumor_subsamples].reset_index()\n",
    "annot_df = pd.concat([cell_line_annot_df, tumor_annot_df])\n",
    "annot_df = annot_df.set_index('index')"
   ]
  },
  {
   "cell_type": "code",
   "execution_count": null,
   "id": "a18d8524",
   "metadata": {},
   "outputs": [],
   "source": [
    "ccle_annot_df = pd.read_csv(ccle_annot_file)\n",
    "combined_quantile_normalized_df = pd.read_csv(scaled_corrected_file, index_col=0)"
   ]
  },
  {
   "cell_type": "markdown",
   "id": "b29dddd4",
   "metadata": {},
   "source": [
    "## UMAP"
   ]
  },
  {
   "cell_type": "code",
   "execution_count": null,
   "id": "9a6ed557",
   "metadata": {},
   "outputs": [],
   "source": [
    "metric = 'cosine'\n",
    "n_neighbors = 15\n",
    "min_dist = 0.9\n",
    "n_epochs = 5000\n",
    "\n",
    "umap_integrated_clf = umap.UMAP(\n",
    "    verbose=5, \n",
    "    n_neighbors=n_neighbors,\n",
    "    metric=metric,\n",
    "    min_dist=min_dist, \n",
    "    n_components=2, \n",
    "    n_epochs=n_epochs)\n",
    "\n",
    "umap_integrated_proj = umap_integrated_clf.fit_transform(combined_quantile_normalized_df)"
   ]
  },
  {
   "cell_type": "code",
   "execution_count": null,
   "id": "870d200e",
   "metadata": {},
   "outputs": [],
   "source": [
    "umap_integrated_proj_df = pd.DataFrame(\n",
    "    umap_integrated_proj, \n",
    "    index=annot_df.index, \n",
    "    columns=['UMAP 1', 'UMAP 2'])\n",
    "umap_integrated_proj_df = umap_integrated_proj_df\n",
    "umap_integrated_proj_df = umap_integrated_proj_df.merge(annot_df, how='left', left_index=True, right_index=True)\n",
    "umap_integrated_proj_df = umap_integrated_proj_df.merge(ccle_annot_df, \n",
    "                                                        left_on='sample', \n",
    "                                                        right_on='CCLE_Name', \n",
    "                                                        how='left')\n",
    "umap_integrated_proj_df['is_nsclc'] = (umap_integrated_proj_df['lineage_subtype'] == 'NSCLC') | (umap_integrated_proj_df['type'] == 'Epithelial cells')\n",
    "umap_integrated_proj_df['str']  = umap_integrated_proj_df['is_nsclc'].apply(lambda x: 'NSCLC' if x else 'Other')\n",
    "umap_integrated_proj_df['str'] = umap_integrated_proj_df['specimen'] + ' ' + umap_integrated_proj_df['str']\n",
    "umap_integrated_proj_df['plot_str'] = [\n",
    "    'Cell-line: NSCLC' if x == 'CELL_LINE NSCLC' else (\n",
    "        'Cell-line: other' if x == 'CELL_LINE Other' else (\n",
    "            'Tumor: NSCLC' if x == 'TUMOR NSCLC'\n",
    "            else 'Tumor: micro-environment'\n",
    "        )\n",
    "    )\n",
    "    for x in umap_integrated_proj_df['str']\n",
    "]\n",
    "\n",
    "# Save umap\n",
    "umap_integrated_proj_df.to_csv('./figures/liger/UMAP_df.csv'%(figure_folder))"
   ]
  },
  {
   "cell_type": "code",
   "execution_count": null,
   "id": "eea5e422",
   "metadata": {},
   "outputs": [],
   "source": [
    "# All scatterplot\n",
    "palette = {\n",
    "    'Cell-line: NSCLC': '#D62728',#'tab:red',\n",
    "    'Cell-line: other': (0.984313725490196, 0.6039215686274509, 0.6),#'#F5A3A5',#'#D6ABAB',#'lightcoral',\n",
    "    'Tumor: NSCLC': (0.12156862745098039, 0.47058823529411764, 0.7058823529411765),\n",
    "    'Tumor: micro-environment': (0.6509803921568628, 0.807843137254902, 0.8901960784313725)#'#B9F1F6'\n",
    "}\n",
    "\n",
    "fig = pylab.figure(figsize=(10,10))\n",
    "figlegend = pylab.figure(figsize=(10,10))\n",
    "ax = fig.add_subplot(111)\n",
    "\n",
    "sns.scatterplot(\n",
    "    data=umap_integrated_proj_df.sort_values(['specimen', 'is_nsclc'], ascending=False).sample(frac=1),\n",
    "    x='UMAP 1', y='UMAP 2',  hue='plot_str', \n",
    "    alpha=0.8, palette=palette, marker='x', ax=ax\n",
    ")\n",
    "ax.set_xlabel('UMAP 1', fontsize=25, color='black')\n",
    "ax.set_ylabel('UMAP 2', fontsize=25, color='black')\n",
    "ax.tick_params(labelsize=20, labelcolor='black')\n",
    "\n",
    "pylab.figlegend(*ax.get_legend_handles_labels(), loc = 'center', ncol=1, fontsize=15)\n",
    "figlegend.tight_layout()\n",
    "figlegend.savefig('./figures/liger/UMAP_neighbors_%s_metrics_%s_mindist_%s_epochs_%s_legend.png'%(\n",
    "    n_neighbors, metric, min_dist, n_epochs\n",
    "), dpi=300)\n",
    "ax.get_legend().remove()\n",
    "    \n",
    "fig.tight_layout()\n",
    "fig.savefig('./figures/liger/UMAP_neighbors_%s_metrics_%s_mindist_%s_epochs_%s.png'%(\n",
    "    n_neighbors, metric, min_dist, n_epochs\n",
    "), dpi=300)"
   ]
  },
  {
   "cell_type": "markdown",
   "id": "4a21a03d",
   "metadata": {},
   "source": [
    "## Tumors"
   ]
  },
  {
   "cell_type": "code",
   "execution_count": null,
   "id": "93460426",
   "metadata": {},
   "outputs": [],
   "source": [
    "# Zoomed scatterplot\n",
    "plot_df = umap_integrated_proj_df[umap_integrated_proj_df['specimen'] == 'TUMOR']\n",
    "plot_df = plot_df.sample(plot_df.shape[0])\n",
    "markers = ['o' if x else '+' for x in plot_df['is_nsclc']]\n",
    "\n",
    "plt.figure(figsize=(10,10))\n",
    "g = sns.FacetGrid(\n",
    "    plot_df,\n",
    "    col='plot_str',\n",
    "    hue='sample',\n",
    "    palette='colorblind',\n",
    "    sharex=True,\n",
    "    sharey=True,\n",
    "    size=6\n",
    ")\n",
    "g.map(\n",
    "    sns.scatterplot,\n",
    "    'UMAP 1', \n",
    "    'UMAP 2', \n",
    "    alpha=0.5,\n",
    "    marker='x'\n",
    ")\n",
    "g.set_xlabels('UMAP 1', fontsize=20)\n",
    "g.set_ylabels('UMAP 2', fontsize=20)\n",
    "g.set_titles(col_template=\"{col_name}\", row_template=\"\", size=25, color='black')\n",
    "plt.tight_layout()\n",
    "plt.savefig('./figures/liger/UMAP_neighbors_tumors_sample_%s_metrics_%s_mindist_%s_epochs_%s.png'%(\n",
    "    n_neighbors, metric, min_dist, n_epochs),\n",
    "dpi=300)\n",
    "plt.show()\n",
    "\n",
    "del plot_df"
   ]
  },
  {
   "cell_type": "markdown",
   "id": "e08896cf",
   "metadata": {},
   "source": [
    "## Cell-lines"
   ]
  },
  {
   "cell_type": "code",
   "execution_count": null,
   "id": "434e9ee4",
   "metadata": {
    "code_folding": []
   },
   "outputs": [],
   "source": [
    "# Zoomed scatterplot\n",
    "plt.figure(figsize=(10,10))\n",
    "g = sns.scatterplot(data=umap_integrated_proj_df[umap_integrated_proj_df['specimen'] == 'CELL_LINE'], \n",
    "                    x='UMAP 1',\n",
    "                    y='UMAP 2', \n",
    "                    hue='sample', \n",
    "                    palette='colorblind',\n",
    "                    alpha=0.5, \n",
    "                    marker='x')\n",
    "plt.xlabel('UMAP 1', fontsize=20, color='black')\n",
    "plt.ylabel('UMAP 2', fontsize=20, color='black')\n",
    "plt.xticks(fontsize=15, color='black')\n",
    "plt.yticks(fontsize=15, color='black')\n",
    "plt.legend([],[], frameon=False)\n",
    "plt.tight_layout()\n",
    "plt.savefig('%s/UMAP_neighbors_cell_lines_sample_%s_metrics_%s_mindist_%s_epochs_%s.png'%(\n",
    "    figure_folder, \n",
    "    n_neighbors, \n",
    "    metric, \n",
    "    min_dist, \n",
    "    n_epochs),\n",
    "dpi=300)\n",
    "plt.show()"
   ]
  }
 ],
 "metadata": {
  "kernelspec": {
   "display_name": "Python (sobolev_alignment)",
   "language": "python",
   "name": "sobolev_alignment"
  },
  "language_info": {
   "codemirror_mode": {
    "name": "ipython",
    "version": 3
   },
   "file_extension": ".py",
   "mimetype": "text/x-python",
   "name": "python",
   "nbconvert_exporter": "python",
   "pygments_lexer": "ipython3",
   "version": "3.8.8"
  }
 },
 "nbformat": 4,
 "nbformat_minor": 5
}
