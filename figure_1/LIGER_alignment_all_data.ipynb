{
 "cells": [
  {
   "cell_type": "markdown",
   "id": "fd2adc54",
   "metadata": {},
   "source": [
    "# LIGER alignment of the whole dataset: cell lines (Kinker et al) and tumors (Kim et al)"
   ]
  },
  {
   "cell_type": "code",
   "execution_count": null,
   "id": "cf6a3fb2",
   "metadata": {},
   "outputs": [],
   "source": [
    "library(liger)\n",
    "library(ggplot2)"
   ]
  },
  {
   "cell_type": "markdown",
   "id": "839ea011",
   "metadata": {},
   "source": [
    "## Import data\n",
    "### Tumors"
   ]
  },
  {
   "cell_type": "code",
   "execution_count": null,
   "id": "f46c1c30",
   "metadata": {},
   "outputs": [],
   "source": [
    "# UNQUOTE FOR TMP\n",
    "tumor_file <- \"./data/Kim/raw/GSE131907_Lung_Cancer_normalized_log2TPM_matrix.rds\"\n",
    "tumor_data_df <- readRDS(tumor_file)"
   ]
  },
  {
   "cell_type": "code",
   "execution_count": null,
   "id": "a5bac01e",
   "metadata": {},
   "outputs": [],
   "source": [
    "n_tumor_subsamples <- 50000\n",
    "subsampled_col = sample(colnames(tumor_data_df),n_tumor_subsamples)\n",
    "write.csv(subsampled_col, './output/liger/subsampled_tumor_samples.csv')\n",
    "subsampled_tumor_data_df <- tumor_data_df[subsampled_col]\n",
    "tumor_data_df <- NULL\n",
    "gc()"
   ]
  },
  {
   "cell_type": "markdown",
   "id": "8902eb7b",
   "metadata": {},
   "source": [
    "### Cell lines"
   ]
  },
  {
   "cell_type": "code",
   "execution_count": null,
   "id": "da2d3c00",
   "metadata": {},
   "outputs": [],
   "source": [
    "# UNQUOTE FOR TMP\n",
    "cell_line_file <- '../data/Kinker/raw/CPM_data.txt'\n",
    "cell_line_data_df <- read.csv(cell_line_file, sep='\\t')#, skip=3, header=FALSE)\n",
    "rownames(cell_line_data_df) <- cell_line_data_df$GENE\n",
    "cell_line_data_df <- subset(cell_line_data_df, select=-c(1))\n",
    "colnames(cell_line_data_df) <- gsub(\"\\\\.\", \"-\", colnames(cell_line_data_df))"
   ]
  },
  {
   "cell_type": "code",
   "execution_count": null,
   "id": "b3095f69",
   "metadata": {},
   "outputs": [],
   "source": [
    "# Divide by 100 to downscale to tumors\n",
    "cell_line_data_df <- cell_line_data_df/100\n",
    "cell_line_data_df <- log2(cell_line_data_df+1)"
   ]
  },
  {
   "cell_type": "code",
   "execution_count": null,
   "id": "7745dd92",
   "metadata": {},
   "outputs": [],
   "source": [
    "cell_line_pool <- read.csv('../data/Kinker/raw/Metadata.txt', sep='\\t')\n",
    "cell_line_pool <- cell_line_pool[-c(1),]\n",
    "rownames(cell_line_pool) <- cell_line_pool$NAME\n",
    "cell_line_pool <- cell_line_pool[colnames(cell_line_data_df),]"
   ]
  },
  {
   "cell_type": "markdown",
   "id": "d3ac1734",
   "metadata": {},
   "source": [
    "## LIGER"
   ]
  },
  {
   "cell_type": "code",
   "execution_count": null,
   "id": "75a63d7d",
   "metadata": {},
   "outputs": [],
   "source": [
    "liger <- createLiger(list(cell_line=as.matrix(cell_line_data_df),\n",
    "                          tumor=as.matrix(subsampled_tumor_data_df)))\n",
    "liger <- normalize(liger)\n",
    "liger <- selectGenes(liger)\n",
    "liger <- scaleNotCenter(liger)"
   ]
  },
  {
   "cell_type": "code",
   "execution_count": null,
   "id": "7fbdd9db",
   "metadata": {},
   "outputs": [],
   "source": [
    "liger <- optimizeALS(liger, k=30, use.unshared = TRUE)"
   ]
  },
  {
   "cell_type": "markdown",
   "id": "1acca9b6",
   "metadata": {},
   "source": [
    "## Quantile normalisation for LIGER"
   ]
  },
  {
   "cell_type": "code",
   "execution_count": null,
   "id": "5e0abd4c",
   "metadata": {
    "scrolled": true,
    "tags": []
   },
   "outputs": [],
   "source": [
    "liger <- quantile_norm(liger)"
   ]
  },
  {
   "cell_type": "code",
   "execution_count": null,
   "id": "d25334be",
   "metadata": {
    "scrolled": true,
    "tags": []
   },
   "outputs": [],
   "source": [
    "liger <- runUMAP(liger, use.raw = FALSE)"
   ]
  },
  {
   "cell_type": "code",
   "execution_count": null,
   "id": "2d5b6a0b",
   "metadata": {},
   "outputs": [],
   "source": [
    "# Save tSNE\n",
    "write.csv(liger@tsne.coords, './output/liger/tSNE_quantile_normalized.csv')\n",
    "\n",
    "# Save common loadings\n",
    "write.csv(liger@W, './output/sobolev_alignment/liger/matrix_W.csv')\n",
    "\n",
    "# Save scores\n",
    "write.csv(liger@H$cell_line, './output/liger/matrix_H_cell_lines.csv')\n",
    "write.csv(liger@H$tumor, './output/liger/matrix_H_tumors.csv')\n",
    "write.csv(liger@H.norm, './output/liger/matrix_H_normalized.csv')\n",
    "\n",
    "# Save individual loadings\n",
    "write.csv(liger@V$cell_line, './output/liger/matrix_V_cell_lines.csv')\n",
    "write.csv(liger@V$tumor, './output/liger/matrix_V_tumors.csv')"
   ]
  }
 ],
 "metadata": {
  "kernelspec": {
   "display_name": "R [conda env:.conda-sobolev_alignment]",
   "language": "R",
   "name": "conda-env-.conda-sobolev_alignment-r"
  },
  "language_info": {
   "codemirror_mode": "r",
   "file_extension": ".r",
   "mimetype": "text/x-r-source",
   "name": "R",
   "pygments_lexer": "r",
   "version": "3.6.1"
  }
 },
 "nbformat": 4,
 "nbformat_minor": 5
}
