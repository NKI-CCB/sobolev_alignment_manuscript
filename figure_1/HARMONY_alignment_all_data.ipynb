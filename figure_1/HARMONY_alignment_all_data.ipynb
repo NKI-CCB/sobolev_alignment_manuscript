{
 "cells": [
  {
   "cell_type": "markdown",
   "id": "272cc155",
   "metadata": {},
   "source": [
    "# Comparison to Harmony when using the whole data\n",
    "We use the following implementation: https://github.com/slowkow/harmonypy"
   ]
  },
  {
   "cell_type": "code",
   "execution_count": null,
   "id": "acf9e962",
   "metadata": {},
   "outputs": [],
   "source": [
    "import os, sys\n",
    "import numpy as np\n",
    "import pandas as pd\n",
    "import seaborn as sns\n",
    "import umap, gc, pyreadr, pylab, scanpy\n",
    "import matplotlib.pyplot as plt\n",
    "from sklearn.decomposition import PCA\n",
    "from sklearn.preprocessing import StandardScaler\n",
    "from copy import deepcopy\n",
    "from anndata import AnnData\n",
    "import harmonypy as hm\n",
    "\n",
    "%config IPCompleter.use_jedi = False"
   ]
  },
  {
   "cell_type": "code",
   "execution_count": null,
   "id": "3a0a1257",
   "metadata": {},
   "outputs": [],
   "source": [
    "figure_folder = './figures/harmony/'"
   ]
  },
  {
   "cell_type": "markdown",
   "id": "e07656a4",
   "metadata": {},
   "source": [
    "## Import data\n",
    "### Tumor"
   ]
  },
  {
   "cell_type": "code",
   "execution_count": null,
   "id": "01c2b15a",
   "metadata": {},
   "outputs": [],
   "source": [
    "tumor_df = pyreadr.read_r('../data/Kim/raw/GSE131907_Lung_Cancer_normalized_log2TPM_matrix.rds')\n",
    "tumor_df = tumor_df[None].T"
   ]
  },
  {
   "cell_type": "markdown",
   "id": "f929c849",
   "metadata": {},
   "source": [
    "### Cell lines"
   ]
  },
  {
   "cell_type": "code",
   "execution_count": null,
   "id": "3fbca983",
   "metadata": {},
   "outputs": [],
   "source": [
    "cell_line_df = pd.read_csv('../data/Kinker/raw/CPM_data.txt', sep='\\t', index_col=0)\n",
    "cell_line_df = cell_line_df.T\n",
    "\n",
    "# Downscale to have same \"library size as tumors\"\n",
    "cell_line_df = cell_line_df / 100"
   ]
  },
  {
   "cell_type": "markdown",
   "id": "7e652c77",
   "metadata": {},
   "source": [
    "### Annotations"
   ]
  },
  {
   "cell_type": "code",
   "execution_count": null,
   "id": "57962858",
   "metadata": {},
   "outputs": [],
   "source": [
    "# Cell line data\n",
    "cell_line_annot_df = pd.read_csv(\n",
    "    '../data/Kinker/raw/Metadata.txt',\n",
    "    header=[0,1],\n",
    "    sep='\\t'\n",
    ")\n",
    "cell_line_annot_df.columns = cell_line_annot_df.columns.droplevel(1)\n",
    "cell_line_annot_df = cell_line_annot_df[['NAME', 'Cell_line', 'Cancer_type', 'Pool_ID']]\n",
    "cell_line_annot_df.columns = ['index', 'sample', 'type', 'pool']\n",
    "cell_line_annot_df['specimen'] = 'CELL_LINE'\n",
    "\n",
    "cell_line_annot_df['char_type'] = cell_line_annot_df['type'] == 'Lung Cancer'\n",
    "is_non_lung = ~ cell_line_annot_df['char_type']\n",
    "cell_line_annot_df.loc[cell_line_annot_df['char_type'], 'char_type'] = 'LUNG'\n",
    "cell_line_annot_df.loc[is_non_lung, 'char_type'] = 'OTHER'"
   ]
  },
  {
   "cell_type": "code",
   "execution_count": null,
   "id": "4b39827a",
   "metadata": {},
   "outputs": [],
   "source": [
    "# Tumor data\n",
    "tumor_annot_df = pd.read_csv('../data/Kim/raw/GSE131907_Lung_Cancer_cell_annotation.txt', sep='\\t')\n",
    "tumor_annot_df = tumor_annot_df[['Index', 'Sample', 'Cell_type', 'Sample']]\n",
    "tumor_annot_df.columns = ['index', 'sample', 'type', 'pool']\n",
    "tumor_annot_df['specimen'] = 'TUMOR'\n",
    "\n",
    "tumor_annot_df['char_type'] = tumor_annot_df['type'] == 'Epithelial cells'\n",
    "is_non_epith = ~ tumor_annot_df['char_type']\n",
    "tumor_annot_df.loc[tumor_annot_df['char_type'], 'char_type'] = 'LUNG'\n",
    "tumor_annot_df.loc[is_non_epith, 'char_type'] = 'OTHER'"
   ]
  },
  {
   "cell_type": "code",
   "execution_count": null,
   "id": "4a0bbec9",
   "metadata": {},
   "outputs": [],
   "source": [
    "cell_line_annot_df = cell_line_annot_df.set_index('index').loc[cell_line_df.index]\n",
    "tumor_annot_df = tumor_annot_df.set_index('index').loc[tumor_df.index]\n",
    "annot_df = pd.concat([cell_line_annot_df, tumor_annot_df])"
   ]
  },
  {
   "cell_type": "code",
   "execution_count": null,
   "id": "8bd2cdca",
   "metadata": {},
   "outputs": [],
   "source": [
    "ccle_annot_df = pd.read_csv('../data/cell_lines/sample_info.csv')"
   ]
  },
  {
   "cell_type": "markdown",
   "id": "d7e73442",
   "metadata": {},
   "source": [
    "## Scanpy filtering"
   ]
  },
  {
   "cell_type": "code",
   "execution_count": null,
   "id": "c7b959d7",
   "metadata": {},
   "outputs": [],
   "source": [
    "tumor_data_an = AnnData(tumor_df)\n",
    "print('Initial shape: %s samples x %s genes'%(tumor_data_an.shape[0], \n",
    "                                              tumor_data_an.shape[1]))\n",
    "gc.collect()"
   ]
  },
  {
   "cell_type": "code",
   "execution_count": null,
   "id": "148cbda0",
   "metadata": {},
   "outputs": [],
   "source": [
    "cell_line_data_an = AnnData(cell_line_df)\n",
    "print('Initial shape: %s samples x %s genes'%(cell_line_data_an.shape[0], \n",
    "                                              cell_line_data_an.shape[1]))\n",
    "gc.collect()\n",
    "scanpy.pp.log1p(cell_line_data_an, base=2)"
   ]
  },
  {
   "cell_type": "markdown",
   "id": "f844b1cf",
   "metadata": {},
   "source": [
    "### Filtering based on number of zeros"
   ]
  },
  {
   "cell_type": "code",
   "execution_count": null,
   "id": "12f39a60",
   "metadata": {},
   "outputs": [],
   "source": [
    "min_genes = 200\n",
    "\n",
    "scanpy.pp.filter_cells(tumor_data_an, \n",
    "                       min_genes=min_genes)\n",
    "print('Tumor: going from %s cells to %s cells'%(tumor_df.shape[0], tumor_data_an.shape[0]))\n",
    "\n",
    "scanpy.pp.filter_cells(cell_line_data_an, \n",
    "                       min_genes=min_genes)\n",
    "print('Cell-lines: going from %s cells to %s cells'%(cell_line_df.shape[0], cell_line_data_an.shape[0]))"
   ]
  },
  {
   "cell_type": "code",
   "execution_count": null,
   "id": "40fe2c4b",
   "metadata": {},
   "outputs": [],
   "source": [
    "min_cells = 3\n",
    "\n",
    "scanpy.pp.filter_genes(tumor_data_an,\n",
    "                       min_cells=min_cells)\n",
    "print('Tumor: going from %s genes to %s genes'%(tumor_df.shape[1], tumor_data_an.shape[1]))\n",
    "\n",
    "scanpy.pp.filter_genes(cell_line_data_an,\n",
    "                       min_cells=min_cells)\n",
    "print('Cell-lines: going from %s genes to %s genes'%(cell_line_df.shape[1], cell_line_data_an.shape[1]))"
   ]
  },
  {
   "cell_type": "markdown",
   "id": "70235f61",
   "metadata": {},
   "source": [
    "### Filtering based on variability"
   ]
  },
  {
   "cell_type": "code",
   "execution_count": null,
   "id": "a481fe54",
   "metadata": {},
   "outputs": [],
   "source": [
    "n_top_genes = 3000\n",
    "\n",
    "scanpy.pp.highly_variable_genes(tumor_data_an, n_top_genes=n_top_genes, flavor='seurat')\n",
    "scanpy.pp.highly_variable_genes(cell_line_data_an, n_top_genes=n_top_genes, flavor='seurat')"
   ]
  },
  {
   "cell_type": "code",
   "execution_count": null,
   "id": "190be735",
   "metadata": {},
   "outputs": [],
   "source": [
    "tumor_df = pd.DataFrame(\n",
    "    StandardScaler(with_mean=True, with_std=True).fit_transform(tumor_data_an.X[:,tumor_data_an.var['highly_variable']]),\n",
    "    columns=tumor_data_an.var.index[tumor_data_an.var['highly_variable']],\n",
    "    index=tumor_data_an.obs.index\n",
    ")\n",
    "cell_line_df = pd.DataFrame(\n",
    "    StandardScaler(with_mean=True, with_std=True).fit_transform(cell_line_data_an.X[:,cell_line_data_an.var['highly_variable']]),\n",
    "    columns=cell_line_data_an.var.index[cell_line_data_an.var['highly_variable']],\n",
    "    index=cell_line_data_an.obs.index\n",
    ")\n",
    "gc.collect()"
   ]
  },
  {
   "cell_type": "markdown",
   "id": "d17f72dc",
   "metadata": {},
   "source": [
    "## Harmony"
   ]
  },
  {
   "cell_type": "code",
   "execution_count": null,
   "id": "30785ce9",
   "metadata": {},
   "outputs": [],
   "source": [
    "common_genes = np.intersect1d(cell_line_df.columns, tumor_df.columns)\n",
    "common_data_df = pd.concat([\n",
    "    cell_line_df[common_genes],\n",
    "    tumor_df[common_genes]\n",
    "])\n",
    "metadata = ['CL'] * cell_line_df.shape[0] + ['T'] * tumor_df.shape[0]\n",
    "pool_values = np.concatenate([\n",
    "    cell_line_annot_df['pool'].values,\n",
    "    tumor_annot_df['pool'].values\n",
    "]).astype(str)\n",
    "metadata = pd.DataFrame([common_data_df.index.values, metadata, pool_values]).T\n",
    "metadata.columns = ['idx', 'batch', 'pool']"
   ]
  },
  {
   "cell_type": "code",
   "execution_count": null,
   "id": "57b58e40",
   "metadata": {},
   "outputs": [],
   "source": [
    "batch_name = 'pool'\n",
    "ho = hm.run_harmony(common_data_df, metadata, [batch_name])"
   ]
  },
  {
   "cell_type": "markdown",
   "id": "43a67970",
   "metadata": {},
   "source": [
    "## UMAP"
   ]
  },
  {
   "cell_type": "code",
   "execution_count": null,
   "id": "3e288ba8",
   "metadata": {},
   "outputs": [],
   "source": [
    "metric = 'cosine'\n",
    "n_neighbors = 15\n",
    "min_dist = 0.9\n",
    "n_epochs = 2500\n",
    "n_pc = 50\n",
    "\n",
    "umap_integrated_clf = umap.UMAP(\n",
    "    verbose=5, \n",
    "    n_neighbors=n_neighbors,\n",
    "    metric=metric,\n",
    "    min_dist=min_dist, \n",
    "    n_components=2, \n",
    "    n_epochs=n_epochs)\n",
    "\n",
    "umap_integrated_proj = umap_integrated_clf.fit_transform(\n",
    "    PCA(n_pc).fit_transform(ho.result().T)\n",
    ")"
   ]
  },
  {
   "cell_type": "code",
   "execution_count": null,
   "id": "d624ed33",
   "metadata": {},
   "outputs": [],
   "source": [
    "umap_integrated_proj_df = pd.DataFrame(\n",
    "    umap_integrated_proj, \n",
    "    index=annot_df.index, \n",
    "    columns=['UMAP 1', 'UMAP 2'])\n",
    "umap_integrated_proj_df = umap_integrated_proj_df\n",
    "umap_integrated_proj_df = umap_integrated_proj_df.merge(annot_df, how='left', left_index=True, right_index=True)\n",
    "umap_integrated_proj_df = umap_integrated_proj_df.merge(ccle_annot_df, \n",
    "                                                        left_on='sample', \n",
    "                                                        right_on='CCLE_Name', \n",
    "                                                        how='left')\n",
    "umap_integrated_proj_df['is_nsclc'] = (umap_integrated_proj_df['lineage_subtype'] == 'NSCLC') | (umap_integrated_proj_df['type'] == 'Epithelial cells')\n",
    "umap_integrated_proj_df['str']  = umap_integrated_proj_df['is_nsclc'].apply(lambda x: 'NSCLC' if x else 'Other')\n",
    "umap_integrated_proj_df['str'] = umap_integrated_proj_df['specimen'] + ' ' + umap_integrated_proj_df['str']\n",
    "umap_integrated_proj_df['plot_str'] = [\n",
    "    'Cell-line: NSCLC' if x == 'CELL_LINE NSCLC' else (\n",
    "        'Cell-line: other' if x == 'CELL_LINE Other' else (\n",
    "            'Tumor: NSCLC' if x == 'TUMOR NSCLC'\n",
    "            else 'Tumor: micro-environment'\n",
    "        )\n",
    "    )\n",
    "    for x in umap_integrated_proj_df['str']\n",
    "]"
   ]
  },
  {
   "cell_type": "code",
   "execution_count": null,
   "id": "3250ef3b",
   "metadata": {},
   "outputs": [],
   "source": [
    "# Save umap\n",
    "umap_integrated_proj_df.to_csv('%s/UMAP_df_%s.csv'%(figure_folder, batch_name))"
   ]
  },
  {
   "cell_type": "code",
   "execution_count": null,
   "id": "befacc27",
   "metadata": {},
   "outputs": [],
   "source": [
    "# All scatterplot\n",
    "palette = {\n",
    "    'Cell-line: NSCLC': '#D62728',#'tab:red',\n",
    "    'Cell-line: other': (0.984313725490196, 0.6039215686274509, 0.6),#'#F5A3A5',#'#D6ABAB',#'lightcoral',\n",
    "    'Tumor: NSCLC': (0.12156862745098039, 0.47058823529411764, 0.7058823529411765),\n",
    "    'Tumor: micro-environment': (0.6509803921568628, 0.807843137254902, 0.8901960784313725)#'#B9F1F6'\n",
    "}\n",
    "\n",
    "fig = pylab.figure(figsize=(10,10))\n",
    "figlegend = pylab.figure(figsize=(10,10))\n",
    "ax = fig.add_subplot(111)\n",
    "\n",
    "sns.scatterplot(\n",
    "    data=umap_integrated_proj_df.sort_values(['specimen', 'is_nsclc'], ascending=False).sample(frac=1),\n",
    "    x='UMAP 1', y='UMAP 2',  hue='plot_str', \n",
    "    alpha=0.8, palette=palette, marker='x', ax=ax\n",
    ")\n",
    "ax.set_xlabel('UMAP 1', fontsize=25, color='black')\n",
    "ax.set_ylabel('UMAP 2', fontsize=25, color='black')\n",
    "ax.tick_params(labelsize=20, labelcolor='black')\n",
    "\n",
    "pylab.figlegend(*ax.get_legend_handles_labels(), loc = 'center', ncol=1, fontsize=15)\n",
    "figlegend.tight_layout()\n",
    "figlegend.savefig('%s/UMAP_%s_neighbors_%s_metrics_%s_mindist_%s_epochs_%s_legend.png'%(\n",
    "    figure_folder, batch_name, n_neighbors, metric, min_dist, n_epochs\n",
    "),dpi=300)\n",
    "ax.get_legend().remove()\n",
    "    \n",
    "fig.tight_layout()\n",
    "fig.savefig('%s/UMAP_%s_neighbors_%s_metrics_%s_mindist_%s_epochs_%s.png'%(\n",
    "    figure_folder, batch_name, n_neighbors, metric, min_dist, n_epochs\n",
    "),dpi=300)"
   ]
  },
  {
   "cell_type": "markdown",
   "id": "ed600582",
   "metadata": {},
   "source": [
    "## Tumor analysis"
   ]
  },
  {
   "cell_type": "code",
   "execution_count": null,
   "id": "bf887c7a",
   "metadata": {},
   "outputs": [],
   "source": [
    "# Zoomed scatterplot\n",
    "# plt.figure()\n",
    "plot_df = umap_integrated_proj_df[umap_integrated_proj_df['specimen'] == 'TUMOR']\n",
    "plot_df = plot_df.sample(plot_df.shape[0])\n",
    "markers = ['o' if x else '+' for x in plot_df['is_nsclc']]\n",
    "\n",
    "plt.figure(figsize=(10,10))\n",
    "g = sns.FacetGrid(\n",
    "    plot_df,\n",
    "    col='plot_str',\n",
    "    hue='sample',\n",
    "    palette='colorblind',\n",
    "    sharex=True,\n",
    "    sharey=True,\n",
    "    size=6\n",
    ")\n",
    "g.map(\n",
    "    sns.scatterplot,\n",
    "    'UMAP 1', \n",
    "    'UMAP 2', \n",
    "    alpha=0.5,\n",
    "    marker='x'\n",
    ")\n",
    "g.set_xlabels('UMAP 1', fontsize=20)\n",
    "g.set_ylabels('UMAP 2', fontsize=20)\n",
    "g.set_titles(col_template=\"{col_name}\", row_template=\"\", size=25, color='black')\n",
    "plt.tight_layout()\n",
    "plt.savefig('%s/UMAP_neighbors_tumors_sample_%s_metrics_%s_mindist_%s_epochs_%s.png'%(\n",
    "    figure_folder, \n",
    "    n_neighbors, \n",
    "    metric, \n",
    "    min_dist, \n",
    "    n_epochs),\n",
    "dpi=300)\n",
    "plt.show()\n",
    "\n",
    "del plot_df\n"
   ]
  },
  {
   "cell_type": "markdown",
   "id": "f9403a14",
   "metadata": {},
   "source": [
    "## Cell lines analysis"
   ]
  },
  {
   "cell_type": "code",
   "execution_count": null,
   "id": "e85d9798",
   "metadata": {},
   "outputs": [],
   "source": [
    "# Zoomed scatterplot\n",
    "plt.figure(figsize=(10,10))\n",
    "g = sns.scatterplot(data=umap_integrated_proj_df[umap_integrated_proj_df['specimen'] == 'CELL_LINE'], \n",
    "                    x='UMAP 1',\n",
    "                    y='UMAP 2', \n",
    "                    hue='sample', \n",
    "                    palette='colorblind',\n",
    "                    alpha=0.5, \n",
    "                    marker='x')\n",
    "plt.xlabel('UMAP 1', fontsize=20, color='black')\n",
    "plt.ylabel('UMAP 2', fontsize=20, color='black')\n",
    "plt.xticks(fontsize=15, color='black')\n",
    "plt.yticks(fontsize=15, color='black')\n",
    "plt.legend([],[], frameon=False)\n",
    "plt.tight_layout()\n",
    "plt.savefig('%s/UMAP_neighbors_cell_lines_sample_%s_metrics_%s_mindist_%s_epochs_%s.png'%(\n",
    "    figure_folder, \n",
    "    n_neighbors, \n",
    "    metric, \n",
    "    min_dist, \n",
    "    n_epochs),\n",
    "dpi=300)\n",
    "plt.show()"
   ]
  }
 ],
 "metadata": {
  "kernelspec": {
   "display_name": "Python (sobolev_alignment)",
   "language": "python",
   "name": "sobolev_alignment"
  },
  "language_info": {
   "codemirror_mode": {
    "name": "ipython",
    "version": 3
   },
   "file_extension": ".py",
   "mimetype": "text/x-python",
   "name": "python",
   "nbconvert_exporter": "python",
   "pygments_lexer": "ipython3",
   "version": "3.8.8"
  }
 },
 "nbformat": 4,
 "nbformat_minor": 5
}
