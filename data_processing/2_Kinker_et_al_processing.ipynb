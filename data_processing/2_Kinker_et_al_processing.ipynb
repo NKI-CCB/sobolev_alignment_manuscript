{
 "cells": [
  {
   "cell_type": "markdown",
   "id": "toxic-immune",
   "metadata": {},
   "source": [
    "# Processing of Kinker et al dataset\n",
    "Pre-processing of treatment-naive epithelial tumor cells from [Kinker et al 2020 Nature Genetics]."
   ]
  },
  {
   "cell_type": "code",
   "execution_count": null,
   "id": "square-driving",
   "metadata": {
    "scrolled": true
   },
   "outputs": [],
   "source": [
    "import os, sys\n",
    "import numpy as np\n",
    "import pandas as pd\n",
    "import seaborn as sns\n",
    "import gc\n",
    "import scanpy\n",
    "from anndata import AnnData\n",
    "# import gzip\n",
    "import matplotlib.pyplot as plt\n",
    "%config IPCompleter.use_jedi = False\n",
    "\n",
    "figure_folder = './figures/Kinker_et_al_2020'"
   ]
  },
  {
   "cell_type": "markdown",
   "id": "158771b8",
   "metadata": {},
   "source": [
    "## Analysis"
   ]
  },
  {
   "cell_type": "code",
   "execution_count": null,
   "id": "beginning-topic",
   "metadata": {
    "scrolled": true
   },
   "outputs": [],
   "source": [
    "data_folder = '../data/Kinker/raw/'"
   ]
  },
  {
   "cell_type": "code",
   "execution_count": null,
   "id": "b9be2d93",
   "metadata": {
    "scrolled": true
   },
   "outputs": [],
   "source": [
    "annot_file = 'Metadata.txt'\n",
    "annot_df = pd.read_csv('%s/%s'%(data_folder, annot_file), sep='\\t', header=[0,1])\n",
    "annot_df.columns = annot_df.columns.droplevel(1)"
   ]
  },
  {
   "cell_type": "code",
   "execution_count": null,
   "id": "17c88ae2",
   "metadata": {
    "scrolled": true
   },
   "outputs": [],
   "source": [
    "print('%s single cells'%(annot_df.shape[0]))\n",
    "print('%s unique cell lines'%(np.unique(annot_df['Cell_line']).shape[0]))\n",
    "print('%s unique tumor cell lines cells'%(annot_df[annot_df['Cancer_type'] == 'Lung Cancer'].shape[0]))\n",
    "print('%s unique tumor cell lines'%(\n",
    "    np.unique(annot_df[annot_df['Cancer_type'] == 'Lung Cancer']['Cell_line']).shape[0])\n",
    ")"
   ]
  },
  {
   "cell_type": "markdown",
   "id": "9d4b23e4",
   "metadata": {},
   "source": [
    "### Plot by cell-type"
   ]
  },
  {
   "cell_type": "code",
   "execution_count": null,
   "id": "d7ba20a9",
   "metadata": {
    "scrolled": true
   },
   "outputs": [],
   "source": [
    "plot_df = annot_df.groupby('Cancer_type').agg('count').sort_values('NAME', ascending=True)\n",
    "plot_df = plot_df.reset_index()\n",
    "plot_df['Cancer_type'] = plot_df['Cancer_type'].str.replace(' Cancer', '')\n",
    "\n",
    "plot_df.plot.bar(x='Cancer_type', y='NAME', figsize=(7,6))\n",
    "plt.yticks(fontsize=15, color='black')\n",
    "plt.xticks(fontsize=15, color='black', rotation=90)\n",
    "plt.xlabel('')\n",
    "plt.ylabel('')\n",
    "plt.legend([])\n",
    "plt.title('Number of cell per cell type', fontsize=20, color='black')\n",
    "plt.tight_layout()\n",
    "plt.savefig('%s/cell_type_decomposition.png'%(figure_folder), dpi=300)\n",
    "\n",
    "cell_type_order = np.array(plot_df.index).astype(str)\n",
    "del plot_df"
   ]
  },
  {
   "cell_type": "markdown",
   "id": "foster-protein",
   "metadata": {},
   "source": [
    "## Data loading"
   ]
  },
  {
   "cell_type": "code",
   "execution_count": null,
   "id": "virtual-investment",
   "metadata": {
    "scrolled": true
   },
   "outputs": [],
   "source": [
    "data_file = 'UMIcount_data.txt'\n",
    "annot_file = 'Metadata.txt'"
   ]
  },
  {
   "cell_type": "code",
   "execution_count": null,
   "id": "postal-bobby",
   "metadata": {
    "scrolled": true
   },
   "outputs": [],
   "source": [
    "data_df = pd.read_csv('%s/%s'%(data_folder, data_file), sep='\\t', header=[0,1,2], index_col=0)\n",
    "data_df = data_df.T"
   ]
  },
  {
   "cell_type": "markdown",
   "id": "productive-fellow",
   "metadata": {},
   "source": [
    "## Load gene filtering data\n",
    "Filter genes which are non protein coding and mitochondrial."
   ]
  },
  {
   "cell_type": "markdown",
   "id": "adapted-bobby",
   "metadata": {},
   "source": [
    "### Protein coding"
   ]
  },
  {
   "cell_type": "code",
   "execution_count": null,
   "id": "framed-steam",
   "metadata": {
    "scrolled": true
   },
   "outputs": [],
   "source": [
    "gene_lookup_df = pd.read_csv(\n",
    "    '../data/genes/pybiomart_gene_status.csv', \n",
    "    sep='\\t', index_col=0\n",
    ")\n",
    "gene_lookup_df = gene_lookup_df[['Hugo', 'chromosome_name', 'status']].drop_duplicates()\n",
    "\n",
    "protein_coding_df = gene_lookup_df[gene_lookup_df['status'] == 'protein_coding']\n",
    "print('%s protein coding genes from pybiomart'%(protein_coding_df.shape[0]))"
   ]
  },
  {
   "cell_type": "markdown",
   "id": "knowing-proceeding",
   "metadata": {},
   "source": [
    "### Non-mitochondrial"
   ]
  },
  {
   "cell_type": "code",
   "execution_count": null,
   "id": "strong-thermal",
   "metadata": {
    "scrolled": true
   },
   "outputs": [],
   "source": [
    "chromosome = np.concatenate([np.arange(1,23).astype(str), ['X', 'Y']])\n",
    "non_mitochondrial_df = gene_lookup_df[gene_lookup_df['chromosome_name'].isin(chromosome)]\n",
    "mitochondrial_df = gene_lookup_df[gene_lookup_df['chromosome_name'] == 'MT']"
   ]
  },
  {
   "cell_type": "code",
   "execution_count": null,
   "id": "persistent-deadline",
   "metadata": {
    "scrolled": true
   },
   "outputs": [],
   "source": [
    "relevant_genes = np.intersect1d(non_mitochondrial_df['Hugo'].values, protein_coding_df['Hugo'].values)\n",
    "relevant_genes = np.unique(relevant_genes).astype(str)"
   ]
  },
  {
   "cell_type": "markdown",
   "id": "naked-baseball",
   "metadata": {},
   "source": [
    "### Ribosomal"
   ]
  },
  {
   "cell_type": "code",
   "execution_count": null,
   "id": "brutal-newfoundland",
   "metadata": {
    "scrolled": true
   },
   "outputs": [],
   "source": [
    "ribosomal_genes_df = pd.read_csv(\n",
    "    '../data/genes/ribosomal_genes.csv', \n",
    "    sep=',', index_col=0, skiprows=1\n",
    ")\n",
    "\n",
    "ribosomal_genes = ribosomal_genes_df['Gene'].values.astype(str)"
   ]
  },
  {
   "cell_type": "markdown",
   "id": "encouraging-hometown",
   "metadata": {},
   "source": [
    "## Filtering"
   ]
  },
  {
   "cell_type": "code",
   "execution_count": null,
   "id": "flying-germany",
   "metadata": {
    "scrolled": true
   },
   "outputs": [],
   "source": [
    "common_genes = np.intersect1d(data_df.columns, protein_coding_df['Hugo'].values)\n",
    "print('%s genes in Kinker et al, %s of which are selected'%(data_df.shape[1], common_genes.shape[0]))\n",
    "\n",
    "filtered_data_df = data_df[common_genes]"
   ]
  },
  {
   "cell_type": "markdown",
   "id": "2c7f724d",
   "metadata": {},
   "source": [
    "## Restriction to NSCLC"
   ]
  },
  {
   "cell_type": "code",
   "execution_count": null,
   "id": "051d2620",
   "metadata": {
    "scrolled": true
   },
   "outputs": [],
   "source": [
    "ccle_annot_df = pd.read_csv('../data/cell_lines/sample_info.csv')\n",
    "ccle_annot_df = ccle_annot_df[ccle_annot_df['lineage_subtype'] == 'NSCLC']\n",
    "\n",
    "overlappinp_nsclc_cell_lines = np.intersect1d(\n",
    "    filtered_data_df.index.get_level_values('Cell_line'),\n",
    "    np.unique(ccle_annot_df['CCLE_Name'].astype(str))\n",
    ").astype(str)\n",
    "\n",
    "print('%s OVERLAPPING CELL LINES'%(overlappinp_nsclc_cell_lines.shape[0]))\n",
    "\n",
    "nsclc_data_df = filtered_data_df.iloc[\n",
    "    filtered_data_df.index.get_level_values('Cell_line').isin(overlappinp_nsclc_cell_lines)\n",
    "]\n",
    "\n",
    "# Create lung AnnData\n",
    "nsclc_data_an = AnnData(nsclc_data_df)"
   ]
  },
  {
   "cell_type": "markdown",
   "id": "4991badf",
   "metadata": {},
   "source": [
    "### Save protein coding genes with only UMI (for UCell)"
   ]
  },
  {
   "cell_type": "code",
   "execution_count": null,
   "id": "a6173689",
   "metadata": {
    "scrolled": true
   },
   "outputs": [],
   "source": [
    "nsclc_data_df.index = nsclc_data_df.index.get_level_values(0) + '-' + nsclc_data_df.index.get_level_values(1)\n",
    "nsclc_data_df[np.intersect1d(non_mitochondrial_df['Hugo'].values, nsclc_data_df.columns)].to_pickle(\n",
    "    '../data/Kinker/processed/NSCLC_protein_coding.pkl',\n",
    "    compression='gzip'\n",
    ")"
   ]
  },
  {
   "cell_type": "markdown",
   "id": "ffbbb7e6",
   "metadata": {},
   "source": [
    "## Filtering for NSCLC data alone\n",
    "### QC metrics"
   ]
  },
  {
   "cell_type": "code",
   "execution_count": null,
   "id": "aba8d314",
   "metadata": {
    "scrolled": true
   },
   "outputs": [],
   "source": [
    "nsclc_qc_metrics = scanpy.pp.calculate_qc_metrics(nsclc_data_an)"
   ]
  },
  {
   "cell_type": "code",
   "execution_count": null,
   "id": "5e6b7672",
   "metadata": {
    "scrolled": true
   },
   "outputs": [],
   "source": [
    "ax = sns.jointplot(\n",
    "    \"log1p_total_counts\", \"log1p_n_genes_by_counts\",\n",
    "    data=nsclc_qc_metrics[0], kind=\"hex\"\n",
    ")\n",
    "ax.ax_joint.xaxis.label.set_size(20)\n",
    "ax.ax_joint.xaxis.label.set_color('black')\n",
    "ax.ax_joint.yaxis.label.set_size(20)\n",
    "ax.ax_joint.yaxis.label.set_color('black')\n",
    "\n",
    "plt.tight_layout()\n",
    "plt.savefig('%s/NSCLC_QC_plot.png'%(figure_folder), dpi=300)"
   ]
  },
  {
   "cell_type": "markdown",
   "id": "3abb7324",
   "metadata": {},
   "source": [
    "### Filter cells"
   ]
  },
  {
   "cell_type": "code",
   "execution_count": null,
   "id": "6a2f5ae0",
   "metadata": {
    "scrolled": true
   },
   "outputs": [],
   "source": [
    "min_genes = 200\n",
    "filter_cells = scanpy.pp.filter_cells(nsclc_data_an, min_genes=min_genes)\n",
    "print('Going from %s cells to %s cells'%(nsclc_data_df.shape[0], nsclc_data_an.shape[0]))"
   ]
  },
  {
   "cell_type": "markdown",
   "id": "f427c2e8",
   "metadata": {},
   "source": [
    "### Filter genes"
   ]
  },
  {
   "cell_type": "code",
   "execution_count": null,
   "id": "f7db4cd6",
   "metadata": {
    "scrolled": true
   },
   "outputs": [],
   "source": [
    "min_cells = 3\n",
    "filter_genes = scanpy.pp.filter_genes(nsclc_data_an, min_cells=min_cells)\n",
    "print('Going from %s genes to %s genes'%(nsclc_data_df.shape[1], nsclc_data_an.shape[1]))"
   ]
  },
  {
   "cell_type": "markdown",
   "id": "1fe634de",
   "metadata": {},
   "source": [
    "### Mitochondrial percentage"
   ]
  },
  {
   "cell_type": "code",
   "execution_count": null,
   "id": "b8604e05",
   "metadata": {
    "scrolled": true
   },
   "outputs": [],
   "source": [
    "MT_prop_df = nsclc_data_an.to_df().T\n",
    "MT_genes = np.intersect1d(mitochondrial_df['Hugo'].values, MT_prop_df.index)\n",
    "MT_prop_df['IS_MT'] = (np.isin(MT_prop_df.index, MT_genes))\n",
    "\n",
    "MT_prop_df = MT_prop_df.groupby('IS_MT').agg('sum').T\n",
    "MT_prop_df = (MT_prop_df.T / np.sum(MT_prop_df, axis=1)).T\n",
    "\n",
    "plt.figure(figsize=(4,6))\n",
    "sns.violinplot(y=MT_prop_df[True], orient='v', alpha=0.7)\n",
    "sns.swarmplot(y=MT_prop_df[True].values, color='black', size=2)\n",
    "\n",
    "plt.ylabel('MT counts / all counts per cell', fontsize=20, color='black')\n",
    "plt.yticks(fontsize=15, color='black')\n",
    "plt.title('MT proportion', fontsize=20, color='black')\n",
    "plt.tight_layout()\n",
    "plt.savefig('%s/NSCLC_MT_proportion.png'%(figure_folder), dpi=300)"
   ]
  },
  {
   "cell_type": "markdown",
   "id": "1ebd59ef",
   "metadata": {},
   "source": [
    "### Ribosomal proportion"
   ]
  },
  {
   "cell_type": "code",
   "execution_count": null,
   "id": "7c37d28e",
   "metadata": {
    "scrolled": true
   },
   "outputs": [],
   "source": [
    "ribo_prop_df = nsclc_data_an.to_df().T\n",
    "ribo_genes = np.intersect1d(ribosomal_genes, ribo_prop_df.index)\n",
    "ribo_prop_df['IS_RIBO'] = np.isin(ribo_prop_df.index, ribo_genes)\n",
    "\n",
    "ribo_prop_df = ribo_prop_df.groupby('IS_RIBO').agg('sum').T\n",
    "ribo_prop_df = (ribo_prop_df.T / np.sum(ribo_prop_df, axis=1)).T\n",
    "\n",
    "plt.figure(figsize=(4.5,6))\n",
    "sns.violinplot(y=ribo_prop_df[True], orient='v', alpha=0.7)\n",
    "sns.swarmplot(y=ribo_prop_df[True], color='black', size=2)\n",
    "\n",
    "plt.ylabel('Ribosomal counts / all counts \\n (per cell)', fontsize=20, color='black')\n",
    "plt.yticks(fontsize=15, color='black')\n",
    "plt.title('Ribosomal gene proportion', fontsize=20, color='black')\n",
    "plt.tight_layout()\n",
    "plt.savefig('%s/NSCLC_Ribo_proportion.png'%(figure_folder), dpi=300)"
   ]
  },
  {
   "cell_type": "markdown",
   "id": "779c177b",
   "metadata": {},
   "source": [
    "<b>Ribosomal filtering:</b> Decided to cut below 0.1 and 0.5"
   ]
  },
  {
   "cell_type": "code",
   "execution_count": null,
   "id": "780de3c0",
   "metadata": {
    "code_folding": [],
    "scrolled": true
   },
   "outputs": [],
   "source": [
    "nsclc_ribo_filtering_params = {\n",
    "    'min': 0.1,\n",
    "    'max': 0.5\n",
    "}\n",
    "\n",
    "ribosomal_filtered_samples = ribo_prop_df[(ribo_prop_df[True] < nsclc_ribo_filtering_params['max'])\\\n",
    "                                          & (ribo_prop_df[True] > nsclc_ribo_filtering_params['min'])].index\n",
    "print('%s cells filtered'%(ribo_prop_df.shape[0] - ribosomal_filtered_samples.shape[0]))\n",
    "nsclc_data_an = nsclc_data_an[ribosomal_filtered_samples]"
   ]
  },
  {
   "cell_type": "markdown",
   "id": "7f5be05f",
   "metadata": {},
   "source": [
    "### Restriction to protein coding"
   ]
  },
  {
   "cell_type": "code",
   "execution_count": null,
   "id": "ed1147da",
   "metadata": {
    "scrolled": true
   },
   "outputs": [],
   "source": [
    "data_pc_genes = np.intersect1d(nsclc_data_an.var.index, protein_coding_df['Hugo'])\n",
    "nsclc_data_an = nsclc_data_an[:,data_pc_genes]\n",
    "print('%s PC genes'%(data_pc_genes.shape[0]))"
   ]
  },
  {
   "cell_type": "markdown",
   "id": "ee34f2e5",
   "metadata": {},
   "source": [
    "### Highly variable genes\n",
    "https://scanpy.readthedocs.io/en/stable/api/scanpy.pp.highly_variable_genes.html"
   ]
  },
  {
   "cell_type": "code",
   "execution_count": null,
   "id": "b1ea5db6",
   "metadata": {
    "scrolled": true
   },
   "outputs": [],
   "source": [
    "n_top_genes = 3000\n",
    "\n",
    "scanpy.pp.highly_variable_genes(nsclc_data_an, \n",
    "                                n_top_genes=n_top_genes, \n",
    "                                flavor='seurat_v3')\n",
    "\n",
    "nsclc_high_var_genes = nsclc_data_an.var[nsclc_data_an.var['highly_variable']].sort_values('highly_variable_rank').index\n",
    "nsclc_high_var_genes = np.array(nsclc_high_var_genes).astype(str)\n",
    "\n",
    "print('%s highly variable genes'%(nsclc_high_var_genes.shape[0]))\n",
    "print('%s are protein coding'%(np.intersect1d(nsclc_high_var_genes, protein_coding_df['Hugo'].values).shape[0]))\n",
    "print('%s are MT'%(np.intersect1d(nsclc_high_var_genes, mitochondrial_df['Hugo'].values).shape[0]))\n",
    "print('%s are ribosomal'%(np.intersect1d(nsclc_high_var_genes, ribosomal_genes).shape[0]))"
   ]
  },
  {
   "cell_type": "markdown",
   "id": "d32f8fbc",
   "metadata": {},
   "source": [
    "### Check and removing outliers"
   ]
  },
  {
   "cell_type": "code",
   "execution_count": null,
   "id": "34a00210",
   "metadata": {
    "scrolled": true
   },
   "outputs": [],
   "source": [
    "nsclc_data_an = nsclc_data_an[:,nsclc_high_var_genes]"
   ]
  },
  {
   "cell_type": "markdown",
   "id": "86431e52",
   "metadata": {},
   "source": [
    "#### Gene-level: number of cells expressing a gene"
   ]
  },
  {
   "cell_type": "code",
   "execution_count": null,
   "id": "9d6060b9",
   "metadata": {
    "scrolled": true
   },
   "outputs": [],
   "source": [
    "plot_df = np.sum(nsclc_data_an.to_df() != 0, axis=0) / nsclc_data_an.shape[0]\n",
    "\n",
    "# fig, axes = plt.subplots(1,2, figsize=(8,5))\n",
    "axes = plt.figure(constrained_layout=True, figsize=(10,5)).subplot_mosaic(\n",
    "    \"\"\"\n",
    "    ABBB\n",
    "    \"\"\"\n",
    ")\n",
    "sns.violinplot(y=plot_df, orient='v', ax=axes['A'])\n",
    "axes['A'].set_ylim(-0.05, 1.05)\n",
    "axes['A'].set_ylabel('Proportion of non zero per gene', fontsize=20, color='black')\n",
    "axes['A'].tick_params(axis='both', which='major', labelsize=15)\n",
    "\n",
    "axes['B'].plot(plot_df.sort_values().values, linewidth=3)\n",
    "axes['B'].set_ylim(-0.05, 1.05)\n",
    "axes['B'].tick_params(axis='both', which='major', labelsize=15)\n",
    "axes['B'].set_xlabel('Gene rank', fontsize=20, color='black')\n",
    "\n",
    "plt.tight_layout()\n",
    "plt.savefig('%s/NSCLC_gene_dropout_rank.png'%(figure_folder), dpi=300, facecolor='white')\n",
    "plt.show()\n",
    "\n",
    "del plot_df"
   ]
  },
  {
   "cell_type": "markdown",
   "id": "a62c0e57",
   "metadata": {},
   "source": [
    "#### Sample-level: library size"
   ]
  },
  {
   "cell_type": "code",
   "execution_count": null,
   "id": "4b75812a",
   "metadata": {
    "scrolled": true
   },
   "outputs": [],
   "source": [
    "library_size_df = np.sum(nsclc_data_an.to_df(), axis=1)\n",
    "\n",
    "axes = plt.figure(constrained_layout=True, figsize=(10,5)).subplot_mosaic(\n",
    "    \"\"\"\n",
    "    ABBB\n",
    "    \"\"\"\n",
    ")\n",
    "sns.violinplot(y=library_size_df, orient='v', ax=axes['A'])\n",
    "axes['A'].set_ylabel('Library size per single cell', fontsize=20, color='black')\n",
    "axes['A'].tick_params(axis='both', which='major', labelsize=15)\n",
    "\n",
    "axes['B'].plot(library_size_df.sort_values().values, linewidth=3)\n",
    "axes['B'].tick_params(axis='both', which='major', labelsize=15)\n",
    "axes['B'].set_xlabel('Cell rank', fontsize=20, color='black')\n",
    "\n",
    "plt.tight_layout()\n",
    "plt.savefig('%s/NSCLC_library_size.png'%(figure_folder), dpi=300, facecolor='white')\n",
    "plt.show()"
   ]
  },
  {
   "cell_type": "code",
   "execution_count": null,
   "id": "6166747a",
   "metadata": {
    "scrolled": true
   },
   "outputs": [],
   "source": [
    "nsclc_threshold_library_size = {'min_library_size': 500, 'max_library_size':15000}\n",
    "\n",
    "selected_cells = (library_size_df > nsclc_threshold_library_size['min_library_size']) \n",
    "selected_cells = selected_cells & (library_size_df < nsclc_threshold_library_size['max_library_size'])\n",
    "print('%s cells selected out of %s: %s %%'%(\n",
    "    np.sum(selected_cells),\n",
    "    nsclc_data_df.shape[0],\n",
    "    np.sum(selected_cells) / nsclc_data_df.shape[0] * 100\n",
    "))\n",
    "\n",
    "nsclc_data_an = nsclc_data_an[selected_cells]"
   ]
  },
  {
   "cell_type": "markdown",
   "id": "83802d00",
   "metadata": {},
   "source": [
    "### Total expression per gene"
   ]
  },
  {
   "cell_type": "code",
   "execution_count": null,
   "id": "76567d90",
   "metadata": {
    "scrolled": true
   },
   "outputs": [],
   "source": [
    "gene_total_exp_df = np.sum(nsclc_data_an.to_df(), axis=0)\n",
    "\n",
    "# fig, axes = plt.subplots(1,2, figsize=(8,5))\n",
    "axes = plt.figure(constrained_layout=True, figsize=(10,5)).subplot_mosaic(\n",
    "    \"\"\"\n",
    "    ABBB\n",
    "    \"\"\"\n",
    ")\n",
    "sns.violinplot(y=gene_total_exp_df, orient='v', ax=axes['A'])\n",
    "axes['A'].set_ylabel('Proportion of non zero per gene', fontsize=20, color='black')\n",
    "axes['A'].tick_params(axis='both', which='major', labelsize=15)\n",
    "\n",
    "axes['B'].plot(gene_total_exp_df.sort_values().values, linewidth=3, marker='+')\n",
    "axes['B'].tick_params(axis='both', which='major', labelsize=15)\n",
    "axes['B'].set_xlabel('Gene rank', fontsize=20, color='black')\n",
    "\n",
    "plt.tight_layout()\n",
    "plt.savefig('%s/NSCLC_gene_total_exp.png'%(figure_folder), dpi=300, facecolor='white')\n",
    "plt.show()"
   ]
  },
  {
   "cell_type": "markdown",
   "id": "5c4cc01a",
   "metadata": {},
   "source": [
    "### Save lung cell lines"
   ]
  },
  {
   "cell_type": "code",
   "execution_count": null,
   "id": "d740a471",
   "metadata": {
    "scrolled": true
   },
   "outputs": [],
   "source": [
    "nsclc_save_df = pd.DataFrame({\n",
    "    'min_cells': [min_cells],\n",
    "    'min_genes': [min_genes],\n",
    "    'n_top_genes': [n_top_genes],\n",
    "    'min_library_size': [nsclc_threshold_library_size['min_library_size']],\n",
    "    'max_library_size': [nsclc_threshold_library_size['max_library_size']],\n",
    "    'min_ribosomal_filtering': [nsclc_ribo_filtering_params['min']],\n",
    "    'max_ribosomal_filtering': [nsclc_ribo_filtering_params['max']]\n",
    "}).T"
   ]
  },
  {
   "cell_type": "code",
   "execution_count": null,
   "id": "a7dab54c",
   "metadata": {
    "scrolled": true
   },
   "outputs": [],
   "source": [
    "nsclc_data_folder = '../data/Kinker/processed/'"
   ]
  },
  {
   "cell_type": "code",
   "execution_count": null,
   "id": "0b778990",
   "metadata": {
    "scrolled": true
   },
   "outputs": [],
   "source": [
    "print('Save AnnData as h5ad')\n",
    "# lung_data_filtered_an.obs.fillna(-1, inplace=True)\n",
    "# lung_data_filtered_an.var.fillna(-1, inplace=True)\n",
    "# lung_data_filtered_an.obs['n_genes'] = lung_data_filtered_an.obs['n_genes'].astype(str)\n",
    "# lung_data_filtered_an.write('%s/lung_data.h5ad'%(save_lung_data_folder))\n",
    "\n",
    "print('Save AnnData as csv')\n",
    "nsclc_data_an.write_csvs('%s/NSCLC_data'%(nsclc_data_folder))\n",
    "\n",
    "print('Save AnnData as pickled DataFrame')\n",
    "nsclc_data_an.to_df().to_pickle('%s/NSCLC_data.pkl'%(nsclc_data_folder), compression='gzip')\n",
    "\n",
    "print('Save parameters')\n",
    "nsclc_save_df.to_csv('%s/filtering_params.csv'%(nsclc_data_folder))\n",
    "\n",
    "print('Save AnnData as csv DataFrame')\n",
    "nsclc_data_an.to_df().to_csv('%s/NSCLC_data.csv'%(nsclc_data_folder))"
   ]
  }
 ],
 "metadata": {
  "kernelspec": {
   "display_name": "Python (sobolev_alignment)",
   "language": "python",
   "name": "sobolev_alignment"
  },
  "language_info": {
   "codemirror_mode": {
    "name": "ipython",
    "version": 3
   },
   "file_extension": ".py",
   "mimetype": "text/x-python",
   "name": "python",
   "nbconvert_exporter": "python",
   "pygments_lexer": "ipython3",
   "version": "3.8.8"
  }
 },
 "nbformat": 4,
 "nbformat_minor": 5
}
