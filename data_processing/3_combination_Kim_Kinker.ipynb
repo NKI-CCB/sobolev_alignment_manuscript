{
 "cells": [
  {
   "cell_type": "markdown",
   "id": "2c6b0a13",
   "metadata": {},
   "source": [
    "# Analysis of [Kim et al] and [Kinker et al] restricted to NSCLC cell lines"
   ]
  },
  {
   "cell_type": "code",
   "execution_count": 1,
   "id": "1bd4a1cf",
   "metadata": {},
   "outputs": [],
   "source": [
    "import os, sys\n",
    "import pandas as pd\n",
    "import numpy as np\n",
    "import seaborn as sns\n",
    "import matplotlib.pyplot as plt\n",
    "import umap\n",
    "from sklearn.preprocessing import StandardScaler\n",
    "%config IPCompleter.use_jedi = False"
   ]
  },
  {
   "cell_type": "markdown",
   "id": "3815d27d",
   "metadata": {},
   "source": [
    "## Load data\n",
    "### Counts without correction"
   ]
  },
  {
   "cell_type": "code",
   "execution_count": 2,
   "id": "f9fe7e3e",
   "metadata": {},
   "outputs": [],
   "source": [
    "raw_count_files = {\n",
    "    'cell_line': '../data/Kinker/processed/NSCLC_data.pkl',\n",
    "    'tumor': '../data/Kim/processed/lung_data.pkl'\n",
    "}\n",
    "\n",
    "raw_data_df = {\n",
    "    x: pd.read_pickle(file, compression='gzip')\n",
    "    for x, file in raw_count_files.items()\n",
    "}"
   ]
  },
  {
   "cell_type": "code",
   "execution_count": 3,
   "id": "846d8d58",
   "metadata": {},
   "outputs": [],
   "source": [
    "# Change tumor index\n",
    "tumor_index = np.array([np.array(e) for e in raw_data_df['tumor'].index.str.split('_')])\n",
    "tumor_index = [\n",
    "    tumor_index[:,0],\n",
    "    np.char.array(tumor_index[:,1]) + '-' + np.char.array(tumor_index[:,2]),\n",
    "    ['TUMOR'] * tumor_index.shape[0]\n",
    "]\n",
    "raw_data_df['tumor'].index = pd.MultiIndex.from_arrays(tumor_index)\n",
    "\n",
    "# Create type index\n",
    "type_index = [[x.upper()] * raw_data_df[x].shape[0] for x in raw_count_files]\n",
    "type_index = np.concatenate(type_index)"
   ]
  },
  {
   "cell_type": "code",
   "execution_count": 4,
   "id": "8c3ed7e3",
   "metadata": {},
   "outputs": [],
   "source": [
    "common_genes = np.intersect1d(*[np.array(df.columns) for df in raw_data_df.values()])\n",
    "raw_data_df = {\n",
    "    s: df[common_genes]\n",
    "    for s, df in raw_data_df.items()\n",
    "}"
   ]
  },
  {
   "cell_type": "code",
   "execution_count": 5,
   "id": "187471ed",
   "metadata": {},
   "outputs": [],
   "source": [
    "raw_data_df = pd.concat(raw_data_df.values(), axis=0)\n",
    "raw_data_df['type'] = type_index\n",
    "raw_data_df.set_index('type', append=True, inplace=True)"
   ]
  },
  {
   "cell_type": "code",
   "execution_count": 8,
   "id": "3ddb48ae",
   "metadata": {},
   "outputs": [],
   "source": [
    "# Save\n",
    "output_folder = '../data/Kinker_Kim/'\n",
    "if not os.path.isdir(output_folder):\n",
    "    os.mkdir(output_folder)\n",
    "raw_data_df.to_csv(\n",
    "    '%s/combined_count.csv'%(output_folder), \n",
    "    sep=','\n",
    ")\n",
    "raw_data_df.to_pickle(\n",
    "    '%s/combined_count.pkl'%(output_folder), \n",
    "    compression='gzip'\n",
    ")"
   ]
  },
  {
   "cell_type": "code",
   "execution_count": 9,
   "id": "c9f83c4e",
   "metadata": {},
   "outputs": [],
   "source": [
    "raw_data_df.xs('CELL_LINE', level='type').to_csv(\n",
    "    '%s/cell_line_count.csv'%(output_folder), \n",
    "    sep=','\n",
    ")\n",
    "raw_data_df.xs('TUMOR', level='type').to_csv(\n",
    "    '%s/tumor_count.csv'%(output_folder), \n",
    "    sep=','\n",
    ")"
   ]
  }
 ],
 "metadata": {
  "kernelspec": {
   "display_name": "Python [conda env:.conda-sobolev_alignment]",
   "language": "python",
   "name": "conda-env-.conda-sobolev_alignment-py"
  },
  "language_info": {
   "codemirror_mode": {
    "name": "ipython",
    "version": 3
   },
   "file_extension": ".py",
   "mimetype": "text/x-python",
   "name": "python",
   "nbconvert_exporter": "python",
   "pygments_lexer": "ipython3",
   "version": "3.8.8"
  }
 },
 "nbformat": 4,
 "nbformat_minor": 5
}
