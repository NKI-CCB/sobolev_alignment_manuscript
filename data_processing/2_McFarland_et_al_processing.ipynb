{
 "cells": [
  {
   "cell_type": "markdown",
   "id": "26a3c4b6",
   "metadata": {},
   "source": [
    "# Analysis of [McFarland et al 2020] data"
   ]
  },
  {
   "cell_type": "code",
   "execution_count": null,
   "id": "4852e380",
   "metadata": {},
   "outputs": [],
   "source": [
    "import os, sys\n",
    "import numpy as np\n",
    "import pandas as pd\n",
    "import scipy\n",
    "import matplotlib.pyplot as plt\n",
    "import scipy.io\n",
    "import seaborn as sns\n",
    "import gc\n",
    "from anndata import AnnData\n",
    "from joblib import Parallel, delayed\n",
    "import scanpy\n",
    "%config IPCompleter.use_jedi = False\n",
    "\n",
    "figure_folder = './figures/McFarland/'"
   ]
  },
  {
   "cell_type": "markdown",
   "id": "27a92d05",
   "metadata": {},
   "source": [
    "## Import data"
   ]
  },
  {
   "cell_type": "code",
   "execution_count": null,
   "id": "1cd5f66f",
   "metadata": {},
   "outputs": [],
   "source": [
    "data_folder = '../data/McFarland/raw/'\n",
    "processed_folder = '/../data/McFarland/processed'"
   ]
  },
  {
   "cell_type": "markdown",
   "id": "39f819a0",
   "metadata": {},
   "source": [
    "### Unzip all files"
   ]
  },
  {
   "cell_type": "code",
   "execution_count": null,
   "id": "42539b95",
   "metadata": {
    "scrolled": true
   },
   "outputs": [],
   "source": [
    "for x in os.listdir(data_folder):\n",
    "    file = '%s/%s'%(data_folder, x)\n",
    "    !unzip {file} -d {data_folder}"
   ]
  },
  {
   "cell_type": "markdown",
   "id": "8299cb49",
   "metadata": {},
   "source": [
    "### Read folders"
   ]
  },
  {
   "cell_type": "code",
   "execution_count": null,
   "id": "81f64aeb",
   "metadata": {},
   "outputs": [],
   "source": [
    "def read_data(folder):\n",
    "    data = scipy.io.mmread(folder + 'matrix.mtx').toarray()\n",
    "    proportion_non_zeros = np.where(data > 0)[0].shape[0] / (data.shape[0] * data.shape[1])\n",
    "    print('%2.1f %% of non-zeros'%(proportion_non_zeros * 100))\n",
    "\n",
    "    genes = pd.read_csv(folder + 'genes.tsv', sep='\\t', header=None)\n",
    "    genes.columns = ['ensembl', 'hugo']\n",
    "    assert genes.shape[0] == data.shape[0]\n",
    "\n",
    "    data_df = pd.DataFrame(data.T, columns = genes['hugo'])\n",
    "    barcode_df = pd.read_csv(folder + 'barcodes.tsv', header=None).values.flatten()\n",
    "    classification_df = pd.read_csv(folder + 'classifications.csv')\n",
    "\n",
    "    # Parse sample names\n",
    "    samples = classification_df[['barcode', 'singlet_ID', 'singlet_margin', 'percent.mito', 'cell_quality', 'DepMap_ID']]\n",
    "    samples['tissue'] = samples['singlet_ID'].apply(lambda x: '_'.join(str(x).split('_')[1:]))\n",
    "    samples['cell_line'] = samples['singlet_ID'].apply(lambda x: str(x).split('_')[0])\n",
    "    samples = samples.set_index('barcode').loc[barcode_df].reset_index()\n",
    "\n",
    "    # Link to data    \n",
    "    samples['expt'] = folder.split('/')[-2]\n",
    "    data_df.index = pd.MultiIndex.from_frame(samples)\n",
    "    \n",
    "    return data_df"
   ]
  },
  {
   "cell_type": "code",
   "execution_count": null,
   "id": "7c674b9f",
   "metadata": {},
   "outputs": [],
   "source": [
    "expts_data_df = []\n",
    "\n",
    "folders = [f for f in os.listdir(data_folder) if os.path.isdir('%s/%s'%(data_folder, f))]\n",
    "expts_data_df = Parallel(n_jobs=30, verbose=10)(\n",
    "    delayed(read_data)('%s/%s/'%(data_folder, f))\n",
    "    for f in folders\n",
    ")\n",
    "gc.collect()"
   ]
  },
  {
   "cell_type": "code",
   "execution_count": null,
   "id": "d892a6a4",
   "metadata": {
    "scrolled": true
   },
   "outputs": [],
   "source": [
    "data_df = expts_data_df[0]\n",
    "\n",
    "for idx, df in enumerate(expts_data_df[1:]):\n",
    "    print('MERGE %s'%(idx))\n",
    "    data_df = pd.concat([data_df, df])\n",
    "    expts_data_df[idx+1] = None\n",
    "    gc.collect()"
   ]
  },
  {
   "cell_type": "markdown",
   "id": "ebdcbdcb",
   "metadata": {},
   "source": [
    "## NSCLC cell lines filtering"
   ]
  },
  {
   "cell_type": "code",
   "execution_count": null,
   "id": "221fa5ac",
   "metadata": {},
   "outputs": [],
   "source": [
    "ccle_annot_df = pd.read_csv('../data/cell_lines/sample_info.csv')\n",
    "ccle_annot_df = ccle_annot_df[ccle_annot_df['lineage_subtype'] == 'NSCLC']\n",
    "\n",
    "overlappinp_nsclc_cell_lines = np.intersect1d(\n",
    "    data_df.index.get_level_values('DepMap_ID'),\n",
    "    np.unique(ccle_annot_df['DepMap_ID'].astype(str))\n",
    ").astype(str)\n",
    "\n",
    "print('%s OVERLAPPING CELL LINES'%(overlappinp_nsclc_cell_lines.shape[0]))\n",
    "\n",
    "nsclc_data_df = data_df.iloc[\n",
    "    data_df.index.get_level_values('DepMap_ID').isin(overlappinp_nsclc_cell_lines)\n",
    "]\n",
    "\n",
    "print('FROM %s to %s cells'%(data_df.shape[0], nsclc_data_df.shape[0]))\n",
    "\n",
    "# Create lung AnnData\n",
    "nsclc_index = pd.DataFrame(nsclc_data_df.reset_index()[nsclc_data_df.index.names])\n",
    "nsclc_index['barcode'] = nsclc_index['barcode'] + '_' + nsclc_index['expt']\n",
    "nsclc_data_an = AnnData(\n",
    "    nsclc_data_df.values,\n",
    "    obs=nsclc_index.reset_index(drop=True),\n",
    "    var=pd.DataFrame(nsclc_data_df.columns)\n",
    ")"
   ]
  },
  {
   "cell_type": "markdown",
   "id": "46dc72c3",
   "metadata": {},
   "source": [
    "### QC metrics"
   ]
  },
  {
   "cell_type": "code",
   "execution_count": null,
   "id": "855baeb1",
   "metadata": {},
   "outputs": [],
   "source": [
    "nsclc_qc_metrics = scanpy.pp.calculate_qc_metrics(nsclc_data_an)\n",
    "\n",
    "ax = sns.jointplot(\n",
    "        \"log1p_total_counts\", \"log1p_n_genes_by_counts\",\n",
    "        data=nsclc_qc_metrics[0], kind=\"hex\"\n",
    "    )\n",
    "ax.ax_joint.xaxis.label.set_size(20)\n",
    "ax.ax_joint.xaxis.label.set_color('black')\n",
    "ax.ax_joint.yaxis.label.set_size(20)\n",
    "ax.ax_joint.yaxis.label.set_color('black')\n",
    "\n",
    "plt.tight_layout()\n",
    "plt.savefig('%s/NSCLC_QC_plot.png'%(figure_folder), dpi=300)"
   ]
  },
  {
   "cell_type": "markdown",
   "id": "dafe1312",
   "metadata": {},
   "source": [
    "### Filter cell"
   ]
  },
  {
   "cell_type": "code",
   "execution_count": null,
   "id": "7f204b7a",
   "metadata": {},
   "outputs": [],
   "source": [
    "min_genes = 200\n",
    "filter_cells = scanpy.pp.filter_cells(nsclc_data_an, \n",
    "                                      min_genes=min_genes)\n",
    "print('Going from %s cells to %s cells'%(nsclc_data_df.shape[0], nsclc_data_an.shape[0]))"
   ]
  },
  {
   "cell_type": "markdown",
   "id": "4afb795a",
   "metadata": {},
   "source": [
    "### Filter genes"
   ]
  },
  {
   "cell_type": "code",
   "execution_count": null,
   "id": "cfcb0eb5",
   "metadata": {},
   "outputs": [],
   "source": [
    "min_cells = 3\n",
    "filter_genes = scanpy.pp.filter_genes(nsclc_data_an,\n",
    "                                      min_cells=min_cells)\n",
    "print('Going from %s genes to %s genes'%(nsclc_data_df.shape[1], nsclc_data_an.shape[1]))"
   ]
  },
  {
   "cell_type": "markdown",
   "id": "957c5db2",
   "metadata": {},
   "source": [
    "### Mitochondrial genes"
   ]
  },
  {
   "cell_type": "code",
   "execution_count": null,
   "id": "148570d6",
   "metadata": {},
   "outputs": [],
   "source": [
    "gene_lookup_df = pd.read_csv('../data/genes/pybiomart_gene_status.csv', \n",
    "                             sep='\\t', index_col=0)\n",
    "gene_lookup_df = gene_lookup_df[['Hugo', 'chromosome_name', 'status']].drop_duplicates()\n",
    "\n",
    "protein_coding_df = gene_lookup_df[gene_lookup_df['status'] == 'protein_coding']\n",
    "print('%s protein coding genes from pybiomart'%(protein_coding_df.shape[0]))\n",
    "\n",
    "chromosome = np.concatenate([np.arange(1,23).astype(str), ['X', 'Y']])\n",
    "non_mitochondrial_df = gene_lookup_df[gene_lookup_df['chromosome_name'].isin(chromosome)]\n",
    "mitochondrial_df = gene_lookup_df[gene_lookup_df['chromosome_name'] == 'MT']"
   ]
  },
  {
   "cell_type": "code",
   "execution_count": null,
   "id": "48bbbe95",
   "metadata": {},
   "outputs": [],
   "source": [
    "NSCLC_MT_prop_df = nsclc_data_an.to_df().T\n",
    "NSCLC_MT_prop_df['IS_MT'] = (np.isin(nsclc_data_an.var['hugo'].values, mitochondrial_df['Hugo']))\n",
    "\n",
    "NSCLC_MT_prop_df = NSCLC_MT_prop_df.groupby('IS_MT').agg('sum').T\n",
    "NSCLC_MT_prop_df = (NSCLC_MT_prop_df.T / np.sum(NSCLC_MT_prop_df, axis=1)).T\n",
    "\n",
    "plt.figure(figsize=(4,6))\n",
    "sns.violinplot(y=NSCLC_MT_prop_df[True], orient='v', alpha=0.7)\n",
    "# sns.swarmplot(y=NSCLC_MT_prop_df[True].values, color='black', size=2)\n",
    "\n",
    "plt.ylabel('MT counts / all counts per cell', fontsize=20, color='black')\n",
    "plt.yticks(fontsize=15, color='black')\n",
    "plt.title('MT proportion', fontsize=20, color='black')\n",
    "plt.tight_layout()\n",
    "plt.savefig('%s/NSCLC_MT_proportion.png'%(figure_folder), dpi=300)"
   ]
  },
  {
   "cell_type": "code",
   "execution_count": null,
   "id": "431ec9b7",
   "metadata": {},
   "outputs": [],
   "source": [
    "mito_filtering_params = {\n",
    "    'min': 0.02,\n",
    "    'max': 0.5\n",
    "}\n",
    "\n",
    "mito_filtered_samples = NSCLC_MT_prop_df[(NSCLC_MT_prop_df[True] < mito_filtering_params['max'])\\\n",
    "                                         & (NSCLC_MT_prop_df[True] > mito_filtering_params['min'])].index\n",
    "print('%s cells filtered'%(nsclc_data_an.shape[0] - mito_filtered_samples.shape[0]))\n",
    "nsclc_data_an = nsclc_data_an[mito_filtered_samples]"
   ]
  },
  {
   "cell_type": "markdown",
   "id": "b307a76d",
   "metadata": {},
   "source": [
    "### Ribosomal genes"
   ]
  },
  {
   "cell_type": "code",
   "execution_count": null,
   "id": "de441c86",
   "metadata": {},
   "outputs": [],
   "source": [
    "ribosomal_genes_df = pd.read_csv(\n",
    "    '../data/genes/ribosomal_genes.csv', \n",
    "    sep=',', index_col=0, skiprows=1\n",
    ")\n",
    "\n",
    "ribosomal_genes = ribosomal_genes_df['Gene'].values.astype(str)"
   ]
  },
  {
   "cell_type": "code",
   "execution_count": null,
   "id": "901021ca",
   "metadata": {},
   "outputs": [],
   "source": [
    "NSCLC_ribo_prop_df = nsclc_data_an.to_df().T\n",
    "NSCLC_ribo_prop_df['IS_RIBO'] = np.isin(nsclc_data_an.var['hugo'].values, ribosomal_genes)\n",
    "\n",
    "NSCLC_ribo_prop_df = NSCLC_ribo_prop_df.groupby('IS_RIBO').agg('sum').T\n",
    "NSCLC_ribo_prop_df = (NSCLC_ribo_prop_df.T / np.sum(NSCLC_ribo_prop_df, axis=1)).T\n",
    "\n",
    "plt.figure(figsize=(4.5,6))\n",
    "sns.violinplot(y=NSCLC_ribo_prop_df[True], orient='v', alpha=0.7)\n",
    "\n",
    "plt.ylabel('Ribosomal counts / all counts \\n (per cell)', fontsize=20, color='black')\n",
    "plt.yticks(fontsize=15, color='black')\n",
    "plt.title('Ribosomal gene proportion', fontsize=20, color='black')\n",
    "plt.tight_layout()\n",
    "plt.savefig('%s/NSCLC_Ribo_proportion.png'%(figure_folder), dpi=300)"
   ]
  },
  {
   "cell_type": "code",
   "execution_count": null,
   "id": "9eb2b2b9",
   "metadata": {},
   "outputs": [],
   "source": [
    "ribo_filtering_params = {\n",
    "    'min': 0.1,\n",
    "    'max': 0.6\n",
    "}\n",
    "\n",
    "ribosomal_filtered_samples = NSCLC_ribo_prop_df[(NSCLC_ribo_prop_df[True] < ribo_filtering_params['max'])\\\n",
    "                                                & (NSCLC_ribo_prop_df[True] > ribo_filtering_params['min'])].index\n",
    "print('%s cells filtered'%(NSCLC_ribo_prop_df.shape[0] - ribosomal_filtered_samples.shape[0]))\n",
    "nsclc_data_an = nsclc_data_an[ribosomal_filtered_samples]"
   ]
  },
  {
   "cell_type": "markdown",
   "id": "e007a15d",
   "metadata": {},
   "source": [
    "### Restriction to protein coding"
   ]
  },
  {
   "cell_type": "code",
   "execution_count": null,
   "id": "66d87b87",
   "metadata": {},
   "outputs": [],
   "source": [
    "data_pc_idx = np.isin(nsclc_data_an.var['hugo'].values, protein_coding_df['Hugo'].values)\n",
    "data_pc_genes = nsclc_data_an.var[data_pc_idx]\n",
    "nsclc_data_an = nsclc_data_an[:,data_pc_idx]\n",
    "print('%s PC genes'%(data_pc_genes.shape[0]))"
   ]
  },
  {
   "cell_type": "markdown",
   "id": "28279930",
   "metadata": {},
   "source": [
    "### Highly variable questions"
   ]
  },
  {
   "cell_type": "code",
   "execution_count": null,
   "id": "6dbc2820",
   "metadata": {},
   "outputs": [],
   "source": [
    "n_top_genes = 3000\n",
    "\n",
    "scanpy.pp.highly_variable_genes(nsclc_data_an, \n",
    "                                n_top_genes=n_top_genes, \n",
    "                                flavor='seurat_v3')\n",
    "\n",
    "high_var_genes = nsclc_data_an.var[nsclc_data_an.var['highly_variable']].sort_values('highly_variable_rank')['hugo']\n",
    "high_var_genes = np.array(high_var_genes).astype(str)"
   ]
  },
  {
   "cell_type": "code",
   "execution_count": null,
   "id": "c6ac03d6",
   "metadata": {},
   "outputs": [],
   "source": [
    "print('%s highly variable genes'%(high_var_genes.shape[0]))\n",
    "print('%s are protein coding'%(np.intersect1d(high_var_genes, protein_coding_df['Hugo'].values).shape[0]))\n",
    "print('%s are MT'%(np.intersect1d(high_var_genes, mitochondrial_df['Hugo'].values).shape[0]))\n",
    "print('%s are ribosomal'%(np.intersect1d(high_var_genes, ribosomal_genes).shape[0]))"
   ]
  },
  {
   "cell_type": "markdown",
   "id": "53e27bdd",
   "metadata": {},
   "source": [
    "### Check and remove outliersm"
   ]
  },
  {
   "cell_type": "code",
   "execution_count": null,
   "id": "7a0e0025",
   "metadata": {},
   "outputs": [],
   "source": [
    "nsclc_data_filtered_an = nsclc_data_an[:,nsclc_data_an.var['highly_variable']]"
   ]
  },
  {
   "cell_type": "markdown",
   "id": "d985a374",
   "metadata": {},
   "source": [
    "#### Gene-level: number of cells expressing a gene"
   ]
  },
  {
   "cell_type": "code",
   "execution_count": null,
   "id": "c66e10cb",
   "metadata": {},
   "outputs": [],
   "source": [
    "plot_df = np.sum(nsclc_data_filtered_an.to_df() != 0, axis=0) / nsclc_data_filtered_an.shape[0]\n",
    "\n",
    "# fig, axes = plt.subplots(1,2, figsize=(8,5))\n",
    "axes = plt.figure(constrained_layout=True, figsize=(10,5)).subplot_mosaic(\n",
    "    \"\"\"\n",
    "    ABBB\n",
    "    \"\"\"\n",
    ")\n",
    "sns.violinplot(y=plot_df, orient='v', ax=axes['A'])\n",
    "axes['A'].set_ylim(-0.05, 1.05)\n",
    "axes['A'].set_ylabel('Proportion of non zero per gene', fontsize=20, color='black')\n",
    "axes['A'].tick_params(axis='both', which='major', labelsize=15)\n",
    "\n",
    "axes['B'].plot(plot_df.sort_values().values, linewidth=3)\n",
    "axes['B'].set_ylim(-0.05, 1.05)\n",
    "axes['B'].tick_params(axis='both', which='major', labelsize=15)\n",
    "axes['B'].set_xlabel('Gene rank', fontsize=20, color='black')\n",
    "\n",
    "plt.tight_layout()\n",
    "plt.savefig('%s/NSCLC_gene_dropout_rank.png'%(figure_folder), dpi=300, facecolor='white')\n",
    "plt.show()\n",
    "\n",
    "del plot_df"
   ]
  },
  {
   "cell_type": "markdown",
   "id": "198b8ae4",
   "metadata": {},
   "source": [
    "#### Sample-level library size"
   ]
  },
  {
   "cell_type": "code",
   "execution_count": null,
   "id": "3d6cb3f4",
   "metadata": {},
   "outputs": [],
   "source": [
    "library_size_df = np.sum(nsclc_data_an.to_df(), axis=1)\n",
    "\n",
    "axes = plt.figure(constrained_layout=True, figsize=(10,5)).subplot_mosaic(\n",
    "    \"\"\"\n",
    "    ABBB\n",
    "    \"\"\"\n",
    ")\n",
    "sns.violinplot(y=library_size_df, orient='v', ax=axes['A'])\n",
    "axes['A'].set_ylabel('Library size per single cell', fontsize=20, color='black')\n",
    "axes['A'].tick_params(axis='both', which='major', labelsize=15)\n",
    "\n",
    "axes['B'].plot(library_size_df.sort_values().values, linewidth=3)\n",
    "axes['B'].tick_params(axis='both', which='major', labelsize=15)\n",
    "axes['B'].set_xlabel('Cell rank', fontsize=20, color='black')\n",
    "\n",
    "plt.tight_layout()\n",
    "plt.savefig('%s/library_size.png'%(figure_folder), dpi=300, facecolor='white')\n",
    "plt.show()"
   ]
  },
  {
   "cell_type": "code",
   "execution_count": null,
   "id": "b61b6ef3",
   "metadata": {},
   "outputs": [],
   "source": [
    "threshold_library_size = {'min_library_size': 500, 'max_library_size':75000}\n",
    "\n",
    "selected_cells = (library_size_df > threshold_library_size['min_library_size']) \n",
    "selected_cells = selected_cells & (library_size_df < threshold_library_size['max_library_size'])\n",
    "print('%s cells selected out of %s: %s %%'%(\n",
    "    np.sum(selected_cells),\n",
    "    nsclc_data_filtered_an.shape[0],\n",
    "    np.sum(selected_cells) / nsclc_data_filtered_an.shape[0] * 100\n",
    "))"
   ]
  },
  {
   "cell_type": "code",
   "execution_count": null,
   "id": "88bc2933",
   "metadata": {},
   "outputs": [],
   "source": [
    "nsclc_data_filtered_an = nsclc_data_filtered_an[selected_cells]"
   ]
  },
  {
   "cell_type": "markdown",
   "id": "7b2571dc",
   "metadata": {},
   "source": [
    "#### Total expression"
   ]
  },
  {
   "cell_type": "code",
   "execution_count": null,
   "id": "5a327a40",
   "metadata": {},
   "outputs": [],
   "source": [
    "gene_total_exp_df = np.sum(nsclc_data_filtered_an.to_df(), axis=0)\n",
    "\n",
    "# fig, axes = plt.subplots(1,2, figsize=(8,5))\n",
    "axes = plt.figure(constrained_layout=True, figsize=(10,5)).subplot_mosaic(\n",
    "    \"\"\"\n",
    "    ABBB\n",
    "    \"\"\"\n",
    ")\n",
    "sns.violinplot(y=gene_total_exp_df, orient='v', ax=axes['A'])\n",
    "axes['A'].set_ylabel('Proportion of non zero per gene', fontsize=20, color='black')\n",
    "axes['A'].tick_params(axis='both', which='major', labelsize=15)\n",
    "\n",
    "axes['B'].plot(gene_total_exp_df.sort_values().values, linewidth=3, marker='+')\n",
    "axes['B'].tick_params(axis='both', which='major', labelsize=15)\n",
    "axes['B'].set_xlabel('Gene rank', fontsize=20, color='black')\n",
    "\n",
    "plt.tight_layout()\n",
    "plt.savefig('%s/NSCLC_gene_total_exp.png'%(figure_folder), dpi=300, facecolor='white')\n",
    "plt.show()"
   ]
  },
  {
   "cell_type": "markdown",
   "id": "31306613",
   "metadata": {},
   "source": [
    "### Save\n",
    "#### Protein coding"
   ]
  },
  {
   "cell_type": "code",
   "execution_count": null,
   "id": "9b6573bf",
   "metadata": {},
   "outputs": [],
   "source": [
    "nsclc_data_df[data_pc_genes['hugo'].values].to_csv(\n",
    "    '../data/McFarland/processed/NSCLC_protein_coding.csv'\n",
    ")\n",
    "nsclc_data_df[data_pc_genes['hugo'].values].to_pickle(\n",
    "    '../data/McFarland/processed/NSCLC_protein_coding.pkl',\n",
    "    compression='gzip'\n",
    ")\n",
    "\n",
    "nsclc_data_df[data_pc_genes['hugo'].values].index.to_frame().reset_index(drop=True).to_csv(\n",
    "    '../data/McFarland/processed/NSCLC_metadata.csv',\n",
    "    sep=','\n",
    ")"
   ]
  },
  {
   "cell_type": "markdown",
   "id": "a643dab9",
   "metadata": {},
   "source": [
    "#### Highly variable"
   ]
  },
  {
   "cell_type": "code",
   "execution_count": null,
   "id": "a37672ae",
   "metadata": {
    "code_folding": []
   },
   "outputs": [],
   "source": [
    "nsclc_save_df = pd.DataFrame({\n",
    "    'min_cells': [min_cells],\n",
    "    'min_genes': [min_genes],\n",
    "    'n_top_genes': [n_top_genes],\n",
    "    'min_library_size': [threshold_library_size['min_library_size']],\n",
    "    'max_library_size': [threshold_library_size['max_library_size']],\n",
    "    'min_ribosomal_filtering': [ribo_filtering_params['min']],\n",
    "    'max_ribosomal_filtering': [ribo_filtering_params['max']]\n",
    "}).T"
   ]
  },
  {
   "cell_type": "code",
   "execution_count": null,
   "id": "0387e8f5",
   "metadata": {},
   "outputs": [],
   "source": [
    "nsclc_data_filtered_an.obs['pool'] = nsclc_data_filtered_an.obs['expt'].str.extract(r'_(expt[0-9]*)')\n",
    "nsclc_data_filtered_df = nsclc_data_filtered_an.to_df()\n",
    "nsclc_data_filtered_df.columns = nsclc_data_filtered_an.var['hugo']\n",
    "nsclc_data_filtered_df.index = pd.MultiIndex.from_frame(nsclc_data_filtered_an.obs[['barcode', 'singlet_ID', 'pool', 'expt']])\n",
    "nsclc_data_filtered_df.index.names = ['barcode', 'sample', 'pool', 'expt']\n",
    "\n",
    "nsclc_data_filtered_df.to_csv(\n",
    "    '../data/McFarland/processed/NSCLC_highly_variable.csv'\n",
    ")\n",
    "nsclc_data_filtered_df.to_pickle(\n",
    "    '../data/McFarland/processed/NSCLC_highly_variable.pkl',\n",
    "    compression='gzip'\n",
    ")"
   ]
  }
 ],
 "metadata": {
  "kernelspec": {
   "display_name": "Python [conda env:.conda-sobolev_alignment]",
   "language": "python",
   "name": "conda-env-.conda-sobolev_alignment-py"
  },
  "language_info": {
   "codemirror_mode": {
    "name": "ipython",
    "version": 3
   },
   "file_extension": ".py",
   "mimetype": "text/x-python",
   "name": "python",
   "nbconvert_exporter": "python",
   "pygments_lexer": "ipython3",
   "version": "3.8.8"
  }
 },
 "nbformat": 4,
 "nbformat_minor": 5
}
