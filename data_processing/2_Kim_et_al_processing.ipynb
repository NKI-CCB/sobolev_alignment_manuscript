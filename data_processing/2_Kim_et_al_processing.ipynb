{
 "cells": [
  {
   "cell_type": "markdown",
   "id": "alone-consensus",
   "metadata": {},
   "source": [
    "# Processing of Kim et al dataset\n",
    "Pre-processing of treatment-naive epithelial tumor cells from [Kim et al 2020 Nature Communications]."
   ]
  },
  {
   "cell_type": "code",
   "execution_count": null,
   "id": "injured-canal",
   "metadata": {},
   "outputs": [],
   "source": [
    "import os, sys, gc, scanpy\n",
    "import numpy as np\n",
    "import pandas as pd\n",
    "import seaborn as sns\n",
    "from anndata import AnnData\n",
    "import matplotlib.pyplot as plt\n",
    "%config IPCompleter.use_jedi = False\n",
    "\n",
    "figure_folder = './figures/Kim_et_al_2020'"
   ]
  },
  {
   "cell_type": "markdown",
   "id": "weekly-escape",
   "metadata": {},
   "source": [
    "## Data loading"
   ]
  },
  {
   "cell_type": "code",
   "execution_count": null,
   "id": "dense-print",
   "metadata": {},
   "outputs": [],
   "source": [
    "data_folder = '../data/Kim/raw/'\n",
    "summary_file = 'GSE131907_Lung_Cancer_Feature_Summary.xlsx'\n",
    "annot_file = 'GSE131907_Lung_Cancer_cell_annotation.txt'"
   ]
  },
  {
   "cell_type": "code",
   "execution_count": null,
   "id": "handed-jenny",
   "metadata": {},
   "outputs": [],
   "source": [
    "sample_summary_df = pd.read_excel('%s/%s'%(data_folder, summary_file), header=2, index_col=0)\n",
    "sample_summary_df = sample_summary_df.iloc[:-1]\n",
    "\n",
    "annot_df = pd.read_csv('%s/%s'%(data_folder, annot_file), sep='\\t')"
   ]
  },
  {
   "cell_type": "markdown",
   "id": "civil-software",
   "metadata": {},
   "source": [
    "## Cell types"
   ]
  },
  {
   "cell_type": "code",
   "execution_count": null,
   "id": "steady-strand",
   "metadata": {},
   "outputs": [],
   "source": [
    "plot_df = annot_df.groupby('Cell_type').agg('count').sort_values('Index', ascending=True)\n",
    "plot_df.reset_index().plot.bar(x='Cell_type', y='Index', figsize=(6,4))\n",
    "plt.yticks(fontsize=15, color='black')\n",
    "plt.xticks(fontsize=15, color='black', rotation=90)\n",
    "plt.xlabel('')\n",
    "plt.ylabel('')\n",
    "plt.legend([])\n",
    "plt.title('Number of cell per cell type', fontsize=20, color='black')\n",
    "plt.tight_layout()\n",
    "plt.savefig('%s/cell_type_decomposition.png'%(figure_folder), dpi=300)\n",
    "\n",
    "cell_type_order = np.array(plot_df.index).astype(str)\n",
    "del plot_df"
   ]
  },
  {
   "cell_type": "markdown",
   "id": "polished-survey",
   "metadata": {},
   "source": [
    "## Sample_Origin"
   ]
  },
  {
   "cell_type": "code",
   "execution_count": null,
   "id": "destroyed-sauce",
   "metadata": {},
   "outputs": [],
   "source": [
    "plot_df = annot_df.groupby('Sample_Origin').agg('count').sort_values('Index', ascending=True)\n",
    "plot_df.reset_index().plot.bar(x='Sample_Origin', y='Index', figsize=(6,4))\n",
    "plt.yticks(fontsize=15, color='black')\n",
    "plt.xticks(fontsize=15, color='black', rotation=90)\n",
    "plt.xlabel('')\n",
    "plt.ylabel('')\n",
    "plt.legend([])\n",
    "plt.title('Number of cell per origin', fontsize=20, color='black')\n",
    "plt.tight_layout()\n",
    "plt.savefig('%s/sample_origin_decomposition.png'%(figure_folder), dpi=300)\n",
    "\n",
    "del plot_df"
   ]
  },
  {
   "cell_type": "markdown",
   "id": "84e5b1b8",
   "metadata": {},
   "source": [
    "## General statistics"
   ]
  },
  {
   "cell_type": "code",
   "execution_count": null,
   "id": "5ac36f8a",
   "metadata": {},
   "outputs": [],
   "source": [
    "print('%s distinct cells'%(annot_df.shape[0]))\n",
    "print('%s different patients'%(np.unique(annot_df['Sample']).shape[0]))\n",
    "print('%s epithelial cells'%(annot_df[annot_df['Cell_type'] == 'Epithelial cells'].shape[0]))"
   ]
  },
  {
   "cell_type": "markdown",
   "id": "dense-simple",
   "metadata": {},
   "source": [
    "## Origin and cell type"
   ]
  },
  {
   "cell_type": "code",
   "execution_count": null,
   "id": "featured-raising",
   "metadata": {},
   "outputs": [],
   "source": [
    "plot_df = annot_df.groupby(['Cell_type', 'Sample_Origin']).agg('count').sort_values('Index', ascending=True)\n",
    "plot_df = plot_df.reset_index()\n",
    "plot_df = plot_df[['Cell_type', 'Sample_Origin', 'Barcode']].pivot_table(index='Cell_type',\n",
    "                                                                         columns='Sample_Origin', \n",
    "                                                                         values='Barcode')\n",
    "plot_df = plot_df.fillna(0)\n",
    "plot_df = plot_df.loc[cell_type_order[::-1]]\n",
    "\n",
    "plot_df.plot(kind='bar', stacked=True, figsize=(10,6))\n",
    "plt.legend(fontsize=15, ncol=2)\n",
    "plt.xticks(fontsize=20, color='black')\n",
    "plt.yticks(fontsize=15, color='black')\n",
    "plt.xlabel('')\n",
    "plt.ylabel('Number of cells', fontsize=20, color='black')\n",
    "plt.tight_layout()\n",
    "plt.savefig('%s/cell_type_origin_breakdown.png'%(figure_folder), dpi=300)\n",
    "\n",
    "del plot_df"
   ]
  },
  {
   "cell_type": "markdown",
   "id": "rough-embassy",
   "metadata": {},
   "source": [
    "## Save UMI matrix by pickle\n",
    "We here slide and pickle the huge data to facilitate downstream tasks.\n",
    "### Chunk and pickle"
   ]
  },
  {
   "cell_type": "code",
   "execution_count": null,
   "id": "spiritual-dining",
   "metadata": {},
   "outputs": [],
   "source": [
    "data_file = 'GSE131907_Lung_Cancer_raw_UMI_matrix.txt'\n",
    "intermediate_folder = '../data/Kim/tmp/'"
   ]
  },
  {
   "cell_type": "code",
   "execution_count": null,
   "id": "intimate-guyana",
   "metadata": {},
   "outputs": [],
   "source": [
    "data_df = []\n",
    "chunksize = 5000\n",
    "i = 0\n",
    "\n",
    "with pd.read_csv('%s/%s'%(data_folder,data_file), chunksize=chunksize, sep='\\t') as reader:\n",
    "    for chunk in reader:\n",
    "        print('ITER %s'%(i), flush=True)\n",
    "        chunk.to_pickle('%s/chunk_%s.pkl'%(intermediate_folder, i),\n",
    "                        compression='gzip')\n",
    "        i += 1"
   ]
  },
  {
   "cell_type": "markdown",
   "id": "seven-editor",
   "metadata": {},
   "source": [
    "### Load pickled data"
   ]
  },
  {
   "cell_type": "code",
   "execution_count": null,
   "id": "permanent-accreditation",
   "metadata": {},
   "outputs": [],
   "source": [
    "data_df = []\n",
    "for f in os.listdir(intermediate_folder):\n",
    "    print('START %s'%(f))\n",
    "    data_df.append(pd.read_pickle(\n",
    "        '%s/%s'%(intermediate_folder, f), \n",
    "        compression='gzip'\n",
    "    ))\n",
    "\n",
    "print('TRANSPOSE')\n",
    "data_df = [df.set_index('Index') for df in data_df]\n",
    "\n",
    "print('CONCAT')\n",
    "data_df = pd.concat(data_df, axis=0)\n",
    "gc.collect()"
   ]
  },
  {
   "cell_type": "markdown",
   "id": "recreational-group",
   "metadata": {},
   "source": [
    "## Tumor cell specific\n",
    "### Restrict data"
   ]
  },
  {
   "cell_type": "code",
   "execution_count": null,
   "id": "pressing-riverside",
   "metadata": {},
   "outputs": [],
   "source": [
    "ct_annot_df = annot_df[annot_df['Cell_type'] == 'Epithelial cells']\n",
    "ct_samples = ct_annot_df['Index'].values.astype(str)\n",
    "\n",
    "print('SAMPLE FILTERING', flush=True)\n",
    "tumor_df = data_df[ct_samples].T\n",
    "\n",
    "print('GENE FILTERING', flush=True)\n",
    "non_zero_genes = tumor_df.columns[np.where(np.sum(tumor_df, axis=0) > 0)]\n",
    "tumor_df = tumor_df[non_zero_genes]"
   ]
  },
  {
   "cell_type": "markdown",
   "id": "monetary-childhood",
   "metadata": {},
   "source": [
    "### Gene filtering"
   ]
  },
  {
   "cell_type": "markdown",
   "id": "trained-trial",
   "metadata": {},
   "source": [
    "### Protein coding"
   ]
  },
  {
   "cell_type": "code",
   "execution_count": null,
   "id": "vocal-wilderness",
   "metadata": {},
   "outputs": [],
   "source": [
    "gene_lookup_df = pd.read_csv(\n",
    "    '../data/genes/pybiomart_gene_status.csv', \n",
    "    sep='\\t', index_col=0\n",
    ")\n",
    "gene_lookup_df = gene_lookup_df[['Hugo', 'chromosome_name', 'status']].drop_duplicates()\n",
    "\n",
    "protein_coding_df = gene_lookup_df[gene_lookup_df['status'] == 'protein_coding']\n",
    "print('%s protein coding genes from pybiomart'%(protein_coding_df.shape[0]))"
   ]
  },
  {
   "cell_type": "markdown",
   "id": "authentic-proof",
   "metadata": {},
   "source": [
    "### Non-mitochondrial"
   ]
  },
  {
   "cell_type": "code",
   "execution_count": null,
   "id": "aggressive-classic",
   "metadata": {},
   "outputs": [],
   "source": [
    "chromosome = np.concatenate([np.arange(1,23).astype(str), ['X', 'Y']])\n",
    "non_mitochondrial_df = gene_lookup_df[gene_lookup_df['chromosome_name'].isin(chromosome)]\n",
    "mitochondrial_df = gene_lookup_df[gene_lookup_df['chromosome_name'] == 'MT']\n",
    "\n",
    "relevant_genes = np.intersect1d(non_mitochondrial_df['Hugo'].values, protein_coding_df['Hugo'].values)\n",
    "relevant_genes = np.unique(relevant_genes).astype(str)"
   ]
  },
  {
   "cell_type": "markdown",
   "id": "aggregate-ozone",
   "metadata": {},
   "source": [
    "### Ribosomal"
   ]
  },
  {
   "cell_type": "code",
   "execution_count": null,
   "id": "objective-thanksgiving",
   "metadata": {},
   "outputs": [],
   "source": [
    "ribosomal_genes_df = pd.read_csv(\n",
    "    '../data/genes/ribosomal_genes.csv', \n",
    "    sep=',', index_col=0, skiprows=1\n",
    ")\n",
    "\n",
    "ribosomal_genes = ribosomal_genes_df['Gene'].values.astype(str)"
   ]
  },
  {
   "cell_type": "markdown",
   "id": "classified-increase",
   "metadata": {},
   "source": [
    "### Filtering"
   ]
  },
  {
   "cell_type": "code",
   "execution_count": null,
   "id": "palestinian-orbit",
   "metadata": {},
   "outputs": [],
   "source": [
    "common_genes = np.intersect1d(tumor_df.columns, protein_coding_df['Hugo'].values)\n",
    "print('%s genes in Kinker et al, %s of which are selected'%(tumor_df.shape[1], common_genes.shape[0]))\n",
    "\n",
    "tumor_df = tumor_df[common_genes]"
   ]
  },
  {
   "cell_type": "markdown",
   "id": "informal-machinery",
   "metadata": {},
   "source": [
    "## Scanpy filtering"
   ]
  },
  {
   "cell_type": "code",
   "execution_count": null,
   "id": "subtle-standard",
   "metadata": {},
   "outputs": [],
   "source": [
    "scanpy_data_folder = '../data/Kim/processed/'"
   ]
  },
  {
   "cell_type": "code",
   "execution_count": null,
   "id": "sublime-citation",
   "metadata": {},
   "outputs": [],
   "source": [
    "# Create lung AnnData\n",
    "tumor_data_an = AnnData(tumor_df)\n",
    "print('Initial shape: %s samples x %s genes'%(tumor_data_an.shape[0], \n",
    "                                              tumor_data_an.shape[1]))"
   ]
  },
  {
   "cell_type": "code",
   "execution_count": null,
   "id": "f7985a5b",
   "metadata": {},
   "outputs": [],
   "source": [
    "# Save protein cancer\n",
    "tumor_df[np.intersect1d(non_mitochondrial_df['Hugo'].values, tumor_df.columns)].to_pickle(\n",
    "    '../data/Kim/processed/lung_protein_coding.pkl', compression='gzip'\n",
    ")"
   ]
  },
  {
   "cell_type": "markdown",
   "id": "superb-bottle",
   "metadata": {},
   "source": [
    "### QC analysis"
   ]
  },
  {
   "cell_type": "code",
   "execution_count": null,
   "id": "understood-corruption",
   "metadata": {},
   "outputs": [],
   "source": [
    "qc_metrics = scanpy.pp.calculate_qc_metrics(tumor_data_an)"
   ]
  },
  {
   "cell_type": "code",
   "execution_count": null,
   "id": "rough-failing",
   "metadata": {
    "scrolled": true
   },
   "outputs": [],
   "source": [
    "ax = sns.jointplot(\n",
    "        \"log1p_total_counts\", \"log1p_n_genes_by_counts\",\n",
    "        data=qc_metrics[0], kind=\"hex\"\n",
    "    )\n",
    "\n",
    "ax.ax_joint.xaxis.label.set_size(20)\n",
    "ax.ax_joint.xaxis.label.set_color('black')\n",
    "ax.ax_joint.yaxis.label.set_size(20)\n",
    "ax.ax_joint.yaxis.label.set_color('black')\n",
    "\n",
    "plt.tight_layout()\n",
    "plt.savefig('%s/QC_plot.png'%(figure_folder), dpi=300)"
   ]
  },
  {
   "cell_type": "markdown",
   "id": "chronic-pioneer",
   "metadata": {},
   "source": [
    "### Filter cells\n",
    "https://scanpy.readthedocs.io/en/stable/api/scanpy.pp.filter_cells.html"
   ]
  },
  {
   "cell_type": "code",
   "execution_count": null,
   "id": "premium-unknown",
   "metadata": {},
   "outputs": [],
   "source": [
    "min_genes = 200\n",
    "filter_cells = scanpy.pp.filter_cells(tumor_data_an, \n",
    "                                      min_genes=min_genes)\n",
    "\n",
    "print('Going from %s cells to %s cells'%(tumor_df.shape[0], tumor_data_an.shape[0]))"
   ]
  },
  {
   "cell_type": "markdown",
   "id": "average-aluminum",
   "metadata": {},
   "source": [
    "### Filter genes\n",
    "https://scanpy.readthedocs.io/en/stable/api/scanpy.pp.filter_genes.html"
   ]
  },
  {
   "cell_type": "code",
   "execution_count": null,
   "id": "partial-comparative",
   "metadata": {},
   "outputs": [],
   "source": [
    "min_cells = 3\n",
    "filter_genes = scanpy.pp.filter_genes(tumor_data_an,\n",
    "                                      min_cells=min_cells)\n",
    "\n",
    "print('Going from %s genes to %s genes'%(tumor_df.shape[1], tumor_data_an.shape[1]))"
   ]
  },
  {
   "cell_type": "markdown",
   "id": "03a9e0cb",
   "metadata": {},
   "source": [
    "### Mitochondrial percentage"
   ]
  },
  {
   "cell_type": "code",
   "execution_count": null,
   "id": "2750a89a",
   "metadata": {},
   "outputs": [],
   "source": [
    "MT_prop_df = tumor_data_an.to_df().T\n",
    "MT_genes = np.intersect1d(mitochondrial_df['Hugo'].values, MT_prop_df.index)\n",
    "MT_prop_df['IS_MT'] = (np.isin(MT_prop_df.index, MT_genes))\n",
    "\n",
    "MT_prop_df = MT_prop_df.groupby('IS_MT').agg('sum').T\n",
    "MT_prop_df = (MT_prop_df.T / np.sum(MT_prop_df, axis=1)).T"
   ]
  },
  {
   "cell_type": "code",
   "execution_count": null,
   "id": "6f3f6544",
   "metadata": {},
   "outputs": [],
   "source": [
    "plt.figure(figsize=(4,6))\n",
    "sns.violinplot(y=MT_prop_df[True], orient='v', alpha=0.7)\n",
    "sns.swarmplot(y=MT_prop_df[True].sort_values().head(5000).values, color='black', size=2)\n",
    "sns.swarmplot(y=MT_prop_df[True].sort_values().tail(5000).values, color='black', size=2)\n",
    "\n",
    "plt.ylabel('MT counts / all counts per cell', fontsize=20, color='black')\n",
    "plt.yticks(fontsize=15, color='black')\n",
    "plt.title('MT proportion', fontsize=20, color='black')\n",
    "plt.tight_layout()\n",
    "plt.savefig('%s/MT_proportion.png'%(figure_folder), dpi=300)"
   ]
  },
  {
   "cell_type": "markdown",
   "id": "2eb698be",
   "metadata": {},
   "source": [
    "### Ribosomal percentage"
   ]
  },
  {
   "cell_type": "code",
   "execution_count": null,
   "id": "5f2c4f6d",
   "metadata": {},
   "outputs": [],
   "source": [
    "ribo_prop_df = tumor_data_an.to_df().T\n",
    "ribo_genes = np.intersect1d(ribosomal_genes, ribo_prop_df.index)\n",
    "ribo_prop_df['IS_RIBO'] = np.isin(ribo_prop_df.index, ribo_genes)\n",
    "\n",
    "ribo_prop_df = ribo_prop_df.groupby('IS_RIBO').agg('sum').T\n",
    "ribo_prop_df = (ribo_prop_df.T / np.sum(ribo_prop_df, axis=1)).T"
   ]
  },
  {
   "cell_type": "code",
   "execution_count": null,
   "id": "a8d1c1b2",
   "metadata": {},
   "outputs": [],
   "source": [
    "plt.figure(figsize=(4.5,6))\n",
    "sns.violinplot(y=ribo_prop_df[True], orient='v', alpha=0.7)\n",
    "sns.swarmplot(y=ribo_prop_df[True].sort_values().head(5000).values, color='black', size=2)\n",
    "sns.swarmplot(y=ribo_prop_df[True].sort_values().tail(5000).values, color='black', size=2)\n",
    "\n",
    "plt.ylabel('Ribosomal counts / all counts \\n (per cell)', fontsize=20, color='black')\n",
    "plt.yticks(fontsize=15, color='black')\n",
    "plt.title('Ribosomal gene proportion', fontsize=20, color='black')\n",
    "plt.tight_layout()\n",
    "plt.savefig('%s/Ribo_proportion.png'%(figure_folder), dpi=300)"
   ]
  },
  {
   "cell_type": "code",
   "execution_count": null,
   "id": "0200fa06",
   "metadata": {},
   "outputs": [],
   "source": [
    "ribo_filtering_params = {\n",
    "    'min': 0.05,\n",
    "    'max': 0.6\n",
    "}\n",
    "\n",
    "ribosomal_filtered_samples = ribo_prop_df[(ribo_prop_df[True] < ribo_filtering_params['max'])\\\n",
    "                                          & (ribo_prop_df[True] > ribo_filtering_params['min'])].index\n",
    "print('%s cells filtered'%(ribo_prop_df.shape[0] - ribosomal_filtered_samples.shape[0]))\n",
    "tumor_data_an = tumor_data_an[ribosomal_filtered_samples]"
   ]
  },
  {
   "cell_type": "markdown",
   "id": "2fdd6ef9",
   "metadata": {},
   "source": [
    "### Restriction to protein coding"
   ]
  },
  {
   "cell_type": "code",
   "execution_count": null,
   "id": "8536eac4",
   "metadata": {},
   "outputs": [],
   "source": [
    "data_pc_genes = np.intersect1d(tumor_data_an.var.index, protein_coding_df['Hugo'])\n",
    "tumor_data_an = tumor_data_an[:,data_pc_genes]\n",
    "print('%s PC genes'%(data_pc_genes.shape[0]))"
   ]
  },
  {
   "cell_type": "markdown",
   "id": "younger-landscape",
   "metadata": {},
   "source": [
    "### Highly variable genes\n",
    "https://scanpy.readthedocs.io/en/stable/api/scanpy.pp.highly_variable_genes.html"
   ]
  },
  {
   "cell_type": "code",
   "execution_count": null,
   "id": "based-greece",
   "metadata": {},
   "outputs": [],
   "source": [
    "n_top_genes = 3000\n",
    "\n",
    "scanpy.pp.highly_variable_genes(tumor_data_an, n_top_genes=n_top_genes, flavor='seurat_v3')"
   ]
  },
  {
   "cell_type": "code",
   "execution_count": null,
   "id": "detected-former",
   "metadata": {},
   "outputs": [],
   "source": [
    "high_var_genes = tumor_data_an.var[tumor_data_an.var['highly_variable']].sort_values('highly_variable_rank').index\n",
    "high_var_genes = np.array(high_var_genes).astype(str)"
   ]
  },
  {
   "cell_type": "code",
   "execution_count": null,
   "id": "amber-ensemble",
   "metadata": {},
   "outputs": [],
   "source": [
    "print('%s highly variable genes'%(high_var_genes.shape[0]))\n",
    "print('%s are protein coding'%(np.intersect1d(high_var_genes, protein_coding_df['Hugo'].values).shape[0]))\n",
    "print('%s are MT'%(np.intersect1d(high_var_genes, mitochondrial_df['Hugo'].values).shape[0]))\n",
    "print('%s are ribosomal'%(np.intersect1d(high_var_genes, ribosomal_genes).shape[0]))"
   ]
  },
  {
   "cell_type": "markdown",
   "id": "affecting-inside",
   "metadata": {},
   "source": [
    "## Manual checking to remove outliers"
   ]
  },
  {
   "cell_type": "code",
   "execution_count": null,
   "id": "portable-document",
   "metadata": {},
   "outputs": [],
   "source": [
    "filtered_tumor_data_an = tumor_data_an[:,high_var_genes]"
   ]
  },
  {
   "cell_type": "markdown",
   "id": "corrected-growing",
   "metadata": {},
   "source": [
    "### Gene-level: number of cells expressing a gene"
   ]
  },
  {
   "cell_type": "code",
   "execution_count": null,
   "id": "manufactured-university",
   "metadata": {},
   "outputs": [],
   "source": [
    "plot_df = np.sum(filtered_tumor_data_an.to_df() != 0, axis=0) / filtered_tumor_data_an.shape[0]\n",
    "\n",
    "# fig, axes = plt.subplots(1,2, figsize=(8,5))\n",
    "axes = plt.figure(constrained_layout=True, figsize=(10,5)).subplot_mosaic(\n",
    "    \"\"\"\n",
    "    ABBB\n",
    "    \"\"\"\n",
    ")\n",
    "sns.violinplot(y=plot_df, orient='v', ax=axes['A'])\n",
    "axes['A'].set_ylim(-0.05, 1.05)\n",
    "axes['A'].set_ylabel('Proportion of non zero per gene', fontsize=20, color='black')\n",
    "axes['A'].tick_params(axis='both', which='major', labelsize=15)\n",
    "\n",
    "axes['B'].plot(plot_df.sort_values().values, linewidth=3)\n",
    "axes['B'].set_ylim(-0.05, 1.05)\n",
    "axes['B'].tick_params(axis='both', which='major', labelsize=15)\n",
    "axes['B'].set_xlabel('Gene rank', fontsize=20, color='black')\n",
    "\n",
    "plt.tight_layout()\n",
    "plt.savefig('%s/gene_dropout_rank.png'%(figure_folder), dpi=300)\n",
    "plt.show()\n",
    "\n",
    "del plot_df"
   ]
  },
  {
   "cell_type": "markdown",
   "id": "limiting-review",
   "metadata": {},
   "source": [
    "### Sample-level: library size"
   ]
  },
  {
   "cell_type": "code",
   "execution_count": null,
   "id": "injured-aviation",
   "metadata": {},
   "outputs": [],
   "source": [
    "library_size_df = np.sum(filtered_tumor_data_an.to_df(), axis=1)\n",
    "\n",
    "axes = plt.figure(constrained_layout=True, figsize=(10,5)).subplot_mosaic(\n",
    "    \"\"\"\n",
    "    ABBB\n",
    "    \"\"\"\n",
    ")\n",
    "sns.violinplot(y=library_size_df, orient='v', ax=axes['A'])\n",
    "axes['A'].set_ylabel('Library size per single cell', fontsize=20, color='black')\n",
    "axes['A'].tick_params(axis='both', which='major', labelsize=15)\n",
    "\n",
    "axes['B'].plot(library_size_df.sort_values().values, linewidth=3)\n",
    "axes['B'].tick_params(axis='both', which='major', labelsize=15)\n",
    "axes['B'].set_xlabel('Cell rank', fontsize=20, color='black')\n",
    "\n",
    "plt.tight_layout()\n",
    "plt.savefig('%s/library_size.png'%(figure_folder), dpi=300)\n",
    "plt.show()"
   ]
  },
  {
   "cell_type": "code",
   "execution_count": null,
   "id": "matched-death",
   "metadata": {},
   "outputs": [],
   "source": [
    "threshold_library_size = {'min_library_size': 200, 'max_library_size':15000}\n",
    "\n",
    "selected_cells = (library_size_df > threshold_library_size['min_library_size']) \n",
    "selected_cells = selected_cells & (library_size_df < threshold_library_size['max_library_size'])\n",
    "print('%s cells selected out of %s: %s %%'%(\n",
    "    np.sum(selected_cells),\n",
    "    filtered_tumor_data_an.shape[0],\n",
    "    np.sum(selected_cells) / filtered_tumor_data_an.shape[0] * 100\n",
    "))\n",
    "\n",
    "filtered_tumor_data_an = filtered_tumor_data_an[selected_cells]"
   ]
  },
  {
   "cell_type": "markdown",
   "id": "outside-toilet",
   "metadata": {},
   "source": [
    "### Total expression per gene"
   ]
  },
  {
   "cell_type": "code",
   "execution_count": null,
   "id": "decreased-beijing",
   "metadata": {},
   "outputs": [],
   "source": [
    "gene_total_exp_df = np.sum(filtered_tumor_data_an.to_df(), axis=0)\n",
    "\n",
    "# fig, axes = plt.subplots(1,2, figsize=(8,5))\n",
    "axes = plt.figure(constrained_layout=True, figsize=(10,5)).subplot_mosaic(\n",
    "    \"\"\"\n",
    "    ABBB\n",
    "    \"\"\"\n",
    ")\n",
    "sns.violinplot(y=gene_total_exp_df, orient='v', ax=axes['A'])\n",
    "axes['A'].set_ylabel('Proportion of non zero per gene', fontsize=20, color='black')\n",
    "axes['A'].tick_params(axis='both', which='major', labelsize=15)\n",
    "\n",
    "axes['B'].plot(gene_total_exp_df.sort_values().values, linewidth=3, marker='+')\n",
    "axes['B'].tick_params(axis='both', which='major', labelsize=15)\n",
    "axes['B'].set_xlabel('Gene rank', fontsize=20, color='black')\n",
    "\n",
    "plt.tight_layout()\n",
    "plt.savefig('%s/gene_total_exp.png'%(figure_folder), dpi=300, facecolor='white')\n",
    "plt.show()"
   ]
  },
  {
   "cell_type": "code",
   "execution_count": null,
   "id": "strange-auditor",
   "metadata": {},
   "outputs": [],
   "source": [
    "top_exp_genes = gene_total_exp_df.sort_values().tail(20).index\n",
    "gene_total_exp_df.tail(50).to_csv('%s/exp_genes.csv'%(figure_folder))\n",
    "\n",
    "for g in top_exp_genes:\n",
    "    sns.distplot(filtered_tumor_data_an[:,g].X)\n",
    "    plt.title('Expression of %s'%(g), fontsize=20)\n",
    "    plt.ylabel('Density', fontsize=20, color='black')\n",
    "    plt.xlabel('Expression', fontsize=20, color='black')\n",
    "    plt.xticks(fontsize=15)\n",
    "    plt.yticks(fontsize=15)\n",
    "    plt.tight_layout()\n",
    "    plt.savefig('%s/exp_genes_%s_after_sample_filter.png'%(figure_folder, g),\n",
    "                dpi=300, facecolor='white')\n",
    "    plt.show()"
   ]
  },
  {
   "cell_type": "markdown",
   "id": "loaded-hobby",
   "metadata": {},
   "source": [
    "### Save"
   ]
  },
  {
   "cell_type": "code",
   "execution_count": null,
   "id": "registered-quest",
   "metadata": {},
   "outputs": [],
   "source": [
    "save_df = pd.DataFrame({\n",
    "    'min_cells': [min_cells],\n",
    "    'min_genes': [min_genes],\n",
    "    'n_top_genes': [n_top_genes],\n",
    "    'min_library_size': [threshold_library_size['min_library_size']],\n",
    "    'max_library_size': [threshold_library_size['max_library_size']],\n",
    "    'min_ribosomal_filtering': [ribo_filtering_params['min']],\n",
    "    'max_ribosomal_filtering': [ribo_filtering_params['max']]\n",
    "}).T"
   ]
  },
  {
   "cell_type": "code",
   "execution_count": null,
   "id": "alone-revolution",
   "metadata": {},
   "outputs": [],
   "source": [
    "print('Save AnnData as h5ad')\n",
    "filtered_tumor_data_an.var.fillna(-1, inplace=True)\n",
    "filtered_tumor_data_an.obs['n_genes'] = filtered_tumor_data_an.obs['n_genes'].astype(str)\n",
    "filtered_tumor_data_an.write('%s/lung_data.h5ad'%(scanpy_data_folder))\n",
    "\n",
    "print('Save AnnData as csv')\n",
    "filtered_tumor_data_an.write_csvs('%s/lung_data'%(scanpy_data_folder))\n",
    "\n",
    "print('Save AnnData as pickled DataFrame')\n",
    "filtered_tumor_data_an.to_df().to_pickle('%s/lung_data.pkl'%(scanpy_data_folder), compression='gzip')\n",
    "\n",
    "print('Save AnnData as csv DataFrame')\n",
    "filtered_tumor_data_an.to_df().to_csv('%s/lung_data.csv'%(scanpy_data_folder))\n",
    "\n",
    "print('Save parameters')\n",
    "save_df.to_csv('%s/filtering_params.csv'%(scanpy_data_folder))"
   ]
  }
 ],
 "metadata": {
  "kernelspec": {
   "display_name": "Python [conda env:.conda-sobolev_alignment]",
   "language": "python",
   "name": "conda-env-.conda-sobolev_alignment-py"
  },
  "language_info": {
   "codemirror_mode": {
    "name": "ipython",
    "version": 3
   },
   "file_extension": ".py",
   "mimetype": "text/x-python",
   "name": "python",
   "nbconvert_exporter": "python",
   "pygments_lexer": "ipython3",
   "version": "3.8.8"
  }
 },
 "nbformat": 4,
 "nbformat_minor": 5
}
