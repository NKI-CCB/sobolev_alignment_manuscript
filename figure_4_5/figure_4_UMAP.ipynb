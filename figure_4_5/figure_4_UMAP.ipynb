{
 "cells": [
  {
   "cell_type": "markdown",
   "id": "7bca3a64",
   "metadata": {},
   "source": [
    "# Kinker & Kim : Analysis of feature attribution results. UMAP and low-dimensional view\n",
    "This script loads a Sobolev Alignment instance already computed and generates the UMAP from Figures 4 and 5."
   ]
  },
  {
   "cell_type": "code",
   "execution_count": null,
   "id": "3b0e1995",
   "metadata": {},
   "outputs": [],
   "source": [
    "from supporting_scripts.custom_import import *\n",
    "\n",
    "sys.path.insert(0, '/home/s.mourragui/science/sobolev_alignment/src/sobolev_alignment/')\n",
    "from sobolev_alignment import SobolevAlignment, KRRApprox\n",
    "from supporting_scripts.custom_import import *\n",
    "\n",
    "%config IPCompleter.use_jedi = False"
   ]
  },
  {
   "cell_type": "code",
   "execution_count": null,
   "id": "c5453e1e",
   "metadata": {},
   "outputs": [],
   "source": [
    "output_folder = './output/'\n",
    "n_jobs = 10\n",
    "\n",
    "palette = {\n",
    "    'CELL LINE': '#D62728', \n",
    "    'TUMOR': (0.12156862745098039, 0.47058823529411764, 0.7058823529411765)\n",
    "}\n",
    "markers = {'CELL LINE': 'p', 'TUMOR': 'X'}\n",
    "sizes = {'CELL LINE': 20, 'TUMOR': 15}\n",
    "\n",
    "cmap = matplotlib.colors.LinearSegmentedColormap.from_list('', ['tab:red',\"white\",\"tab:blue\"])"
   ]
  },
  {
   "cell_type": "code",
   "execution_count": null,
   "id": "adaa6955",
   "metadata": {},
   "outputs": [],
   "source": [
    "from supporting_scripts.make_folders import make_figure_folder\n",
    "\n",
    "figure_folder = make_figure_folder(output_folder)\n",
    "\n",
    "if 'UMAP_plots' not in os.listdir(figure_folder):\n",
    "    os.mkdir('%s/UMAP_plots/'%(figure_folder))\n",
    "umap_plot_figure = '%s/UMAP_plots/'%(figure_folder)\n",
    "\n",
    "if 'linear_terms' not in os.listdir(output_folder):\n",
    "    os.mkdir('%s/linear_terms'%(output_folder))\n",
    "    \n",
    "n_iter = np.max([int(re.findall(r'[0-9]+', e)[0]) for e in os.listdir(output_folder) if 'iter' in e])"
   ]
  },
  {
   "cell_type": "markdown",
   "id": "b6a0101b",
   "metadata": {},
   "source": [
    "## Data import\n",
    "### scRNA-seq data used for Sobolev Alignment"
   ]
  },
  {
   "cell_type": "code",
   "execution_count": null,
   "id": "440319ea",
   "metadata": {},
   "outputs": [],
   "source": [
    "from supporting_scripts.read_data import read_data\n",
    "\n",
    "X_source, X_target, cell_line_annot_df, tumor_annot_df, gene_names, barcodes_df = read_data(return_barcodes=True)\n",
    "X_input = {\n",
    "    'source': X_source,\n",
    "    'target': X_target\n",
    "}"
   ]
  },
  {
   "cell_type": "markdown",
   "id": "6e3fdd6a",
   "metadata": {},
   "source": [
    "### CCLE and cell lines general info"
   ]
  },
  {
   "cell_type": "code",
   "execution_count": null,
   "id": "b580b79d",
   "metadata": {},
   "outputs": [],
   "source": [
    "# Load CCLE info\n",
    "cell_line_metadata_file = '../data/Kinker/raw/Metadata.txt'\n",
    "ccle_annot_file = '../data/cell_lines/sample_info.csv'\n",
    "\n",
    "cell_line_inter_df = pd.read_csv(\n",
    "    cell_line_metadata_file,\n",
    "    sep='\\t',\n",
    "    header=[0,1]\n",
    ")\n",
    "cell_line_inter_df.columns = cell_line_inter_df.columns.get_level_values(0)\n",
    "cell_line_annot_df = cell_line_annot_df.merge(\n",
    "    cell_line_inter_df, \n",
    "    left_on='barcode',\n",
    "    right_on='NAME', \n",
    "    how='left'\n",
    ")\n",
    "del cell_line_inter_df\n",
    "\n",
    "ccle_annot_df = pd.read_csv(ccle_annot_file)\n",
    "cell_line_annot_df = cell_line_annot_df.merge(\n",
    "    ccle_annot_df, \n",
    "    left_on='sample', \n",
    "    right_on='CCLE_Name', \n",
    "    how='left'\n",
    ")"
   ]
  },
  {
   "cell_type": "markdown",
   "id": "82386ea5",
   "metadata": {},
   "source": [
    "### Tumor annotations"
   ]
  },
  {
   "cell_type": "code",
   "execution_count": null,
   "id": "e010e5df",
   "metadata": {
    "code_folding": []
   },
   "outputs": [],
   "source": [
    "tumor_annot_inter_df = pd.read_csv('../data/Kim/raw/GSE131907_Lung_Cancer_cell_annotation.txt', sep='\\t')\n",
    "tumor_annot_df = tumor_annot_df.merge(\n",
    "    tumor_annot_inter_df, \n",
    "    left_on='Index', right_on='Index', how='left'\n",
    ")\n",
    "del tumor_annot_inter_df\n",
    "assert np.unique(tumor_annot_df['Cell_type']).shape[0] == 1\n",
    "tumor_annot_df['barcode'] = tumor_annot_df['Index']"
   ]
  },
  {
   "cell_type": "code",
   "execution_count": null,
   "id": "d8702171",
   "metadata": {},
   "outputs": [],
   "source": [
    "patient_info = pd.read_excel('./data/Kim/raw/GSE131907_Lung_Cancer_Feature_Summary.xlsx', index_col=0)\n",
    "patient_info.columns = patient_info.iloc[1].values\n",
    "patient_info = patient_info.iloc[2:]\n",
    "patient_info['sample'] = patient_info['Samples'].str.replace('_', '-')\n",
    "tumor_annot_df = tumor_annot_df.merge(patient_info, left_on='Sample', right_on='Samples', how='left')"
   ]
  },
  {
   "cell_type": "markdown",
   "id": "1b241a63",
   "metadata": {},
   "source": [
    "### Aggregate annotations"
   ]
  },
  {
   "cell_type": "code",
   "execution_count": null,
   "id": "4a482e9c",
   "metadata": {},
   "outputs": [],
   "source": [
    "annot_df = {\n",
    "    'source': cell_line_annot_df,\n",
    "    'target': tumor_annot_df\n",
    "}\n",
    "\n",
    "combined_annot_df = pd.concat(\n",
    "    [X_source.obs, X_target.obs]\n",
    ")\n",
    "combined_annot_df['type'] = ['CELL_LINE'] * X_source.shape[0] + ['TUMOR'] * X_target.shape[0]\n",
    "\n",
    "is_tumor = combined_annot_df['type'] == 'TUMOR'\n",
    "combined_annot_df.loc[is_tumor, 'UMI'] += '_' + combined_annot_df.loc[is_tumor, 'sample']\n",
    "del is_tumor"
   ]
  },
  {
   "cell_type": "markdown",
   "id": "02c93ddc",
   "metadata": {},
   "source": [
    "## Import Sobolev Alignment"
   ]
  },
  {
   "cell_type": "code",
   "execution_count": null,
   "id": "c173e468",
   "metadata": {},
   "outputs": [],
   "source": [
    "iter_idx = 0\n",
    "sobolev_alignment_clf = {}\n",
    "\n",
    "# Load Sobolev Alignment\n",
    "for kernel_type in ['laplacian', 'gaussian']:\n",
    "    if 'iter_%s_nu_%s'%(iter_idx, kernel_type) not in os.listdir(output_folder):\n",
    "        continue\n",
    "    sobolev_alignment_clf[kernel_type] = SobolevAlignment.load(\n",
    "        '%s/iter_%s_nu_%s/sobolev_alignment_model'%(output_folder, iter_idx, kernel_type),\n",
    "        with_krr=True,\n",
    "        with_model=False\n",
    "    )\n",
    "\n",
    "    sobolev_alignment_clf[kernel_type].training_data = {\n",
    "        'source': X_source,\n",
    "        'target': X_target\n",
    "    }\n",
    "    \n",
    "    sobolev_alignment_clf[kernel_type].krr_log_input_ = True"
   ]
  },
  {
   "cell_type": "markdown",
   "id": "dfe04271",
   "metadata": {},
   "source": [
    "## Embedding"
   ]
  },
  {
   "cell_type": "code",
   "execution_count": null,
   "id": "7ac1f045",
   "metadata": {},
   "outputs": [],
   "source": [
    "latent_embedding = {\n",
    "    x: pd.read_csv('%s/scvi_embedding_%s.csv'%(output_folder, x), header=None, sep=' ')\n",
    "    for x in ['source', 'target']\n",
    "}"
   ]
  },
  {
   "cell_type": "markdown",
   "id": "9563a7b5",
   "metadata": {},
   "source": [
    "## Check error"
   ]
  },
  {
   "cell_type": "code",
   "execution_count": null,
   "id": "025033dc",
   "metadata": {},
   "outputs": [],
   "source": [
    "plt.figure(figsize=(8,3))\n",
    "prediction_latent_corr = {}\n",
    "for data_source in ['source', 'target']:\n",
    "    print('START %s'%(data_source))\n",
    "    \n",
    "    prediction_latent_corr[data_source] = []\n",
    "    krr_pred = sobolev_alignment_clf['laplacian'].approximate_krr_regressions_[data_source].transform(\n",
    "        torch.Tensor(\n",
    "            sobolev_alignment_clf['laplacian']._frobenius_normalisation(\n",
    "                data_source,\n",
    "                np.log10(X_input[data_source].X + 1),\n",
    "                frob_norm_source=True\n",
    "        )\n",
    "    ))\n",
    "    target_spearman_corr = []\n",
    "    for x in range(krr_pred.shape[1]):\n",
    "        prediction_latent_corr[data_source].append(\n",
    "            scipy.stats.spearmanr(krr_pred[:,x], latent_embedding[data_source][x])[0]\n",
    "        )\n",
    "        \n",
    "    sns.distplot(\n",
    "        prediction_latent_corr[data_source], \n",
    "        label='CELL LINE' if data_source == 'source' else 'TUMOR',\n",
    "        kde_kws={\"lw\": 3}\n",
    "    )\n",
    "    \n",
    "plt.xlabel('Spearman correlation between\\n KRR and scVI', fontsize=20, color='black')\n",
    "plt.xticks(fontsize=15)\n",
    "plt.ylabel('Proportion', fontsize=20, color='black')\n",
    "plt.yticks([], [])\n",
    "plt.legend(fontsize=15)\n",
    "plt.tight_layout()\n",
    "plt.savefig('%s/hist_spearman_corr_reconstruction_latent.png'%(figure_folder))\n",
    "plt.show()"
   ]
  },
  {
   "cell_type": "markdown",
   "id": "0f7cdb32",
   "metadata": {},
   "source": [
    "### Null model"
   ]
  },
  {
   "cell_type": "code",
   "execution_count": null,
   "id": "4e9cbbaa",
   "metadata": {},
   "outputs": [],
   "source": [
    "null_model_files = [e for e in os.listdir(output_folder) if 'null' in e]\n",
    "print('AVAILABLE FILES:\\n%s'%('\\n'.join(null_model_files)))"
   ]
  },
  {
   "cell_type": "code",
   "execution_count": null,
   "id": "91acf511",
   "metadata": {},
   "outputs": [],
   "source": [
    "null_model_file = 'null_model_laplacian_perm_100.csv'\n",
    "kernel_type = 'laplacian'\n",
    "\n",
    "plt.figure(figsize=(8,4))\n",
    "null_model_df = pd.read_csv('%s/%s'%(output_folder, null_model_file), index_col=0)\n",
    "plt.plot(\n",
    "    sobolev_alignment_clf[kernel_type].principal_angles, \n",
    "    marker='s',\n",
    "    markersize=10\n",
    ")\n",
    "plt.axhline(np.max(null_model_df.values[0]), linestyle='--', color='grey', linewidth=3)\n",
    "plt.xlabel('SPV number', fontsize=20, color='black')\n",
    "plt.ylabel('SPV similarity', fontsize=20, color='black')\n",
    "plt.xticks(\n",
    "    np.arange(null_model_df.shape[0], step=1),\n",
    "    np.arange(null_model_df.shape[0], step=1)+1,\n",
    "    fontsize=15,\n",
    "    color='black'\n",
    ")\n",
    "plt.yticks(fontsize=15,\n",
    "          color='black')\n",
    "plt.tight_layout()\n",
    "plt.savefig('%s/PV_similarity_null_model_%s.png'%(figure_folder, kernel_type), dpi=300)\n",
    "plt.show()\n",
    "\n",
    "print('%s shared latent factors'%(\n",
    "    np.sum(sobolev_alignment_clf[kernel_type].principal_angles > np.max(null_model_df.values[0]))\n",
    "))\n",
    "del kernel_type"
   ]
  },
  {
   "cell_type": "code",
   "execution_count": null,
   "id": "52fa3da5",
   "metadata": {},
   "outputs": [],
   "source": [
    "sample_permut_principal_angles = []\n",
    "for gsea_subfolder in os.listdir('%s/GSEA_null/'%(output_folder)):\n",
    "    if not os.path.isdir('%s/GSEA_null/%s'%(output_folder, gsea_subfolder)):\n",
    "        continue\n",
    "    sample_permut_principal_angles.append(\n",
    "        SobolevAlignment.load(\n",
    "            '%s/GSEA_null/%s'%(output_folder, gsea_subfolder),\n",
    "            with_krr=True,\n",
    "            with_model=False\n",
    "        ).principal_angles\n",
    "    )"
   ]
  },
  {
   "cell_type": "markdown",
   "id": "c792dfe9",
   "metadata": {},
   "source": [
    "## Interpolation"
   ]
  },
  {
   "cell_type": "code",
   "execution_count": null,
   "id": "3a72a4f1",
   "metadata": {},
   "outputs": [],
   "source": [
    "interpolated_proj_df = sobolev_alignment_clf['laplacian'].compute_consensus_features(X_input, n_similar_pv=12)\n",
    "interpolated_proj_df.index = pd.MultiIndex.from_frame(combined_annot_df)\n",
    "interpolated_proj_df = interpolated_proj_df.reset_index()\n",
    "interpolated_proj_df['type'] = interpolated_proj_df['type'].str.replace('CELL_LINE', 'CELL LINE')"
   ]
  },
  {
   "cell_type": "markdown",
   "id": "69944745",
   "metadata": {},
   "source": [
    "## Projection on interpolated joint"
   ]
  },
  {
   "cell_type": "code",
   "execution_count": null,
   "id": "bccc33c8",
   "metadata": {},
   "outputs": [],
   "source": [
    "n_similar_pv = 12"
   ]
  },
  {
   "cell_type": "code",
   "execution_count": null,
   "id": "e2b15a7d",
   "metadata": {},
   "outputs": [],
   "source": [
    "interpolated_proj_df.set_index(['UMI', 'sample', 'pool', 'type'])[range(n_similar_pv)].to_csv(\n",
    "    '%s/interpolated_projected_data.csv'%(figure_folder)\n",
    ")"
   ]
  },
  {
   "cell_type": "code",
   "execution_count": null,
   "id": "2584ac0f",
   "metadata": {},
   "outputs": [],
   "source": [
    "# Project on optimal interpolation time\n",
    "metric = 'cosine'\n",
    "n_neighbors = 15\n",
    "min_dist = 0.2\n",
    "n_epochs = 5000\n",
    "\n",
    "umap_interpolated_pv_clf = umap.UMAP(\n",
    "    verbose=5, \n",
    "    n_neighbors=n_neighbors,\n",
    "    metric=metric,\n",
    "    min_dist=min_dist, \n",
    "    n_components=2,\n",
    "    init='spectral',\n",
    "    learning_rate=0.2,\n",
    "    n_epochs=n_epochs\n",
    ")\n",
    "\n",
    "umap_proj_df = umap_interpolated_pv_clf.fit_transform(\n",
    "    interpolated_proj_df[range(n_similar_pv)].values\n",
    ")\n",
    "umap_proj_df = pd.DataFrame(umap_proj_df, columns=['UMAP 1', 'UMAP 2'])\n",
    "\n",
    "for x in ['UMAP 1', 'UMAP 2']:\n",
    "    if x in interpolated_proj_df.columns:\n",
    "        del interpolated_proj_df[x]\n",
    "interpolated_proj_df = pd.concat([\n",
    "    interpolated_proj_df.reset_index(drop=True), \n",
    "    umap_proj_df.reset_index(drop=True)],\n",
    "    axis=1\n",
    ")\n"
   ]
  },
  {
   "cell_type": "code",
   "execution_count": null,
   "id": "fa54197a",
   "metadata": {},
   "outputs": [],
   "source": [
    "plt.figure(figsize=(12, 12))\n",
    "\n",
    "fig = pylab.figure(figsize=(10,10))\n",
    "figlegend = pylab.figure(figsize=(10,10))\n",
    "ax = fig.add_subplot(111)\n",
    "\n",
    "sns.scatterplot(\n",
    "    data=interpolated_proj_df.sample(interpolated_proj_df.shape[0]), \n",
    "    x='UMAP 1', y='UMAP 2',\n",
    "    hue='type', style='type', size='type',\n",
    "    alpha=0.9,\n",
    "    palette=palette, sizes=sizes, markers=markers,\n",
    "    ax=ax          \n",
    ")\n",
    "\n",
    "ax.set_xlabel('UMAP 1', fontsize=20, color='black')\n",
    "ax.set_ylabel('UMAP 2', fontsize=20, color='black')\n",
    "ax.tick_params(axis='both', labelsize=15, color='black')\n",
    "\n",
    "pylab.figlegend(*ax.get_legend_handles_labels(), loc = 'upper left', ncol=3, fontsize=15)\n",
    "figlegend.tight_layout()\n",
    "figlegend.savefig(\n",
    "    '%s/UMAP_combined_interpolated_data_top_PV_embedding_metric_%s_neighbors_%s_mindist_%s_legend.png'%(\n",
    "        figure_folder, metric, n_neighbors, min_dist\n",
    "    ),\n",
    "    dpi=300\n",
    ")\n",
    "ax.get_legend().remove()\n",
    "    \n",
    "fig.tight_layout()\n",
    "fig.savefig(\n",
    "    '%s/UMAP_combined_interpolated_data_top_PV_embedding_metric_%s_neighbors_%s_mindist_%s.png'%(\n",
    "        umap_plot_figure, metric, n_neighbors, min_dist\n",
    "    ), \n",
    "    dpi=300\n",
    "           )"
   ]
  },
  {
   "cell_type": "markdown",
   "id": "0a4cc353",
   "metadata": {},
   "source": [
    "## Interpolation\n",
    "### MNN correction"
   ]
  },
  {
   "cell_type": "code",
   "execution_count": null,
   "id": "f9009127",
   "metadata": {},
   "outputs": [],
   "source": [
    "# Save for R usage\n",
    "interpolated_proj_df.set_index(['UMI', 'sample', 'pool', 'type'])[range(n_similar_pv)].to_csv(\n",
    "    '%s/interpolated_projected_data.csv'%(figure_folder)\n",
    ")"
   ]
  },
  {
   "cell_type": "code",
   "execution_count": null,
   "id": "7ff68f62",
   "metadata": {},
   "outputs": [],
   "source": [
    "importr('batchelor')\n",
    "importr('scater')\n",
    "importr('batchelor')\n",
    "importr('wordspace')\n",
    "importr('dplyr')\n",
    "importr('uwot')\n",
    "\n",
    "robjects.r('''\n",
    "    figure_folder <- \"../figures/\"\n",
    "    combined_interpolated_data <- read.csv(paste(figure_folder, \"interpolated_projected_data.csv\", sep=\"\"))\n",
    "\n",
    "    # Restrict data\n",
    "    cell_line_interpolated_data <- combined_interpolated_data[combined_interpolated_data$type == \"CELL LINE\",]\n",
    "    tumor_interpolated_data <- combined_interpolated_data[combined_interpolated_data$type == \"TUMOR\",]\n",
    "\n",
    "    # Format\n",
    "    cell_line_interpolated_data <- t(subset(cell_line_interpolated_data, select=-c(1,2,3,4)))\n",
    "    tumor_interpolated_data <- t(subset(tumor_interpolated_data, select=-c(1,2,3,4)))\n",
    "    \n",
    "    # Correct with MNN\n",
    "    interpolated_corrected.signal<- mnnCorrect(\n",
    "        cell_line_interpolated_data,\n",
    "        tumor_interpolated_data,\n",
    "        cos.norm.in = TRUE, \n",
    "        cos.norm.out = TRUE\n",
    "    )\n",
    "    \n",
    "    # Save\n",
    "    write.csv(\n",
    "        interpolated_corrected.signal@assays@data$corrected,\n",
    "        paste(figure_folder, \"interpolated_projected_mnn_corrected_data.csv\", sep=\"\")\n",
    "    )\n",
    "''')"
   ]
  },
  {
   "cell_type": "code",
   "execution_count": null,
   "id": "895241a7",
   "metadata": {},
   "outputs": [],
   "source": [
    "# import data after MNN correction\n",
    "MNN_corrected_interpolation = pd.read_csv(\n",
    "    '%s/interpolated_projected_mnn_corrected_data.csv'%(figure_folder),\n",
    "    index_col=0\n",
    ")\n",
    "MNN_corrected_interpolation = MNN_corrected_interpolation.T\n",
    "MNN_corrected_interpolation.index = pd.MultiIndex.from_frame(interpolated_proj_df[['type', 'UMI', 'sample', 'pool']])\n",
    "MNN_corrected_interpolation.index = MNN_corrected_interpolation.index.swaplevel(1,2)"
   ]
  },
  {
   "cell_type": "markdown",
   "id": "65a8e07c",
   "metadata": {},
   "source": [
    "### UMAP"
   ]
  },
  {
   "cell_type": "code",
   "execution_count": null,
   "id": "33852b77",
   "metadata": {},
   "outputs": [],
   "source": [
    "# Project on optimal interpolation time\n",
    "metric = 'cosine'\n",
    "n_neighbors = 20\n",
    "min_dist = 0.15\n",
    "n_epochs = 5000\n",
    "\n",
    "umap_mnn_interpolated_pv_clf = umap.UMAP(\n",
    "    verbose=5, \n",
    "    n_neighbors=n_neighbors,\n",
    "    metric=metric,\n",
    "    min_dist=min_dist, \n",
    "    n_components=2,\n",
    "    learning_rate=2.,\n",
    "    init='spectral',\n",
    "    n_epochs=n_epochs\n",
    ")\n",
    "\n",
    "umap_mnn_interpolated_proj_df = umap_mnn_interpolated_pv_clf.fit_transform(\n",
    "    MNN_corrected_interpolation\n",
    ")\n",
    "umap_mnn_interpolated_proj_df = pd.DataFrame(umap_mnn_interpolated_proj_df, columns=['UMAP 1', 'UMAP 2'])\n",
    "umap_mnn_interpolated_proj_df.index = MNN_corrected_interpolation.index\n",
    "umap_mnn_interpolated_proj_df = umap_mnn_interpolated_proj_df.reset_index()\n",
    "\n",
    "dump(\n",
    "    umap_mnn_interpolated_pv_clf,\n",
    "    open('%s/UMAP_combined_data_interpolated_embedding_metric_%s_neighbors_%s_mindist_%s.pkl'%(\n",
    "        umap_plot_figure, metric, n_neighbors, min_dist\n",
    "    ), 'wb')\n",
    ")"
   ]
  },
  {
   "cell_type": "markdown",
   "id": "a391c9ac",
   "metadata": {},
   "source": [
    "### Cell lines vs Tumors"
   ]
  },
  {
   "cell_type": "code",
   "execution_count": null,
   "id": "9cf68ab1",
   "metadata": {},
   "outputs": [],
   "source": [
    "plt.figure(figsize=(12, 12))\n",
    "\n",
    "fig = pylab.figure(figsize=(10,10))\n",
    "figlegend = pylab.figure(figsize=(10,10))\n",
    "ax = fig.add_subplot(111)\n",
    "\n",
    "sns.scatterplot(\n",
    "    data=umap_mnn_interpolated_proj_df.sample(umap_mnn_interpolated_proj_df.shape[0]), \n",
    "    x='UMAP 1', y='UMAP 2',\n",
    "    hue='type', style='type', size='type',\n",
    "    palette=palette, markers=markers, sizes=sizes,\n",
    "    alpha=0.9, ax=ax\n",
    ")\n",
    "\n",
    "ax.set_xlabel('UMAP 1', fontsize=30, color='black')\n",
    "ax.set_ylabel('UMAP 2', fontsize=30, color='black')\n",
    "ax.tick_params(axis='both', labelsize=20, color='black')\n",
    "\n",
    "pylab.figlegend(*ax.get_legend_handles_labels(), loc = 'upper left', ncol=1, fontsize=15)\n",
    "figlegend.tight_layout()\n",
    "figlegend.savefig(\n",
    "    '%s/UMAP_combined_data_interpolated_embedding_metric_%s_neighbors_%s_mindist_%s_legend.png'%(\n",
    "        umap_plot_figure, metric, n_neighbors, min_dist\n",
    "    ), dpi=300\n",
    ")\n",
    "ax.get_legend().remove()\n",
    "    \n",
    "fig.tight_layout()\n",
    "fig.savefig(\n",
    "    '%s/UMAP_combined_data_interpolated_embedding_metric_%s_neighbors_%s_mindist_%s.png'%(\n",
    "        umap_plot_figure, metric, n_neighbors, min_dist\n",
    "    ), dpi=300\n",
    ")"
   ]
  },
  {
   "cell_type": "markdown",
   "id": "9c94fcb1",
   "metadata": {},
   "source": [
    "### Colored by samples"
   ]
  },
  {
   "cell_type": "code",
   "execution_count": null,
   "id": "fc991113",
   "metadata": {},
   "outputs": [],
   "source": [
    "g = sns.relplot(\n",
    "    data=umap_mnn_interpolated_proj_df.sample(umap_mnn_interpolated_proj_df.shape[0]),\n",
    "    x='UMAP 1', y='UMAP 2',\n",
    "    col='type', hue='sample', style='type', size='type',\n",
    "    markers=markers, sizes=sizes,\n",
    "    height=7, legend='brief'\n",
    ")\n",
    "\n",
    "plt.savefig(\n",
    "    '%s/UMAP_combined_data_interpolated_embedding__sample_metric_%s_neighbors_%s_mindist_%s.png'%(\n",
    "        umap_plot_figure, metric, n_neighbors, min_dist\n",
    "    ),\n",
    "    dpi=300\n",
    ")\n",
    "\n",
    "plt.show()\n",
    "\n",
    "# Sabe legend\n",
    "plt.figure(figsize=(10,10))\n",
    "plt.grid(False)\n",
    "plt.axis('off')\n",
    "plt.xticks([])\n",
    "plt.yticks([])\n",
    "h,l = g.axes[0][0].get_legend_handles_labels()\n",
    "plt.legend(h, l, loc=0, ncol=3, fontsize=15)\n",
    "plt.tight_layout()\n",
    "plt.savefig(\n",
    "    '%s/UMAP_combined_data_interpolated_embedding__sample_metric_%s_neighbors_%s_mindist_%s_legend.png'%(\n",
    "        umap_plot_figure, metric, n_neighbors, min_dist\n",
    "    ),\n",
    "    dpi=300\n",
    ")"
   ]
  },
  {
   "cell_type": "markdown",
   "id": "83db5c2e",
   "metadata": {},
   "source": [
    "## Colored by PV value"
   ]
  },
  {
   "cell_type": "code",
   "execution_count": null,
   "id": "27abdb80",
   "metadata": {},
   "outputs": [],
   "source": [
    "# Merge PV values\n",
    "global_mnn_interpolated_proj_df = umap_mnn_interpolated_proj_df.merge(\n",
    "    interpolated_proj_df.rename(columns={e:'PV %s'%(e) for e in range(n_similar_pv)}),\n",
    "    on=['UMI', 'sample', 'pool', 'type'],\n",
    "    how='left',\n",
    "    suffixes=('_MNN', '_raw')\n",
    ")"
   ]
  },
  {
   "cell_type": "code",
   "execution_count": null,
   "id": "cc338425",
   "metadata": {
    "scrolled": true
   },
   "outputs": [],
   "source": [
    "# PV_view_sizes = {'CELL LINE': 30, 'TUMOR': 20}\n",
    "\n",
    "for PV_number in range(n_similar_pv):\n",
    "    fig = pylab.figure(figsize=(10,10))\n",
    "    figlegend = pylab.figure(figsize=(10,10))\n",
    "    ax = fig.add_subplot(111)\n",
    "\n",
    "    plt.figure(figsize=(12, 12))\n",
    "    sns.scatterplot(\n",
    "        data=global_mnn_interpolated_proj_df.sample(global_mnn_interpolated_proj_df.shape[0]),\n",
    "        x='UMAP 1_MNN', y='UMAP 2_MNN',\n",
    "        hue='PV %s_clipped'%(PV_number), style='type', size='type',\n",
    "        markers=markers, sizes=sizes,\n",
    "        palette=cmap, ax=ax\n",
    "    )\n",
    "\n",
    "    ax.set_xlabel('UMAP 1', fontsize=30, color='black')\n",
    "    ax.set_ylabel('UMAP 2', fontsize=30, color='black')\n",
    "    ax.tick_params(axis='both', labelsize=20, color='black')\n",
    "\n",
    "    pylab.figlegend(*ax.get_legend_handles_labels(), loc = 'upper left', ncol=3, fontsize=15)\n",
    "    figlegend.tight_layout()\n",
    "    figlegend.savefig(\n",
    "        '%s/UMAP_combined_data_interpolated_embedding_PV_%s_metric_%s_neighbors_%s_mindist_%s_legend.png'%(\n",
    "            umap_plot_figure, PV_number, metric, n_neighbors, min_dist\n",
    "        ),\n",
    "        dpi=300\n",
    "    )\n",
    "    ax.get_legend().remove()\n",
    "\n",
    "    fig.tight_layout()\n",
    "    fig.savefig(\n",
    "        '%s/UMAP_combined_data_interpolated_embedding_PV_%s_metric_%s_neighbors_%s_mindist_%s.png'%(\n",
    "            umap_plot_figure, PV_number, metric, n_neighbors, min_dist\n",
    "        ), \n",
    "        dpi=300\n",
    "               )\n",
    "    plt.show()"
   ]
  }
 ],
 "metadata": {
  "kernelspec": {
   "display_name": "Python (sobolev_alignment)",
   "language": "python",
   "name": "sobolev_alignment"
  },
  "language_info": {
   "codemirror_mode": {
    "name": "ipython",
    "version": 3
   },
   "file_extension": ".py",
   "mimetype": "text/x-python",
   "name": "python",
   "nbconvert_exporter": "python",
   "pygments_lexer": "ipython3",
   "version": "3.8.8"
  }
 },
 "nbformat": 4,
 "nbformat_minor": 5
}
